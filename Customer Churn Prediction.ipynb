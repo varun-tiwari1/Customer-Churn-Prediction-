{
 "cells": [
  {
   "cell_type": "markdown",
   "id": "3afff43d",
   "metadata": {},
   "source": [
    "# Customer Churn Prediction"
   ]
  },
  {
   "cell_type": "code",
   "execution_count": 1,
   "id": "6e1514c2",
   "metadata": {},
   "outputs": [],
   "source": [
    "import numpy as np\n",
    "import pandas as pd\n",
    "import matplotlib.pyplot as plt\n",
    "import seaborn as sns\n",
    "import tensorflow as tf\n",
    "from tensorflow import keras"
   ]
  },
  {
   "cell_type": "code",
   "execution_count": 2,
   "id": "08b7f8bf",
   "metadata": {},
   "outputs": [],
   "source": [
    "data=pd.read_csv(\"customer_churn.csv\")"
   ]
  },
  {
   "cell_type": "code",
   "execution_count": 3,
   "id": "47364c78",
   "metadata": {},
   "outputs": [
    {
     "data": {
      "text/html": [
       "<div>\n",
       "<style scoped>\n",
       "    .dataframe tbody tr th:only-of-type {\n",
       "        vertical-align: middle;\n",
       "    }\n",
       "\n",
       "    .dataframe tbody tr th {\n",
       "        vertical-align: top;\n",
       "    }\n",
       "\n",
       "    .dataframe thead th {\n",
       "        text-align: right;\n",
       "    }\n",
       "</style>\n",
       "<table border=\"1\" class=\"dataframe\">\n",
       "  <thead>\n",
       "    <tr style=\"text-align: right;\">\n",
       "      <th></th>\n",
       "      <th>customerID</th>\n",
       "      <th>gender</th>\n",
       "      <th>SeniorCitizen</th>\n",
       "      <th>Partner</th>\n",
       "      <th>Dependents</th>\n",
       "      <th>tenure</th>\n",
       "      <th>PhoneService</th>\n",
       "      <th>MultipleLines</th>\n",
       "      <th>InternetService</th>\n",
       "      <th>OnlineSecurity</th>\n",
       "      <th>...</th>\n",
       "      <th>DeviceProtection</th>\n",
       "      <th>TechSupport</th>\n",
       "      <th>StreamingTV</th>\n",
       "      <th>StreamingMovies</th>\n",
       "      <th>Contract</th>\n",
       "      <th>PaperlessBilling</th>\n",
       "      <th>PaymentMethod</th>\n",
       "      <th>MonthlyCharges</th>\n",
       "      <th>TotalCharges</th>\n",
       "      <th>Churn</th>\n",
       "    </tr>\n",
       "  </thead>\n",
       "  <tbody>\n",
       "    <tr>\n",
       "      <th>0</th>\n",
       "      <td>7590-VHVEG</td>\n",
       "      <td>Female</td>\n",
       "      <td>0</td>\n",
       "      <td>Yes</td>\n",
       "      <td>No</td>\n",
       "      <td>1</td>\n",
       "      <td>No</td>\n",
       "      <td>No phone service</td>\n",
       "      <td>DSL</td>\n",
       "      <td>No</td>\n",
       "      <td>...</td>\n",
       "      <td>No</td>\n",
       "      <td>No</td>\n",
       "      <td>No</td>\n",
       "      <td>No</td>\n",
       "      <td>Month-to-month</td>\n",
       "      <td>Yes</td>\n",
       "      <td>Electronic check</td>\n",
       "      <td>29.85</td>\n",
       "      <td>29.85</td>\n",
       "      <td>No</td>\n",
       "    </tr>\n",
       "    <tr>\n",
       "      <th>1</th>\n",
       "      <td>5575-GNVDE</td>\n",
       "      <td>Male</td>\n",
       "      <td>0</td>\n",
       "      <td>No</td>\n",
       "      <td>No</td>\n",
       "      <td>34</td>\n",
       "      <td>Yes</td>\n",
       "      <td>No</td>\n",
       "      <td>DSL</td>\n",
       "      <td>Yes</td>\n",
       "      <td>...</td>\n",
       "      <td>Yes</td>\n",
       "      <td>No</td>\n",
       "      <td>No</td>\n",
       "      <td>No</td>\n",
       "      <td>One year</td>\n",
       "      <td>No</td>\n",
       "      <td>Mailed check</td>\n",
       "      <td>56.95</td>\n",
       "      <td>1889.5</td>\n",
       "      <td>No</td>\n",
       "    </tr>\n",
       "    <tr>\n",
       "      <th>2</th>\n",
       "      <td>3668-QPYBK</td>\n",
       "      <td>Male</td>\n",
       "      <td>0</td>\n",
       "      <td>No</td>\n",
       "      <td>No</td>\n",
       "      <td>2</td>\n",
       "      <td>Yes</td>\n",
       "      <td>No</td>\n",
       "      <td>DSL</td>\n",
       "      <td>Yes</td>\n",
       "      <td>...</td>\n",
       "      <td>No</td>\n",
       "      <td>No</td>\n",
       "      <td>No</td>\n",
       "      <td>No</td>\n",
       "      <td>Month-to-month</td>\n",
       "      <td>Yes</td>\n",
       "      <td>Mailed check</td>\n",
       "      <td>53.85</td>\n",
       "      <td>108.15</td>\n",
       "      <td>Yes</td>\n",
       "    </tr>\n",
       "    <tr>\n",
       "      <th>3</th>\n",
       "      <td>7795-CFOCW</td>\n",
       "      <td>Male</td>\n",
       "      <td>0</td>\n",
       "      <td>No</td>\n",
       "      <td>No</td>\n",
       "      <td>45</td>\n",
       "      <td>No</td>\n",
       "      <td>No phone service</td>\n",
       "      <td>DSL</td>\n",
       "      <td>Yes</td>\n",
       "      <td>...</td>\n",
       "      <td>Yes</td>\n",
       "      <td>Yes</td>\n",
       "      <td>No</td>\n",
       "      <td>No</td>\n",
       "      <td>One year</td>\n",
       "      <td>No</td>\n",
       "      <td>Bank transfer (automatic)</td>\n",
       "      <td>42.30</td>\n",
       "      <td>1840.75</td>\n",
       "      <td>No</td>\n",
       "    </tr>\n",
       "    <tr>\n",
       "      <th>4</th>\n",
       "      <td>9237-HQITU</td>\n",
       "      <td>Female</td>\n",
       "      <td>0</td>\n",
       "      <td>No</td>\n",
       "      <td>No</td>\n",
       "      <td>2</td>\n",
       "      <td>Yes</td>\n",
       "      <td>No</td>\n",
       "      <td>Fiber optic</td>\n",
       "      <td>No</td>\n",
       "      <td>...</td>\n",
       "      <td>No</td>\n",
       "      <td>No</td>\n",
       "      <td>No</td>\n",
       "      <td>No</td>\n",
       "      <td>Month-to-month</td>\n",
       "      <td>Yes</td>\n",
       "      <td>Electronic check</td>\n",
       "      <td>70.70</td>\n",
       "      <td>151.65</td>\n",
       "      <td>Yes</td>\n",
       "    </tr>\n",
       "  </tbody>\n",
       "</table>\n",
       "<p>5 rows × 21 columns</p>\n",
       "</div>"
      ],
      "text/plain": [
       "   customerID  gender  SeniorCitizen Partner Dependents  tenure PhoneService  \\\n",
       "0  7590-VHVEG  Female              0     Yes         No       1           No   \n",
       "1  5575-GNVDE    Male              0      No         No      34          Yes   \n",
       "2  3668-QPYBK    Male              0      No         No       2          Yes   \n",
       "3  7795-CFOCW    Male              0      No         No      45           No   \n",
       "4  9237-HQITU  Female              0      No         No       2          Yes   \n",
       "\n",
       "      MultipleLines InternetService OnlineSecurity  ... DeviceProtection  \\\n",
       "0  No phone service             DSL             No  ...               No   \n",
       "1                No             DSL            Yes  ...              Yes   \n",
       "2                No             DSL            Yes  ...               No   \n",
       "3  No phone service             DSL            Yes  ...              Yes   \n",
       "4                No     Fiber optic             No  ...               No   \n",
       "\n",
       "  TechSupport StreamingTV StreamingMovies        Contract PaperlessBilling  \\\n",
       "0          No          No              No  Month-to-month              Yes   \n",
       "1          No          No              No        One year               No   \n",
       "2          No          No              No  Month-to-month              Yes   \n",
       "3         Yes          No              No        One year               No   \n",
       "4          No          No              No  Month-to-month              Yes   \n",
       "\n",
       "               PaymentMethod MonthlyCharges  TotalCharges Churn  \n",
       "0           Electronic check          29.85         29.85    No  \n",
       "1               Mailed check          56.95        1889.5    No  \n",
       "2               Mailed check          53.85        108.15   Yes  \n",
       "3  Bank transfer (automatic)          42.30       1840.75    No  \n",
       "4           Electronic check          70.70        151.65   Yes  \n",
       "\n",
       "[5 rows x 21 columns]"
      ]
     },
     "execution_count": 3,
     "metadata": {},
     "output_type": "execute_result"
    }
   ],
   "source": [
    "data.head()"
   ]
  },
  {
   "cell_type": "markdown",
   "id": "063d54ed",
   "metadata": {},
   "source": [
    "## Data Cleaning and Preprocessing"
   ]
  },
  {
   "cell_type": "code",
   "execution_count": 4,
   "id": "af432aa9",
   "metadata": {},
   "outputs": [],
   "source": [
    "data.drop(\"customerID\",axis=\"columns\",inplace=True)"
   ]
  },
  {
   "cell_type": "code",
   "execution_count": 5,
   "id": "a70f937c",
   "metadata": {},
   "outputs": [
    {
     "data": {
      "text/plain": [
       "gender               object\n",
       "SeniorCitizen         int64\n",
       "Partner              object\n",
       "Dependents           object\n",
       "tenure                int64\n",
       "PhoneService         object\n",
       "MultipleLines        object\n",
       "InternetService      object\n",
       "OnlineSecurity       object\n",
       "OnlineBackup         object\n",
       "DeviceProtection     object\n",
       "TechSupport          object\n",
       "StreamingTV          object\n",
       "StreamingMovies      object\n",
       "Contract             object\n",
       "PaperlessBilling     object\n",
       "PaymentMethod        object\n",
       "MonthlyCharges      float64\n",
       "TotalCharges         object\n",
       "Churn                object\n",
       "dtype: object"
      ]
     },
     "execution_count": 5,
     "metadata": {},
     "output_type": "execute_result"
    }
   ],
   "source": [
    "data.dtypes"
   ]
  },
  {
   "cell_type": "code",
   "execution_count": 6,
   "id": "f7fe22fc",
   "metadata": {},
   "outputs": [
    {
     "name": "stdout",
     "output_type": "stream",
     "text": [
      "gender : ['Female' 'Male']\n",
      "SeniorCitizen : [0 1]\n",
      "Partner : ['Yes' 'No']\n",
      "Dependents : ['No' 'Yes']\n",
      "tenure : [ 1 34  2 45  8 22 10 28 62 13 16 58 49 25 69 52 71 21 12 30 47 72 17 27\n",
      "  5 46 11 70 63 43 15 60 18 66  9  3 31 50 64 56  7 42 35 48 29 65 38 68\n",
      " 32 55 37 36 41  6  4 33 67 23 57 61 14 20 53 40 59 24 44 19 54 51 26  0\n",
      " 39]\n",
      "PhoneService : ['No' 'Yes']\n",
      "MultipleLines : ['No phone service' 'No' 'Yes']\n",
      "InternetService : ['DSL' 'Fiber optic' 'No']\n",
      "OnlineSecurity : ['No' 'Yes' 'No internet service']\n",
      "OnlineBackup : ['Yes' 'No' 'No internet service']\n",
      "DeviceProtection : ['No' 'Yes' 'No internet service']\n",
      "TechSupport : ['No' 'Yes' 'No internet service']\n",
      "StreamingTV : ['No' 'Yes' 'No internet service']\n",
      "StreamingMovies : ['No' 'Yes' 'No internet service']\n",
      "Contract : ['Month-to-month' 'One year' 'Two year']\n",
      "PaperlessBilling : ['Yes' 'No']\n",
      "PaymentMethod : ['Electronic check' 'Mailed check' 'Bank transfer (automatic)'\n",
      " 'Credit card (automatic)']\n",
      "MonthlyCharges : [29.85 56.95 53.85 ... 63.1  44.2  78.7 ]\n",
      "TotalCharges : ['29.85' '1889.5' '108.15' ... '346.45' '306.6' '6844.5']\n",
      "Churn : ['No' 'Yes']\n"
     ]
    }
   ],
   "source": [
    "for column in data:\n",
    "    print(f'{column} : {data[column].unique()}')"
   ]
  },
  {
   "cell_type": "code",
   "execution_count": 7,
   "id": "3a27494a",
   "metadata": {},
   "outputs": [
    {
     "data": {
      "text/plain": [
       "array([['29.85', '1889.5', '108.15', ..., '346.45', '306.6', '6844.5']],\n",
       "      dtype=object)"
      ]
     },
     "execution_count": 7,
     "metadata": {},
     "output_type": "execute_result"
    }
   ],
   "source": [
    "np.array([data[\"TotalCharges\"]])"
   ]
  },
  {
   "cell_type": "code",
   "execution_count": 8,
   "id": "ca100ae8",
   "metadata": {},
   "outputs": [
    {
     "data": {
      "text/plain": [
       "Int64Index([488, 753, 936, 1082, 1340, 3331, 3826, 4380, 5218, 6670, 6754], dtype='int64')"
      ]
     },
     "execution_count": 8,
     "metadata": {},
     "output_type": "execute_result"
    }
   ],
   "source": [
    "data[data.TotalCharges==\" \"].index"
   ]
  },
  {
   "cell_type": "code",
   "execution_count": 9,
   "id": "42ea5b93",
   "metadata": {},
   "outputs": [
    {
     "data": {
      "text/plain": [
       "array([[ 488,  753,  936, 1082, 1340, 3331, 3826, 4380, 5218, 6670, 6754]],\n",
       "      dtype=int64)"
      ]
     },
     "execution_count": 9,
     "metadata": {},
     "output_type": "execute_result"
    }
   ],
   "source": [
    "dropping_data=np.array([data[data.TotalCharges==\" \"].index])\n",
    "dropping_data"
   ]
  },
  {
   "cell_type": "code",
   "execution_count": 10,
   "id": "067ed72f",
   "metadata": {},
   "outputs": [],
   "source": [
    "data.drop(dropping_data[0],inplace=True)"
   ]
  },
  {
   "cell_type": "code",
   "execution_count": 11,
   "id": "7a0cf78d",
   "metadata": {},
   "outputs": [
    {
     "data": {
      "text/plain": [
       "(7032, 20)"
      ]
     },
     "execution_count": 11,
     "metadata": {},
     "output_type": "execute_result"
    }
   ],
   "source": [
    "data.shape"
   ]
  },
  {
   "cell_type": "code",
   "execution_count": 12,
   "id": "a0a83232",
   "metadata": {},
   "outputs": [],
   "source": [
    "data[\"TotalCharges\"]=pd.to_numeric(data[\"TotalCharges\"])"
   ]
  },
  {
   "cell_type": "code",
   "execution_count": 13,
   "id": "1ffc56cf",
   "metadata": {},
   "outputs": [
    {
     "data": {
      "text/plain": [
       "gender               object\n",
       "SeniorCitizen         int64\n",
       "Partner              object\n",
       "Dependents           object\n",
       "tenure                int64\n",
       "PhoneService         object\n",
       "MultipleLines        object\n",
       "InternetService      object\n",
       "OnlineSecurity       object\n",
       "OnlineBackup         object\n",
       "DeviceProtection     object\n",
       "TechSupport          object\n",
       "StreamingTV          object\n",
       "StreamingMovies      object\n",
       "Contract             object\n",
       "PaperlessBilling     object\n",
       "PaymentMethod        object\n",
       "MonthlyCharges      float64\n",
       "TotalCharges        float64\n",
       "Churn                object\n",
       "dtype: object"
      ]
     },
     "execution_count": 13,
     "metadata": {},
     "output_type": "execute_result"
    }
   ],
   "source": [
    "data.dtypes"
   ]
  },
  {
   "cell_type": "code",
   "execution_count": 14,
   "id": "7f2aa04a",
   "metadata": {},
   "outputs": [
    {
     "name": "stdout",
     "output_type": "stream",
     "text": [
      "gender : ['Female' 'Male']\n",
      "SeniorCitizen : [0 1]\n",
      "Partner : ['Yes' 'No']\n",
      "Dependents : ['No' 'Yes']\n",
      "tenure : [ 1 34  2 45  8 22 10 28 62 13 16 58 49 25 69 52 71 21 12 30 47 72 17 27\n",
      "  5 46 11 70 63 43 15 60 18 66  9  3 31 50 64 56  7 42 35 48 29 65 38 68\n",
      " 32 55 37 36 41  6  4 33 67 23 57 61 14 20 53 40 59 24 44 19 54 51 26 39]\n",
      "PhoneService : ['No' 'Yes']\n",
      "MultipleLines : ['No phone service' 'No' 'Yes']\n",
      "InternetService : ['DSL' 'Fiber optic' 'No']\n",
      "OnlineSecurity : ['No' 'Yes' 'No internet service']\n",
      "OnlineBackup : ['Yes' 'No' 'No internet service']\n",
      "DeviceProtection : ['No' 'Yes' 'No internet service']\n",
      "TechSupport : ['No' 'Yes' 'No internet service']\n",
      "StreamingTV : ['No' 'Yes' 'No internet service']\n",
      "StreamingMovies : ['No' 'Yes' 'No internet service']\n",
      "Contract : ['Month-to-month' 'One year' 'Two year']\n",
      "PaperlessBilling : ['Yes' 'No']\n",
      "PaymentMethod : ['Electronic check' 'Mailed check' 'Bank transfer (automatic)'\n",
      " 'Credit card (automatic)']\n",
      "MonthlyCharges : [29.85 56.95 53.85 ... 63.1  44.2  78.7 ]\n",
      "TotalCharges : [  29.85 1889.5   108.15 ...  346.45  306.6  6844.5 ]\n",
      "Churn : ['No' 'Yes']\n"
     ]
    }
   ],
   "source": [
    "for column in data:\n",
    "    print(f'{column} : {data[column].unique()}')"
   ]
  },
  {
   "cell_type": "code",
   "execution_count": 15,
   "id": "420d69d9",
   "metadata": {},
   "outputs": [
    {
     "data": {
      "text/html": [
       "<div>\n",
       "<style scoped>\n",
       "    .dataframe tbody tr th:only-of-type {\n",
       "        vertical-align: middle;\n",
       "    }\n",
       "\n",
       "    .dataframe tbody tr th {\n",
       "        vertical-align: top;\n",
       "    }\n",
       "\n",
       "    .dataframe thead th {\n",
       "        text-align: right;\n",
       "    }\n",
       "</style>\n",
       "<table border=\"1\" class=\"dataframe\">\n",
       "  <thead>\n",
       "    <tr style=\"text-align: right;\">\n",
       "      <th></th>\n",
       "      <th>gender</th>\n",
       "      <th>SeniorCitizen</th>\n",
       "      <th>Partner</th>\n",
       "      <th>Dependents</th>\n",
       "      <th>tenure</th>\n",
       "      <th>PhoneService</th>\n",
       "      <th>MultipleLines</th>\n",
       "      <th>InternetService</th>\n",
       "      <th>OnlineSecurity</th>\n",
       "      <th>OnlineBackup</th>\n",
       "      <th>DeviceProtection</th>\n",
       "      <th>TechSupport</th>\n",
       "      <th>StreamingTV</th>\n",
       "      <th>StreamingMovies</th>\n",
       "      <th>Contract</th>\n",
       "      <th>PaperlessBilling</th>\n",
       "      <th>PaymentMethod</th>\n",
       "      <th>MonthlyCharges</th>\n",
       "      <th>TotalCharges</th>\n",
       "      <th>Churn</th>\n",
       "    </tr>\n",
       "  </thead>\n",
       "  <tbody>\n",
       "    <tr>\n",
       "      <th>0</th>\n",
       "      <td>Female</td>\n",
       "      <td>0</td>\n",
       "      <td>Yes</td>\n",
       "      <td>No</td>\n",
       "      <td>1</td>\n",
       "      <td>No</td>\n",
       "      <td>No phone service</td>\n",
       "      <td>DSL</td>\n",
       "      <td>No</td>\n",
       "      <td>Yes</td>\n",
       "      <td>No</td>\n",
       "      <td>No</td>\n",
       "      <td>No</td>\n",
       "      <td>No</td>\n",
       "      <td>Month-to-month</td>\n",
       "      <td>Yes</td>\n",
       "      <td>Electronic check</td>\n",
       "      <td>29.85</td>\n",
       "      <td>29.85</td>\n",
       "      <td>No</td>\n",
       "    </tr>\n",
       "    <tr>\n",
       "      <th>1</th>\n",
       "      <td>Male</td>\n",
       "      <td>0</td>\n",
       "      <td>No</td>\n",
       "      <td>No</td>\n",
       "      <td>34</td>\n",
       "      <td>Yes</td>\n",
       "      <td>No</td>\n",
       "      <td>DSL</td>\n",
       "      <td>Yes</td>\n",
       "      <td>No</td>\n",
       "      <td>Yes</td>\n",
       "      <td>No</td>\n",
       "      <td>No</td>\n",
       "      <td>No</td>\n",
       "      <td>One year</td>\n",
       "      <td>No</td>\n",
       "      <td>Mailed check</td>\n",
       "      <td>56.95</td>\n",
       "      <td>1889.50</td>\n",
       "      <td>No</td>\n",
       "    </tr>\n",
       "    <tr>\n",
       "      <th>2</th>\n",
       "      <td>Male</td>\n",
       "      <td>0</td>\n",
       "      <td>No</td>\n",
       "      <td>No</td>\n",
       "      <td>2</td>\n",
       "      <td>Yes</td>\n",
       "      <td>No</td>\n",
       "      <td>DSL</td>\n",
       "      <td>Yes</td>\n",
       "      <td>Yes</td>\n",
       "      <td>No</td>\n",
       "      <td>No</td>\n",
       "      <td>No</td>\n",
       "      <td>No</td>\n",
       "      <td>Month-to-month</td>\n",
       "      <td>Yes</td>\n",
       "      <td>Mailed check</td>\n",
       "      <td>53.85</td>\n",
       "      <td>108.15</td>\n",
       "      <td>Yes</td>\n",
       "    </tr>\n",
       "    <tr>\n",
       "      <th>3</th>\n",
       "      <td>Male</td>\n",
       "      <td>0</td>\n",
       "      <td>No</td>\n",
       "      <td>No</td>\n",
       "      <td>45</td>\n",
       "      <td>No</td>\n",
       "      <td>No phone service</td>\n",
       "      <td>DSL</td>\n",
       "      <td>Yes</td>\n",
       "      <td>No</td>\n",
       "      <td>Yes</td>\n",
       "      <td>Yes</td>\n",
       "      <td>No</td>\n",
       "      <td>No</td>\n",
       "      <td>One year</td>\n",
       "      <td>No</td>\n",
       "      <td>Bank transfer (automatic)</td>\n",
       "      <td>42.30</td>\n",
       "      <td>1840.75</td>\n",
       "      <td>No</td>\n",
       "    </tr>\n",
       "    <tr>\n",
       "      <th>4</th>\n",
       "      <td>Female</td>\n",
       "      <td>0</td>\n",
       "      <td>No</td>\n",
       "      <td>No</td>\n",
       "      <td>2</td>\n",
       "      <td>Yes</td>\n",
       "      <td>No</td>\n",
       "      <td>Fiber optic</td>\n",
       "      <td>No</td>\n",
       "      <td>No</td>\n",
       "      <td>No</td>\n",
       "      <td>No</td>\n",
       "      <td>No</td>\n",
       "      <td>No</td>\n",
       "      <td>Month-to-month</td>\n",
       "      <td>Yes</td>\n",
       "      <td>Electronic check</td>\n",
       "      <td>70.70</td>\n",
       "      <td>151.65</td>\n",
       "      <td>Yes</td>\n",
       "    </tr>\n",
       "  </tbody>\n",
       "</table>\n",
       "</div>"
      ],
      "text/plain": [
       "   gender  SeniorCitizen Partner Dependents  tenure PhoneService  \\\n",
       "0  Female              0     Yes         No       1           No   \n",
       "1    Male              0      No         No      34          Yes   \n",
       "2    Male              0      No         No       2          Yes   \n",
       "3    Male              0      No         No      45           No   \n",
       "4  Female              0      No         No       2          Yes   \n",
       "\n",
       "      MultipleLines InternetService OnlineSecurity OnlineBackup  \\\n",
       "0  No phone service             DSL             No          Yes   \n",
       "1                No             DSL            Yes           No   \n",
       "2                No             DSL            Yes          Yes   \n",
       "3  No phone service             DSL            Yes           No   \n",
       "4                No     Fiber optic             No           No   \n",
       "\n",
       "  DeviceProtection TechSupport StreamingTV StreamingMovies        Contract  \\\n",
       "0               No          No          No              No  Month-to-month   \n",
       "1              Yes          No          No              No        One year   \n",
       "2               No          No          No              No  Month-to-month   \n",
       "3              Yes         Yes          No              No        One year   \n",
       "4               No          No          No              No  Month-to-month   \n",
       "\n",
       "  PaperlessBilling              PaymentMethod  MonthlyCharges  TotalCharges  \\\n",
       "0              Yes           Electronic check           29.85         29.85   \n",
       "1               No               Mailed check           56.95       1889.50   \n",
       "2              Yes               Mailed check           53.85        108.15   \n",
       "3               No  Bank transfer (automatic)           42.30       1840.75   \n",
       "4              Yes           Electronic check           70.70        151.65   \n",
       "\n",
       "  Churn  \n",
       "0    No  \n",
       "1    No  \n",
       "2   Yes  \n",
       "3    No  \n",
       "4   Yes  "
      ]
     },
     "execution_count": 15,
     "metadata": {},
     "output_type": "execute_result"
    }
   ],
   "source": [
    "data.head()"
   ]
  },
  {
   "cell_type": "code",
   "execution_count": 16,
   "id": "a6c4bd67",
   "metadata": {},
   "outputs": [
    {
     "data": {
      "text/plain": [
       "<matplotlib.legend.Legend at 0x2005d02eef0>"
      ]
     },
     "execution_count": 16,
     "metadata": {},
     "output_type": "execute_result"
    },
    {
     "data": {
      "image/png": "[encoded data removed]",
      "text/plain": [
       "<Figure size 640x480 with 1 Axes>"
      ]
     },
     "metadata": {},
     "output_type": "display_data"
    }
   ],
   "source": [
    "tenure_churn_no = data[data.Churn=='No'].tenure\n",
    "tenure_churn_yes = data[data.Churn=='Yes'].tenure\n",
    "\n",
    "plt.xlabel(\"tenure\")\n",
    "plt.ylabel(\"Number Of Customers\")\n",
    "plt.title(\"Customer Churn Prediction Visualiztion\")\n",
    "\n",
    "plt.hist([tenure_churn_yes, tenure_churn_no], rwidth=0.95, color=['green','red'],label=['Churn=Yes','Churn=No'])\n",
    "plt.legend()"
   ]
  },
  {
   "cell_type": "code",
   "execution_count": 17,
   "id": "8ad50e53",
   "metadata": {},
   "outputs": [
    {
     "data": {
      "text/plain": [
       "<matplotlib.legend.Legend at 0x2005d21dc60>"
      ]
     },
     "execution_count": 17,
     "metadata": {},
     "output_type": "execute_result"
    },
    {
     "data": {
      "image/png": "[encoded data removed]",
      "text/plain": [
       "<Figure size 640x480 with 1 Axes>"
      ]
     },
     "metadata": {},
     "output_type": "display_data"
    }
   ],
   "source": [
    "mc_churn_no = data[data.Churn=='No'].MonthlyCharges      \n",
    "mc_churn_yes = data[data.Churn=='Yes'].MonthlyCharges      \n",
    "\n",
    "plt.xlabel(\"Monthly Charges\")\n",
    "plt.ylabel(\"Number Of Customers\")\n",
    "plt.title(\"Customer Churn Prediction Visualiztion\")\n",
    "\n",
    "plt.hist([mc_churn_yes, mc_churn_no], rwidth=0.95, color=['green','red'],label=['Churn=Yes','Churn=No'])\n",
    "plt.legend()"
   ]
  },
  {
   "cell_type": "markdown",
   "id": "b4d44846",
   "metadata": {},
   "source": [
    "### Lets replace the all the categorical values (yes/no/other) to Yes/No  "
   ]
  },
  {
   "cell_type": "code",
   "execution_count": 18,
   "id": "480649e2",
   "metadata": {},
   "outputs": [],
   "source": [
    "data.replace(\"No phone service\",\"No\",inplace=True)"
   ]
  },
  {
   "cell_type": "code",
   "execution_count": 19,
   "id": "b6c33ba6",
   "metadata": {},
   "outputs": [],
   "source": [
    "data.replace(\"No internet service\",\"No\",inplace=True)"
   ]
  },
  {
   "cell_type": "code",
   "execution_count": 20,
   "id": "94148636",
   "metadata": {},
   "outputs": [
    {
     "name": "stdout",
     "output_type": "stream",
     "text": [
      "gender : ['Female' 'Male']\n",
      "SeniorCitizen : [0 1]\n",
      "Partner : ['Yes' 'No']\n",
      "Dependents : ['No' 'Yes']\n",
      "tenure : [ 1 34  2 45  8 22 10 28 62 13 16 58 49 25 69 52 71 21 12 30 47 72 17 27\n",
      "  5 46 11 70 63 43 15 60 18 66  9  3 31 50 64 56  7 42 35 48 29 65 38 68\n",
      " 32 55 37 36 41  6  4 33 67 23 57 61 14 20 53 40 59 24 44 19 54 51 26 39]\n",
      "PhoneService : ['No' 'Yes']\n",
      "MultipleLines : ['No' 'Yes']\n",
      "InternetService : ['DSL' 'Fiber optic' 'No']\n",
      "OnlineSecurity : ['No' 'Yes']\n",
      "OnlineBackup : ['Yes' 'No']\n",
      "DeviceProtection : ['No' 'Yes']\n",
      "TechSupport : ['No' 'Yes']\n",
      "StreamingTV : ['No' 'Yes']\n",
      "StreamingMovies : ['No' 'Yes']\n",
      "Contract : ['Month-to-month' 'One year' 'Two year']\n",
      "PaperlessBilling : ['Yes' 'No']\n",
      "PaymentMethod : ['Electronic check' 'Mailed check' 'Bank transfer (automatic)'\n",
      " 'Credit card (automatic)']\n",
      "MonthlyCharges : [29.85 56.95 53.85 ... 63.1  44.2  78.7 ]\n",
      "TotalCharges : [  29.85 1889.5   108.15 ...  346.45  306.6  6844.5 ]\n",
      "Churn : ['No' 'Yes']\n"
     ]
    }
   ],
   "source": [
    "for column in data:\n",
    "    print(f'{column} : {data[column].unique()}')"
   ]
  },
  {
   "cell_type": "markdown",
   "id": "b8ce427d",
   "metadata": {},
   "source": [
    "### Now lets give the numbers to the categorical variables yes/no"
   ]
  },
  {
   "cell_type": "code",
   "execution_count": 21,
   "id": "34ff0480",
   "metadata": {},
   "outputs": [],
   "source": [
    "num_data={\"Yes\":\"1\",\"No\":\"0\"}"
   ]
  },
  {
   "cell_type": "code",
   "execution_count": 22,
   "id": "a68b5315",
   "metadata": {},
   "outputs": [],
   "source": [
    "data.replace([\"Yes\",\"No\"],[1,0],inplace=True)"
   ]
  },
  {
   "cell_type": "code",
   "execution_count": 23,
   "id": "4d66c95f",
   "metadata": {},
   "outputs": [],
   "source": [
    "data.replace([\"Female\",\"Male\"],[1,0],inplace=True)"
   ]
  },
  {
   "cell_type": "code",
   "execution_count": 24,
   "id": "7b7b573d",
   "metadata": {},
   "outputs": [
    {
     "name": "stdout",
     "output_type": "stream",
     "text": [
      "gender : [1 0]\n",
      "SeniorCitizen : [0 1]\n",
      "Partner : [1 0]\n",
      "Dependents : [0 1]\n",
      "tenure : [ 1 34  2 45  8 22 10 28 62 13 16 58 49 25 69 52 71 21 12 30 47 72 17 27\n",
      "  5 46 11 70 63 43 15 60 18 66  9  3 31 50 64 56  7 42 35 48 29 65 38 68\n",
      " 32 55 37 36 41  6  4 33 67 23 57 61 14 20 53 40 59 24 44 19 54 51 26 39]\n",
      "PhoneService : [0 1]\n",
      "MultipleLines : [0 1]\n",
      "InternetService : ['DSL' 'Fiber optic' 0]\n",
      "OnlineSecurity : [0 1]\n",
      "OnlineBackup : [1 0]\n",
      "DeviceProtection : [0 1]\n",
      "TechSupport : [0 1]\n",
      "StreamingTV : [0 1]\n",
      "StreamingMovies : [0 1]\n",
      "Contract : ['Month-to-month' 'One year' 'Two year']\n",
      "PaperlessBilling : [1 0]\n",
      "PaymentMethod : ['Electronic check' 'Mailed check' 'Bank transfer (automatic)'\n",
      " 'Credit card (automatic)']\n",
      "MonthlyCharges : [29.85 56.95 53.85 ... 63.1  44.2  78.7 ]\n",
      "TotalCharges : [  29.85 1889.5   108.15 ...  346.45  306.6  6844.5 ]\n",
      "Churn : [0 1]\n"
     ]
    }
   ],
   "source": [
    "for column in data:\n",
    "    print(f'{column} : {data[column].unique()}')"
   ]
  },
  {
   "cell_type": "code",
   "execution_count": 25,
   "id": "bb6b2038",
   "metadata": {},
   "outputs": [
    {
     "data": {
      "text/html": [
       "<div>\n",
       "<style scoped>\n",
       "    .dataframe tbody tr th:only-of-type {\n",
       "        vertical-align: middle;\n",
       "    }\n",
       "\n",
       "    .dataframe tbody tr th {\n",
       "        vertical-align: top;\n",
       "    }\n",
       "\n",
       "    .dataframe thead th {\n",
       "        text-align: right;\n",
       "    }\n",
       "</style>\n",
       "<table border=\"1\" class=\"dataframe\">\n",
       "  <thead>\n",
       "    <tr style=\"text-align: right;\">\n",
       "      <th></th>\n",
       "      <th>gender</th>\n",
       "      <th>SeniorCitizen</th>\n",
       "      <th>Partner</th>\n",
       "      <th>Dependents</th>\n",
       "      <th>tenure</th>\n",
       "      <th>PhoneService</th>\n",
       "      <th>MultipleLines</th>\n",
       "      <th>InternetService</th>\n",
       "      <th>OnlineSecurity</th>\n",
       "      <th>OnlineBackup</th>\n",
       "      <th>DeviceProtection</th>\n",
       "      <th>TechSupport</th>\n",
       "      <th>StreamingTV</th>\n",
       "      <th>StreamingMovies</th>\n",
       "      <th>Contract</th>\n",
       "      <th>PaperlessBilling</th>\n",
       "      <th>PaymentMethod</th>\n",
       "      <th>MonthlyCharges</th>\n",
       "      <th>TotalCharges</th>\n",
       "      <th>Churn</th>\n",
       "    </tr>\n",
       "  </thead>\n",
       "  <tbody>\n",
       "    <tr>\n",
       "      <th>0</th>\n",
       "      <td>1</td>\n",
       "      <td>0</td>\n",
       "      <td>1</td>\n",
       "      <td>0</td>\n",
       "      <td>1</td>\n",
       "      <td>0</td>\n",
       "      <td>0</td>\n",
       "      <td>DSL</td>\n",
       "      <td>0</td>\n",
       "      <td>1</td>\n",
       "      <td>0</td>\n",
       "      <td>0</td>\n",
       "      <td>0</td>\n",
       "      <td>0</td>\n",
       "      <td>Month-to-month</td>\n",
       "      <td>1</td>\n",
       "      <td>Electronic check</td>\n",
       "      <td>29.85</td>\n",
       "      <td>29.85</td>\n",
       "      <td>0</td>\n",
       "    </tr>\n",
       "    <tr>\n",
       "      <th>1</th>\n",
       "      <td>0</td>\n",
       "      <td>0</td>\n",
       "      <td>0</td>\n",
       "      <td>0</td>\n",
       "      <td>34</td>\n",
       "      <td>1</td>\n",
       "      <td>0</td>\n",
       "      <td>DSL</td>\n",
       "      <td>1</td>\n",
       "      <td>0</td>\n",
       "      <td>1</td>\n",
       "      <td>0</td>\n",
       "      <td>0</td>\n",
       "      <td>0</td>\n",
       "      <td>One year</td>\n",
       "      <td>0</td>\n",
       "      <td>Mailed check</td>\n",
       "      <td>56.95</td>\n",
       "      <td>1889.50</td>\n",
       "      <td>0</td>\n",
       "    </tr>\n",
       "    <tr>\n",
       "      <th>2</th>\n",
       "      <td>0</td>\n",
       "      <td>0</td>\n",
       "      <td>0</td>\n",
       "      <td>0</td>\n",
       "      <td>2</td>\n",
       "      <td>1</td>\n",
       "      <td>0</td>\n",
       "      <td>DSL</td>\n",
       "      <td>1</td>\n",
       "      <td>1</td>\n",
       "      <td>0</td>\n",
       "      <td>0</td>\n",
       "      <td>0</td>\n",
       "      <td>0</td>\n",
       "      <td>Month-to-month</td>\n",
       "      <td>1</td>\n",
       "      <td>Mailed check</td>\n",
       "      <td>53.85</td>\n",
       "      <td>108.15</td>\n",
       "      <td>1</td>\n",
       "    </tr>\n",
       "    <tr>\n",
       "      <th>3</th>\n",
       "      <td>0</td>\n",
       "      <td>0</td>\n",
       "      <td>0</td>\n",
       "      <td>0</td>\n",
       "      <td>45</td>\n",
       "      <td>0</td>\n",
       "      <td>0</td>\n",
       "      <td>DSL</td>\n",
       "      <td>1</td>\n",
       "      <td>0</td>\n",
       "      <td>1</td>\n",
       "      <td>1</td>\n",
       "      <td>0</td>\n",
       "      <td>0</td>\n",
       "      <td>One year</td>\n",
       "      <td>0</td>\n",
       "      <td>Bank transfer (automatic)</td>\n",
       "      <td>42.30</td>\n",
       "      <td>1840.75</td>\n",
       "      <td>0</td>\n",
       "    </tr>\n",
       "    <tr>\n",
       "      <th>4</th>\n",
       "      <td>1</td>\n",
       "      <td>0</td>\n",
       "      <td>0</td>\n",
       "      <td>0</td>\n",
       "      <td>2</td>\n",
       "      <td>1</td>\n",
       "      <td>0</td>\n",
       "      <td>Fiber optic</td>\n",
       "      <td>0</td>\n",
       "      <td>0</td>\n",
       "      <td>0</td>\n",
       "      <td>0</td>\n",
       "      <td>0</td>\n",
       "      <td>0</td>\n",
       "      <td>Month-to-month</td>\n",
       "      <td>1</td>\n",
       "      <td>Electronic check</td>\n",
       "      <td>70.70</td>\n",
       "      <td>151.65</td>\n",
       "      <td>1</td>\n",
       "    </tr>\n",
       "  </tbody>\n",
       "</table>\n",
       "</div>"
      ],
      "text/plain": [
       "   gender  SeniorCitizen  Partner  Dependents  tenure  PhoneService  \\\n",
       "0       1              0        1           0       1             0   \n",
       "1       0              0        0           0      34             1   \n",
       "2       0              0        0           0       2             1   \n",
       "3       0              0        0           0      45             0   \n",
       "4       1              0        0           0       2             1   \n",
       "\n",
       "   MultipleLines InternetService  OnlineSecurity  OnlineBackup  \\\n",
       "0              0             DSL               0             1   \n",
       "1              0             DSL               1             0   \n",
       "2              0             DSL               1             1   \n",
       "3              0             DSL               1             0   \n",
       "4              0     Fiber optic               0             0   \n",
       "\n",
       "   DeviceProtection  TechSupport  StreamingTV  StreamingMovies  \\\n",
       "0                 0            0            0                0   \n",
       "1                 1            0            0                0   \n",
       "2                 0            0            0                0   \n",
       "3                 1            1            0                0   \n",
       "4                 0            0            0                0   \n",
       "\n",
       "         Contract  PaperlessBilling              PaymentMethod  \\\n",
       "0  Month-to-month                 1           Electronic check   \n",
       "1        One year                 0               Mailed check   \n",
       "2  Month-to-month                 1               Mailed check   \n",
       "3        One year                 0  Bank transfer (automatic)   \n",
       "4  Month-to-month                 1           Electronic check   \n",
       "\n",
       "   MonthlyCharges  TotalCharges  Churn  \n",
       "0           29.85         29.85      0  \n",
       "1           56.95       1889.50      0  \n",
       "2           53.85        108.15      1  \n",
       "3           42.30       1840.75      0  \n",
       "4           70.70        151.65      1  "
      ]
     },
     "execution_count": 25,
     "metadata": {},
     "output_type": "execute_result"
    }
   ],
   "source": [
    "data.head()"
   ]
  },
  {
   "cell_type": "markdown",
   "id": "a2cb2bbe",
   "metadata": {},
   "source": [
    "### Now let's do the one hot encoding for the columns which have more than two types of categorical variables  "
   ]
  },
  {
   "cell_type": "code",
   "execution_count": 26,
   "id": "c30a9274",
   "metadata": {},
   "outputs": [],
   "source": [
    "columns_one_hot_encoding=[\"InternetService\",\"Contract\",\"PaymentMethod\"]"
   ]
  },
  {
   "cell_type": "code",
   "execution_count": 27,
   "id": "d5d66f5b",
   "metadata": {},
   "outputs": [],
   "source": [
    "data_model=pd.get_dummies(data,columns=columns_one_hot_encoding)\n"
   ]
  },
  {
   "cell_type": "code",
   "execution_count": 28,
   "id": "81b7f4b5",
   "metadata": {},
   "outputs": [
    {
     "data": {
      "text/html": [
       "<div>\n",
       "<style scoped>\n",
       "    .dataframe tbody tr th:only-of-type {\n",
       "        vertical-align: middle;\n",
       "    }\n",
       "\n",
       "    .dataframe tbody tr th {\n",
       "        vertical-align: top;\n",
       "    }\n",
       "\n",
       "    .dataframe thead th {\n",
       "        text-align: right;\n",
       "    }\n",
       "</style>\n",
       "<table border=\"1\" class=\"dataframe\">\n",
       "  <thead>\n",
       "    <tr style=\"text-align: right;\">\n",
       "      <th></th>\n",
       "      <th>gender</th>\n",
       "      <th>SeniorCitizen</th>\n",
       "      <th>Partner</th>\n",
       "      <th>Dependents</th>\n",
       "      <th>tenure</th>\n",
       "      <th>PhoneService</th>\n",
       "      <th>MultipleLines</th>\n",
       "      <th>OnlineSecurity</th>\n",
       "      <th>OnlineBackup</th>\n",
       "      <th>DeviceProtection</th>\n",
       "      <th>...</th>\n",
       "      <th>InternetService_0</th>\n",
       "      <th>InternetService_DSL</th>\n",
       "      <th>InternetService_Fiber optic</th>\n",
       "      <th>Contract_Month-to-month</th>\n",
       "      <th>Contract_One year</th>\n",
       "      <th>Contract_Two year</th>\n",
       "      <th>PaymentMethod_Bank transfer (automatic)</th>\n",
       "      <th>PaymentMethod_Credit card (automatic)</th>\n",
       "      <th>PaymentMethod_Electronic check</th>\n",
       "      <th>PaymentMethod_Mailed check</th>\n",
       "    </tr>\n",
       "  </thead>\n",
       "  <tbody>\n",
       "    <tr>\n",
       "      <th>0</th>\n",
       "      <td>1</td>\n",
       "      <td>0</td>\n",
       "      <td>1</td>\n",
       "      <td>0</td>\n",
       "      <td>1</td>\n",
       "      <td>0</td>\n",
       "      <td>0</td>\n",
       "      <td>0</td>\n",
       "      <td>1</td>\n",
       "      <td>0</td>\n",
       "      <td>...</td>\n",
       "      <td>0</td>\n",
       "      <td>1</td>\n",
       "      <td>0</td>\n",
       "      <td>1</td>\n",
       "      <td>0</td>\n",
       "      <td>0</td>\n",
       "      <td>0</td>\n",
       "      <td>0</td>\n",
       "      <td>1</td>\n",
       "      <td>0</td>\n",
       "    </tr>\n",
       "    <tr>\n",
       "      <th>1</th>\n",
       "      <td>0</td>\n",
       "      <td>0</td>\n",
       "      <td>0</td>\n",
       "      <td>0</td>\n",
       "      <td>34</td>\n",
       "      <td>1</td>\n",
       "      <td>0</td>\n",
       "      <td>1</td>\n",
       "      <td>0</td>\n",
       "      <td>1</td>\n",
       "      <td>...</td>\n",
       "      <td>0</td>\n",
       "      <td>1</td>\n",
       "      <td>0</td>\n",
       "      <td>0</td>\n",
       "      <td>1</td>\n",
       "      <td>0</td>\n",
       "      <td>0</td>\n",
       "      <td>0</td>\n",
       "      <td>0</td>\n",
       "      <td>1</td>\n",
       "    </tr>\n",
       "    <tr>\n",
       "      <th>2</th>\n",
       "      <td>0</td>\n",
       "      <td>0</td>\n",
       "      <td>0</td>\n",
       "      <td>0</td>\n",
       "      <td>2</td>\n",
       "      <td>1</td>\n",
       "      <td>0</td>\n",
       "      <td>1</td>\n",
       "      <td>1</td>\n",
       "      <td>0</td>\n",
       "      <td>...</td>\n",
       "      <td>0</td>\n",
       "      <td>1</td>\n",
       "      <td>0</td>\n",
       "      <td>1</td>\n",
       "      <td>0</td>\n",
       "      <td>0</td>\n",
       "      <td>0</td>\n",
       "      <td>0</td>\n",
       "      <td>0</td>\n",
       "      <td>1</td>\n",
       "    </tr>\n",
       "    <tr>\n",
       "      <th>3</th>\n",
       "      <td>0</td>\n",
       "      <td>0</td>\n",
       "      <td>0</td>\n",
       "      <td>0</td>\n",
       "      <td>45</td>\n",
       "      <td>0</td>\n",
       "      <td>0</td>\n",
       "      <td>1</td>\n",
       "      <td>0</td>\n",
       "      <td>1</td>\n",
       "      <td>...</td>\n",
       "      <td>0</td>\n",
       "      <td>1</td>\n",
       "      <td>0</td>\n",
       "      <td>0</td>\n",
       "      <td>1</td>\n",
       "      <td>0</td>\n",
       "      <td>1</td>\n",
       "      <td>0</td>\n",
       "      <td>0</td>\n",
       "      <td>0</td>\n",
       "    </tr>\n",
       "    <tr>\n",
       "      <th>4</th>\n",
       "      <td>1</td>\n",
       "      <td>0</td>\n",
       "      <td>0</td>\n",
       "      <td>0</td>\n",
       "      <td>2</td>\n",
       "      <td>1</td>\n",
       "      <td>0</td>\n",
       "      <td>0</td>\n",
       "      <td>0</td>\n",
       "      <td>0</td>\n",
       "      <td>...</td>\n",
       "      <td>0</td>\n",
       "      <td>0</td>\n",
       "      <td>1</td>\n",
       "      <td>1</td>\n",
       "      <td>0</td>\n",
       "      <td>0</td>\n",
       "      <td>0</td>\n",
       "      <td>0</td>\n",
       "      <td>1</td>\n",
       "      <td>0</td>\n",
       "    </tr>\n",
       "  </tbody>\n",
       "</table>\n",
       "<p>5 rows × 27 columns</p>\n",
       "</div>"
      ],
      "text/plain": [
       "   gender  SeniorCitizen  Partner  Dependents  tenure  PhoneService  \\\n",
       "0       1              0        1           0       1             0   \n",
       "1       0              0        0           0      34             1   \n",
       "2       0              0        0           0       2             1   \n",
       "3       0              0        0           0      45             0   \n",
       "4       1              0        0           0       2             1   \n",
       "\n",
       "   MultipleLines  OnlineSecurity  OnlineBackup  DeviceProtection  ...  \\\n",
       "0              0               0             1                 0  ...   \n",
       "1              0               1             0                 1  ...   \n",
       "2              0               1             1                 0  ...   \n",
       "3              0               1             0                 1  ...   \n",
       "4              0               0             0                 0  ...   \n",
       "\n",
       "   InternetService_0  InternetService_DSL  InternetService_Fiber optic  \\\n",
       "0                  0                    1                            0   \n",
       "1                  0                    1                            0   \n",
       "2                  0                    1                            0   \n",
       "3                  0                    1                            0   \n",
       "4                  0                    0                            1   \n",
       "\n",
       "   Contract_Month-to-month  Contract_One year  Contract_Two year  \\\n",
       "0                        1                  0                  0   \n",
       "1                        0                  1                  0   \n",
       "2                        1                  0                  0   \n",
       "3                        0                  1                  0   \n",
       "4                        1                  0                  0   \n",
       "\n",
       "   PaymentMethod_Bank transfer (automatic)  \\\n",
       "0                                        0   \n",
       "1                                        0   \n",
       "2                                        0   \n",
       "3                                        1   \n",
       "4                                        0   \n",
       "\n",
       "   PaymentMethod_Credit card (automatic)  PaymentMethod_Electronic check  \\\n",
       "0                                      0                               1   \n",
       "1                                      0                               0   \n",
       "2                                      0                               0   \n",
       "3                                      0                               0   \n",
       "4                                      0                               1   \n",
       "\n",
       "   PaymentMethod_Mailed check  \n",
       "0                           0  \n",
       "1                           1  \n",
       "2                           1  \n",
       "3                           0  \n",
       "4                           0  \n",
       "\n",
       "[5 rows x 27 columns]"
      ]
     },
     "execution_count": 28,
     "metadata": {},
     "output_type": "execute_result"
    }
   ],
   "source": [
    "data_model.head()"
   ]
  },
  {
   "cell_type": "code",
   "execution_count": 29,
   "id": "8bb1cacb",
   "metadata": {},
   "outputs": [
    {
     "name": "stdout",
     "output_type": "stream",
     "text": [
      "gender : [1 0]\n",
      "SeniorCitizen : [0 1]\n",
      "Partner : [1 0]\n",
      "Dependents : [0 1]\n",
      "tenure : [ 1 34  2 45  8 22 10 28 62 13 16 58 49 25 69 52 71 21 12 30 47 72 17 27\n",
      "  5 46 11 70 63 43 15 60 18 66  9  3 31 50 64 56  7 42 35 48 29 65 38 68\n",
      " 32 55 37 36 41  6  4 33 67 23 57 61 14 20 53 40 59 24 44 19 54 51 26 39]\n",
      "PhoneService : [0 1]\n",
      "MultipleLines : [0 1]\n",
      "OnlineSecurity : [0 1]\n",
      "OnlineBackup : [1 0]\n",
      "DeviceProtection : [0 1]\n",
      "TechSupport : [0 1]\n",
      "StreamingTV : [0 1]\n",
      "StreamingMovies : [0 1]\n",
      "PaperlessBilling : [1 0]\n",
      "MonthlyCharges : [29.85 56.95 53.85 ... 63.1  44.2  78.7 ]\n",
      "TotalCharges : [  29.85 1889.5   108.15 ...  346.45  306.6  6844.5 ]\n",
      "Churn : [0 1]\n",
      "InternetService_0 : [0 1]\n",
      "InternetService_DSL : [1 0]\n",
      "InternetService_Fiber optic : [0 1]\n",
      "Contract_Month-to-month : [1 0]\n",
      "Contract_One year : [0 1]\n",
      "Contract_Two year : [0 1]\n",
      "PaymentMethod_Bank transfer (automatic) : [0 1]\n",
      "PaymentMethod_Credit card (automatic) : [0 1]\n",
      "PaymentMethod_Electronic check : [1 0]\n",
      "PaymentMethod_Mailed check : [0 1]\n"
     ]
    }
   ],
   "source": [
    "for column in data_model:\n",
    "    print(f'{column} : {data_model[column].unique()}')"
   ]
  },
  {
   "cell_type": "markdown",
   "id": "df4715ec",
   "metadata": {},
   "source": [
    "## So now the data cleaning is done. Now lets do some preprocessing before training the model "
   ]
  },
  {
   "cell_type": "code",
   "execution_count": 30,
   "id": "d67ea5a1",
   "metadata": {},
   "outputs": [],
   "source": [
    "from sklearn.preprocessing import MinMaxScaler"
   ]
  },
  {
   "cell_type": "code",
   "execution_count": 31,
   "id": "c68f41bd",
   "metadata": {},
   "outputs": [],
   "source": [
    "cols_to_scale=[\"tenure\",\"MonthlyCharges\",\"TotalCharges\"]"
   ]
  },
  {
   "cell_type": "code",
   "execution_count": 32,
   "id": "2cb46532",
   "metadata": {},
   "outputs": [],
   "source": [
    "scaler=MinMaxScaler()\n",
    "data_model[cols_to_scale]=scaler.fit_transform(data_model[cols_to_scale])"
   ]
  },
  {
   "cell_type": "code",
   "execution_count": 33,
   "id": "dc00c927",
   "metadata": {},
   "outputs": [
    {
     "data": {
      "text/html": [
       "<div>\n",
       "<style scoped>\n",
       "    .dataframe tbody tr th:only-of-type {\n",
       "        vertical-align: middle;\n",
       "    }\n",
       "\n",
       "    .dataframe tbody tr th {\n",
       "        vertical-align: top;\n",
       "    }\n",
       "\n",
       "    .dataframe thead th {\n",
       "        text-align: right;\n",
       "    }\n",
       "</style>\n",
       "<table border=\"1\" class=\"dataframe\">\n",
       "  <thead>\n",
       "    <tr style=\"text-align: right;\">\n",
       "      <th></th>\n",
       "      <th>gender</th>\n",
       "      <th>SeniorCitizen</th>\n",
       "      <th>Partner</th>\n",
       "      <th>Dependents</th>\n",
       "      <th>tenure</th>\n",
       "      <th>PhoneService</th>\n",
       "      <th>MultipleLines</th>\n",
       "      <th>OnlineSecurity</th>\n",
       "      <th>OnlineBackup</th>\n",
       "      <th>DeviceProtection</th>\n",
       "      <th>...</th>\n",
       "      <th>InternetService_0</th>\n",
       "      <th>InternetService_DSL</th>\n",
       "      <th>InternetService_Fiber optic</th>\n",
       "      <th>Contract_Month-to-month</th>\n",
       "      <th>Contract_One year</th>\n",
       "      <th>Contract_Two year</th>\n",
       "      <th>PaymentMethod_Bank transfer (automatic)</th>\n",
       "      <th>PaymentMethod_Credit card (automatic)</th>\n",
       "      <th>PaymentMethod_Electronic check</th>\n",
       "      <th>PaymentMethod_Mailed check</th>\n",
       "    </tr>\n",
       "  </thead>\n",
       "  <tbody>\n",
       "    <tr>\n",
       "      <th>0</th>\n",
       "      <td>1</td>\n",
       "      <td>0</td>\n",
       "      <td>1</td>\n",
       "      <td>0</td>\n",
       "      <td>0.000000</td>\n",
       "      <td>0</td>\n",
       "      <td>0</td>\n",
       "      <td>0</td>\n",
       "      <td>1</td>\n",
       "      <td>0</td>\n",
       "      <td>...</td>\n",
       "      <td>0</td>\n",
       "      <td>1</td>\n",
       "      <td>0</td>\n",
       "      <td>1</td>\n",
       "      <td>0</td>\n",
       "      <td>0</td>\n",
       "      <td>0</td>\n",
       "      <td>0</td>\n",
       "      <td>1</td>\n",
       "      <td>0</td>\n",
       "    </tr>\n",
       "    <tr>\n",
       "      <th>1</th>\n",
       "      <td>0</td>\n",
       "      <td>0</td>\n",
       "      <td>0</td>\n",
       "      <td>0</td>\n",
       "      <td>0.464789</td>\n",
       "      <td>1</td>\n",
       "      <td>0</td>\n",
       "      <td>1</td>\n",
       "      <td>0</td>\n",
       "      <td>1</td>\n",
       "      <td>...</td>\n",
       "      <td>0</td>\n",
       "      <td>1</td>\n",
       "      <td>0</td>\n",
       "      <td>0</td>\n",
       "      <td>1</td>\n",
       "      <td>0</td>\n",
       "      <td>0</td>\n",
       "      <td>0</td>\n",
       "      <td>0</td>\n",
       "      <td>1</td>\n",
       "    </tr>\n",
       "    <tr>\n",
       "      <th>2</th>\n",
       "      <td>0</td>\n",
       "      <td>0</td>\n",
       "      <td>0</td>\n",
       "      <td>0</td>\n",
       "      <td>0.014085</td>\n",
       "      <td>1</td>\n",
       "      <td>0</td>\n",
       "      <td>1</td>\n",
       "      <td>1</td>\n",
       "      <td>0</td>\n",
       "      <td>...</td>\n",
       "      <td>0</td>\n",
       "      <td>1</td>\n",
       "      <td>0</td>\n",
       "      <td>1</td>\n",
       "      <td>0</td>\n",
       "      <td>0</td>\n",
       "      <td>0</td>\n",
       "      <td>0</td>\n",
       "      <td>0</td>\n",
       "      <td>1</td>\n",
       "    </tr>\n",
       "    <tr>\n",
       "      <th>3</th>\n",
       "      <td>0</td>\n",
       "      <td>0</td>\n",
       "      <td>0</td>\n",
       "      <td>0</td>\n",
       "      <td>0.619718</td>\n",
       "      <td>0</td>\n",
       "      <td>0</td>\n",
       "      <td>1</td>\n",
       "      <td>0</td>\n",
       "      <td>1</td>\n",
       "      <td>...</td>\n",
       "      <td>0</td>\n",
       "      <td>1</td>\n",
       "      <td>0</td>\n",
       "      <td>0</td>\n",
       "      <td>1</td>\n",
       "      <td>0</td>\n",
       "      <td>1</td>\n",
       "      <td>0</td>\n",
       "      <td>0</td>\n",
       "      <td>0</td>\n",
       "    </tr>\n",
       "    <tr>\n",
       "      <th>4</th>\n",
       "      <td>1</td>\n",
       "      <td>0</td>\n",
       "      <td>0</td>\n",
       "      <td>0</td>\n",
       "      <td>0.014085</td>\n",
       "      <td>1</td>\n",
       "      <td>0</td>\n",
       "      <td>0</td>\n",
       "      <td>0</td>\n",
       "      <td>0</td>\n",
       "      <td>...</td>\n",
       "      <td>0</td>\n",
       "      <td>0</td>\n",
       "      <td>1</td>\n",
       "      <td>1</td>\n",
       "      <td>0</td>\n",
       "      <td>0</td>\n",
       "      <td>0</td>\n",
       "      <td>0</td>\n",
       "      <td>1</td>\n",
       "      <td>0</td>\n",
       "    </tr>\n",
       "  </tbody>\n",
       "</table>\n",
       "<p>5 rows × 27 columns</p>\n",
       "</div>"
      ],
      "text/plain": [
       "   gender  SeniorCitizen  Partner  Dependents    tenure  PhoneService  \\\n",
       "0       1              0        1           0  0.000000             0   \n",
       "1       0              0        0           0  0.464789             1   \n",
       "2       0              0        0           0  0.014085             1   \n",
       "3       0              0        0           0  0.619718             0   \n",
       "4       1              0        0           0  0.014085             1   \n",
       "\n",
       "   MultipleLines  OnlineSecurity  OnlineBackup  DeviceProtection  ...  \\\n",
       "0              0               0             1                 0  ...   \n",
       "1              0               1             0                 1  ...   \n",
       "2              0               1             1                 0  ...   \n",
       "3              0               1             0                 1  ...   \n",
       "4              0               0             0                 0  ...   \n",
       "\n",
       "   InternetService_0  InternetService_DSL  InternetService_Fiber optic  \\\n",
       "0                  0                    1                            0   \n",
       "1                  0                    1                            0   \n",
       "2                  0                    1                            0   \n",
       "3                  0                    1                            0   \n",
       "4                  0                    0                            1   \n",
       "\n",
       "   Contract_Month-to-month  Contract_One year  Contract_Two year  \\\n",
       "0                        1                  0                  0   \n",
       "1                        0                  1                  0   \n",
       "2                        1                  0                  0   \n",
       "3                        0                  1                  0   \n",
       "4                        1                  0                  0   \n",
       "\n",
       "   PaymentMethod_Bank transfer (automatic)  \\\n",
       "0                                        0   \n",
       "1                                        0   \n",
       "2                                        0   \n",
       "3                                        1   \n",
       "4                                        0   \n",
       "\n",
       "   PaymentMethod_Credit card (automatic)  PaymentMethod_Electronic check  \\\n",
       "0                                      0                               1   \n",
       "1                                      0                               0   \n",
       "2                                      0                               0   \n",
       "3                                      0                               0   \n",
       "4                                      0                               1   \n",
       "\n",
       "   PaymentMethod_Mailed check  \n",
       "0                           0  \n",
       "1                           1  \n",
       "2                           1  \n",
       "3                           0  \n",
       "4                           0  \n",
       "\n",
       "[5 rows x 27 columns]"
      ]
     },
     "execution_count": 33,
     "metadata": {},
     "output_type": "execute_result"
    }
   ],
   "source": [
    "data_model.head()"
   ]
  },
  {
   "cell_type": "code",
   "execution_count": 34,
   "id": "f9410a89",
   "metadata": {},
   "outputs": [
    {
     "name": "stdout",
     "output_type": "stream",
     "text": [
      "gender : [1 0]\n",
      "SeniorCitizen : [0 1]\n",
      "Partner : [1 0]\n",
      "Dependents : [0 1]\n",
      "tenure : [0.         0.46478873 0.01408451 0.61971831 0.09859155 0.29577465\n",
      " 0.12676056 0.38028169 0.85915493 0.16901408 0.21126761 0.8028169\n",
      " 0.67605634 0.33802817 0.95774648 0.71830986 0.98591549 0.28169014\n",
      " 0.15492958 0.4084507  0.64788732 1.         0.22535211 0.36619718\n",
      " 0.05633803 0.63380282 0.14084507 0.97183099 0.87323944 0.5915493\n",
      " 0.1971831  0.83098592 0.23943662 0.91549296 0.11267606 0.02816901\n",
      " 0.42253521 0.69014085 0.88732394 0.77464789 0.08450704 0.57746479\n",
      " 0.47887324 0.66197183 0.3943662  0.90140845 0.52112676 0.94366197\n",
      " 0.43661972 0.76056338 0.50704225 0.49295775 0.56338028 0.07042254\n",
      " 0.04225352 0.45070423 0.92957746 0.30985915 0.78873239 0.84507042\n",
      " 0.18309859 0.26760563 0.73239437 0.54929577 0.81690141 0.32394366\n",
      " 0.6056338  0.25352113 0.74647887 0.70422535 0.35211268 0.53521127]\n",
      "PhoneService : [0 1]\n",
      "MultipleLines : [0 1]\n",
      "OnlineSecurity : [0 1]\n",
      "OnlineBackup : [1 0]\n",
      "DeviceProtection : [0 1]\n",
      "TechSupport : [0 1]\n",
      "StreamingTV : [0 1]\n",
      "StreamingMovies : [0 1]\n",
      "PaperlessBilling : [1 0]\n",
      "MonthlyCharges : [0.11542289 0.38507463 0.35422886 ... 0.44626866 0.25820896 0.60149254]\n",
      "TotalCharges : [0.0012751  0.21586661 0.01031041 ... 0.03780868 0.03321025 0.78764136]\n",
      "Churn : [0 1]\n",
      "InternetService_0 : [0 1]\n",
      "InternetService_DSL : [1 0]\n",
      "InternetService_Fiber optic : [0 1]\n",
      "Contract_Month-to-month : [1 0]\n",
      "Contract_One year : [0 1]\n",
      "Contract_Two year : [0 1]\n",
      "PaymentMethod_Bank transfer (automatic) : [0 1]\n",
      "PaymentMethod_Credit card (automatic) : [0 1]\n",
      "PaymentMethod_Electronic check : [1 0]\n",
      "PaymentMethod_Mailed check : [0 1]\n"
     ]
    }
   ],
   "source": [
    "for column in data_model:\n",
    "    print(f'{column} : {data_model[column].unique()}')"
   ]
  },
  {
   "cell_type": "markdown",
   "id": "6730044b",
   "metadata": {},
   "source": [
    "## Model Preparation "
   ]
  },
  {
   "cell_type": "code",
   "execution_count": 35,
   "id": "187b0141",
   "metadata": {},
   "outputs": [],
   "source": [
    "X=data_model.drop(\"Churn\",axis=\"columns\")\n",
    "y=data_model[\"Churn\"]"
   ]
  },
  {
   "cell_type": "code",
   "execution_count": 36,
   "id": "295e87cd",
   "metadata": {},
   "outputs": [],
   "source": [
    "from sklearn.model_selection import train_test_split\n",
    "X_train,X_test,y_train,y_test=train_test_split(X,y,test_size=0.2,)"
   ]
  },
  {
   "cell_type": "code",
   "execution_count": 37,
   "id": "c5eb8391",
   "metadata": {},
   "outputs": [
    {
     "data": {
      "text/plain": [
       "5625"
      ]
     },
     "execution_count": 37,
     "metadata": {},
     "output_type": "execute_result"
    }
   ],
   "source": [
    "len(X_train)"
   ]
  },
  {
   "cell_type": "code",
   "execution_count": 38,
   "id": "06d7f5ab",
   "metadata": {},
   "outputs": [
    {
     "data": {
      "text/plain": [
       "5625"
      ]
     },
     "execution_count": 38,
     "metadata": {},
     "output_type": "execute_result"
    }
   ],
   "source": [
    "len(y_train)"
   ]
  },
  {
   "cell_type": "code",
   "execution_count": 39,
   "id": "693fa8a3",
   "metadata": {},
   "outputs": [
    {
     "data": {
      "text/plain": [
       "1407"
      ]
     },
     "execution_count": 39,
     "metadata": {},
     "output_type": "execute_result"
    }
   ],
   "source": [
    "len(y_test)"
   ]
  },
  {
   "cell_type": "code",
   "execution_count": 40,
   "id": "6e2b2fa5",
   "metadata": {
    "scrolled": true
   },
   "outputs": [
    {
     "name": "stdout",
     "output_type": "stream",
     "text": [
      "Epoch 1/100\n",
      "176/176 [==============================] - 5s 6ms/step - loss: 0.4831 - accuracy: 0.7641\n",
      "Epoch 2/100\n",
      "176/176 [==============================] - 1s 6ms/step - loss: 0.4323 - accuracy: 0.7950\n",
      "Epoch 3/100\n",
      "176/176 [==============================] - 1s 6ms/step - loss: 0.4275 - accuracy: 0.8002\n",
      "Epoch 4/100\n",
      "176/176 [==============================] - 1s 7ms/step - loss: 0.4228 - accuracy: 0.8011\n",
      "Epoch 5/100\n",
      "176/176 [==============================] - 1s 6ms/step - loss: 0.4214 - accuracy: 0.8032\n",
      "Epoch 6/100\n",
      "176/176 [==============================] - 1s 6ms/step - loss: 0.4177 - accuracy: 0.8046\n",
      "Epoch 7/100\n",
      "176/176 [==============================] - 1s 6ms/step - loss: 0.4179 - accuracy: 0.8028\n",
      "Epoch 8/100\n",
      "176/176 [==============================] - 1s 7ms/step - loss: 0.4152 - accuracy: 0.8066\n",
      "Epoch 9/100\n",
      "176/176 [==============================] - 1s 6ms/step - loss: 0.4127 - accuracy: 0.8073\n",
      "Epoch 10/100\n",
      "176/176 [==============================] - 1s 7ms/step - loss: 0.4103 - accuracy: 0.8105\n",
      "Epoch 11/100\n",
      "176/176 [==============================] - 1s 7ms/step - loss: 0.4080 - accuracy: 0.8066\n",
      "Epoch 12/100\n",
      "176/176 [==============================] - 1s 6ms/step - loss: 0.4066 - accuracy: 0.8103\n",
      "Epoch 13/100\n",
      "176/176 [==============================] - 1s 6ms/step - loss: 0.4034 - accuracy: 0.8114\n",
      "Epoch 14/100\n",
      "176/176 [==============================] - 1s 6ms/step - loss: 0.4028 - accuracy: 0.8146\n",
      "Epoch 15/100\n",
      "176/176 [==============================] - 1s 6ms/step - loss: 0.4015 - accuracy: 0.8126\n",
      "Epoch 16/100\n",
      "176/176 [==============================] - 1s 6ms/step - loss: 0.3988 - accuracy: 0.8142\n",
      "Epoch 17/100\n",
      "176/176 [==============================] - 1s 6ms/step - loss: 0.3968 - accuracy: 0.8155\n",
      "Epoch 18/100\n",
      "176/176 [==============================] - 1s 6ms/step - loss: 0.3955 - accuracy: 0.8162\n",
      "Epoch 19/100\n",
      "176/176 [==============================] - 1s 6ms/step - loss: 0.3941 - accuracy: 0.8158\n",
      "Epoch 20/100\n",
      "176/176 [==============================] - 1s 6ms/step - loss: 0.3925 - accuracy: 0.8190\n",
      "Epoch 21/100\n",
      "176/176 [==============================] - 1s 6ms/step - loss: 0.3895 - accuracy: 0.8174\n",
      "Epoch 22/100\n",
      "176/176 [==============================] - 1s 6ms/step - loss: 0.3878 - accuracy: 0.8196\n",
      "Epoch 23/100\n",
      "176/176 [==============================] - 1s 6ms/step - loss: 0.3841 - accuracy: 0.8238\n",
      "Epoch 24/100\n",
      "176/176 [==============================] - 1s 6ms/step - loss: 0.3850 - accuracy: 0.8185\n",
      "Epoch 25/100\n",
      "176/176 [==============================] - 1s 6ms/step - loss: 0.3833 - accuracy: 0.8242\n",
      "Epoch 26/100\n",
      "176/176 [==============================] - 1s 6ms/step - loss: 0.3786 - accuracy: 0.8258\n",
      "Epoch 27/100\n",
      "176/176 [==============================] - 1s 6ms/step - loss: 0.3766 - accuracy: 0.8242\n",
      "Epoch 28/100\n",
      "176/176 [==============================] - 1s 6ms/step - loss: 0.3750 - accuracy: 0.8268\n",
      "Epoch 29/100\n",
      "176/176 [==============================] - 1s 6ms/step - loss: 0.3728 - accuracy: 0.8299\n",
      "Epoch 30/100\n",
      "176/176 [==============================] - 1s 6ms/step - loss: 0.3733 - accuracy: 0.8231\n",
      "Epoch 31/100\n",
      "176/176 [==============================] - 1s 6ms/step - loss: 0.3695 - accuracy: 0.8311\n",
      "Epoch 32/100\n",
      "176/176 [==============================] - 1s 5ms/step - loss: 0.3701 - accuracy: 0.8279\n",
      "Epoch 33/100\n",
      "176/176 [==============================] - 1s 6ms/step - loss: 0.3660 - accuracy: 0.8297\n",
      "Epoch 34/100\n",
      "176/176 [==============================] - 1s 6ms/step - loss: 0.3623 - accuracy: 0.8331\n",
      "Epoch 35/100\n",
      "176/176 [==============================] - 1s 6ms/step - loss: 0.3632 - accuracy: 0.8325\n",
      "Epoch 36/100\n",
      "176/176 [==============================] - 1s 6ms/step - loss: 0.3598 - accuracy: 0.8340\n",
      "Epoch 37/100\n",
      "176/176 [==============================] - 1s 6ms/step - loss: 0.3585 - accuracy: 0.8361\n",
      "Epoch 38/100\n",
      "176/176 [==============================] - 1s 6ms/step - loss: 0.3565 - accuracy: 0.8370\n",
      "Epoch 39/100\n",
      "176/176 [==============================] - 1s 6ms/step - loss: 0.3538 - accuracy: 0.8370\n",
      "Epoch 40/100\n",
      "176/176 [==============================] - 1s 6ms/step - loss: 0.3521 - accuracy: 0.8354\n",
      "Epoch 41/100\n",
      "176/176 [==============================] - 1s 5ms/step - loss: 0.3490 - accuracy: 0.8400\n",
      "Epoch 42/100\n",
      "176/176 [==============================] - 1s 6ms/step - loss: 0.3474 - accuracy: 0.8386\n",
      "Epoch 43/100\n",
      "176/176 [==============================] - 1s 6ms/step - loss: 0.3468 - accuracy: 0.8373\n",
      "Epoch 44/100\n",
      "176/176 [==============================] - 1s 6ms/step - loss: 0.3450 - accuracy: 0.8368\n",
      "Epoch 45/100\n",
      "176/176 [==============================] - 1s 6ms/step - loss: 0.3455 - accuracy: 0.8373\n",
      "Epoch 46/100\n",
      "176/176 [==============================] - 1s 6ms/step - loss: 0.3403 - accuracy: 0.8457\n",
      "Epoch 47/100\n",
      "176/176 [==============================] - 1s 6ms/step - loss: 0.3382 - accuracy: 0.8443\n",
      "Epoch 48/100\n",
      "176/176 [==============================] - 1s 6ms/step - loss: 0.3392 - accuracy: 0.8423\n",
      "Epoch 49/100\n",
      "176/176 [==============================] - 1s 6ms/step - loss: 0.3359 - accuracy: 0.8498\n",
      "Epoch 50/100\n",
      "176/176 [==============================] - 1s 6ms/step - loss: 0.3350 - accuracy: 0.8462\n",
      "Epoch 51/100\n",
      "176/176 [==============================] - 1s 6ms/step - loss: 0.3308 - accuracy: 0.8507\n",
      "Epoch 52/100\n",
      "176/176 [==============================] - 1s 6ms/step - loss: 0.3300 - accuracy: 0.8476\n",
      "Epoch 53/100\n",
      "176/176 [==============================] - 1s 6ms/step - loss: 0.3284 - accuracy: 0.8480\n",
      "Epoch 54/100\n",
      "176/176 [==============================] - 1s 6ms/step - loss: 0.3256 - accuracy: 0.8517\n",
      "Epoch 55/100\n",
      "176/176 [==============================] - 1s 6ms/step - loss: 0.3250 - accuracy: 0.8498\n",
      "Epoch 56/100\n",
      "176/176 [==============================] - 1s 6ms/step - loss: 0.3207 - accuracy: 0.8521\n",
      "Epoch 57/100\n",
      "176/176 [==============================] - 1s 6ms/step - loss: 0.3182 - accuracy: 0.8519\n",
      "Epoch 58/100\n",
      "176/176 [==============================] - 1s 6ms/step - loss: 0.3194 - accuracy: 0.8540\n",
      "Epoch 59/100\n",
      "176/176 [==============================] - 1s 6ms/step - loss: 0.3167 - accuracy: 0.8517\n",
      "Epoch 60/100\n",
      "176/176 [==============================] - 1s 6ms/step - loss: 0.3122 - accuracy: 0.8596\n",
      "Epoch 61/100\n",
      "176/176 [==============================] - 1s 6ms/step - loss: 0.3102 - accuracy: 0.8548\n",
      "Epoch 62/100\n",
      "176/176 [==============================] - 1s 6ms/step - loss: 0.3093 - accuracy: 0.8576\n",
      "Epoch 63/100\n",
      "176/176 [==============================] - 1s 6ms/step - loss: 0.3066 - accuracy: 0.8588\n",
      "Epoch 64/100\n",
      "176/176 [==============================] - 1s 6ms/step - loss: 0.3057 - accuracy: 0.8592\n",
      "Epoch 65/100\n",
      "176/176 [==============================] - 1s 6ms/step - loss: 0.3040 - accuracy: 0.8581\n",
      "Epoch 66/100\n",
      "176/176 [==============================] - 1s 6ms/step - loss: 0.3052 - accuracy: 0.8599\n",
      "Epoch 67/100\n",
      "176/176 [==============================] - 1s 6ms/step - loss: 0.3034 - accuracy: 0.8610\n",
      "Epoch 68/100\n",
      "176/176 [==============================] - 1s 6ms/step - loss: 0.2974 - accuracy: 0.8649\n",
      "Epoch 69/100\n",
      "176/176 [==============================] - 1s 6ms/step - loss: 0.2978 - accuracy: 0.8620\n",
      "Epoch 70/100\n",
      "176/176 [==============================] - 1s 6ms/step - loss: 0.2962 - accuracy: 0.8629\n",
      "Epoch 71/100\n",
      "176/176 [==============================] - 1s 6ms/step - loss: 0.2973 - accuracy: 0.8613\n",
      "Epoch 72/100\n",
      "176/176 [==============================] - 1s 6ms/step - loss: 0.2953 - accuracy: 0.8651\n",
      "Epoch 73/100\n",
      "176/176 [==============================] - 1s 6ms/step - loss: 0.2920 - accuracy: 0.8658\n",
      "Epoch 74/100\n",
      "176/176 [==============================] - 1s 6ms/step - loss: 0.2875 - accuracy: 0.8654\n",
      "Epoch 75/100\n",
      "176/176 [==============================] - 1s 6ms/step - loss: 0.2877 - accuracy: 0.8690\n",
      "Epoch 76/100\n",
      "176/176 [==============================] - 1s 6ms/step - loss: 0.2860 - accuracy: 0.8695\n",
      "Epoch 77/100\n",
      "176/176 [==============================] - 1s 6ms/step - loss: 0.2853 - accuracy: 0.8656\n",
      "Epoch 78/100\n",
      "176/176 [==============================] - 1s 5ms/step - loss: 0.2824 - accuracy: 0.8704\n",
      "Epoch 79/100\n",
      "176/176 [==============================] - 1s 5ms/step - loss: 0.2832 - accuracy: 0.8690\n",
      "Epoch 80/100\n",
      "176/176 [==============================] - 1s 7ms/step - loss: 0.2824 - accuracy: 0.8708\n",
      "Epoch 81/100\n",
      "176/176 [==============================] - 1s 6ms/step - loss: 0.2819 - accuracy: 0.8684\n",
      "Epoch 82/100\n",
      "176/176 [==============================] - 1s 8ms/step - loss: 0.2788 - accuracy: 0.8686\n",
      "Epoch 83/100\n",
      "176/176 [==============================] - 1s 6ms/step - loss: 0.2787 - accuracy: 0.8656\n",
      "Epoch 84/100\n",
      "176/176 [==============================] - 1s 6ms/step - loss: 0.2783 - accuracy: 0.8713\n",
      "Epoch 85/100\n",
      "176/176 [==============================] - 1s 6ms/step - loss: 0.2750 - accuracy: 0.8732\n",
      "Epoch 86/100\n",
      "176/176 [==============================] - 1s 7ms/step - loss: 0.2689 - accuracy: 0.8754\n",
      "Epoch 87/100\n",
      "176/176 [==============================] - 1s 7ms/step - loss: 0.2720 - accuracy: 0.8727\n",
      "Epoch 88/100\n",
      "176/176 [==============================] - 1s 8ms/step - loss: 0.2725 - accuracy: 0.8740\n",
      "Epoch 89/100\n",
      "176/176 [==============================] - 1s 6ms/step - loss: 0.2669 - accuracy: 0.8743\n",
      "Epoch 90/100\n",
      "176/176 [==============================] - 1s 5ms/step - loss: 0.2694 - accuracy: 0.8754\n",
      "Epoch 91/100\n",
      "176/176 [==============================] - 1s 7ms/step - loss: 0.2659 - accuracy: 0.8777\n",
      "Epoch 92/100\n",
      "176/176 [==============================] - 1s 6ms/step - loss: 0.2687 - accuracy: 0.8796\n",
      "Epoch 93/100\n",
      "176/176 [==============================] - 1s 6ms/step - loss: 0.2619 - accuracy: 0.8807\n",
      "Epoch 94/100\n",
      "176/176 [==============================] - 1s 7ms/step - loss: 0.2663 - accuracy: 0.8759\n",
      "Epoch 95/100\n",
      "176/176 [==============================] - 1s 7ms/step - loss: 0.2589 - accuracy: 0.8780\n",
      "Epoch 96/100\n",
      "176/176 [==============================] - 1s 6ms/step - loss: 0.2589 - accuracy: 0.8823\n",
      "Epoch 97/100\n",
      "176/176 [==============================] - 1s 8ms/step - loss: 0.2617 - accuracy: 0.8782\n",
      "Epoch 98/100\n",
      "176/176 [==============================] - 1s 6ms/step - loss: 0.2560 - accuracy: 0.8812\n",
      "Epoch 99/100\n",
      "176/176 [==============================] - 1s 7ms/step - loss: 0.2556 - accuracy: 0.8786\n",
      "Epoch 100/100\n",
      "176/176 [==============================] - 1s 7ms/step - loss: 0.2548 - accuracy: 0.8834\n"
     ]
    },
    {
     "data": {
      "text/plain": [
       "<keras.callbacks.History at 0x2005d9faec0>"
      ]
     },
     "execution_count": 40,
     "metadata": {},
     "output_type": "execute_result"
    }
   ],
   "source": [
    "model=keras.Sequential([\n",
    "    keras.layers.Dense(50,input_shape=(26,),activation=\"relu\"),\n",
    "    keras.layers.Dense(25,activation=\"relu\"),\n",
    "    keras.layers.Dense(12,activation=\"relu\"),\n",
    "    keras.layers.Dense(1,activation=\"sigmoid\")\n",
    "])\n",
    "\n",
    "model.compile(optimizer=\"ADAM\",\n",
    "             loss=\"binary_crossentropy\",\n",
    "             metrics=[\"accuracy\"])\n",
    "\n",
    "model.fit(X_train,y_train,epochs=100)"
   ]
  },
  {
   "cell_type": "code",
   "execution_count": 41,
   "id": "c9839b46",
   "metadata": {},
   "outputs": [
    {
     "name": "stdout",
     "output_type": "stream",
     "text": [
      "44/44 [==============================] - 1s 6ms/step - loss: 0.7361 - accuracy: 0.7690\n"
     ]
    },
    {
     "data": {
      "text/plain": [
       "[0.7361446022987366, 0.7690120935440063]"
      ]
     },
     "execution_count": 41,
     "metadata": {},
     "output_type": "execute_result"
    }
   ],
   "source": [
    "model.evaluate(X_test,y_test)"
   ]
  },
  {
   "cell_type": "code",
   "execution_count": 42,
   "id": "b74690e5",
   "metadata": {},
   "outputs": [
    {
     "name": "stdout",
     "output_type": "stream",
     "text": [
      "44/44 [==============================] - 1s 6ms/step\n"
     ]
    },
    {
     "data": {
      "text/plain": [
       "array([[7.2894744e-03],\n",
       "       [8.8185328e-01],\n",
       "       [1.5406383e-09],\n",
       "       [5.2615312e-10],\n",
       "       [2.8061077e-05],\n",
       "       [4.7533000e-03],\n",
       "       [9.3929080e-04],\n",
       "       [7.3032925e-06],\n",
       "       [1.6208598e-01],\n",
       "       [2.7709384e-06]], dtype=float32)"
      ]
     },
     "execution_count": 42,
     "metadata": {},
     "output_type": "execute_result"
    }
   ],
   "source": [
    "y_pred=model.predict(X_test)\n",
    "y_pred[:10]"
   ]
  },
  {
   "cell_type": "code",
   "execution_count": 43,
   "id": "dc058aaa",
   "metadata": {},
   "outputs": [],
   "source": [
    "yp=[]\n",
    "for i in y_pred:\n",
    "    if i >0.5:\n",
    "        yp.append(1)\n",
    "    else:\n",
    "        yp.append(0)\n",
    "    "
   ]
  },
  {
   "cell_type": "code",
   "execution_count": 44,
   "id": "94f3f850",
   "metadata": {},
   "outputs": [
    {
     "data": {
      "text/plain": [
       "[0, 1, 0, 0, 0, 0, 0, 0, 0, 0]"
      ]
     },
     "execution_count": 44,
     "metadata": {},
     "output_type": "execute_result"
    }
   ],
   "source": [
    "yp[:10]"
   ]
  },
  {
   "cell_type": "code",
   "execution_count": 45,
   "id": "19e83b60",
   "metadata": {},
   "outputs": [
    {
     "name": "stderr",
     "output_type": "stream",
     "text": [
      "C:\\Users\\user\\AppData\\Local\\Temp\\ipykernel_2400\\2588316582.py:1: FutureWarning: The behavior of `series[i:j]` with an integer-dtype index is deprecated. In a future version, this will be treated as *label-based* indexing, consistent with e.g. `series[i]` lookups. To retain the old behavior, use `series.iloc[i:j]`. To get the future behavior, use `series.loc[i:j]`.\n",
      "  y_test[:10]\n"
     ]
    },
    {
     "data": {
      "text/plain": [
       "5916    0\n",
       "5186    1\n",
       "4932    0\n",
       "4066    0\n",
       "6316    0\n",
       "401     0\n",
       "221     0\n",
       "605     0\n",
       "3202    0\n",
       "1902    0\n",
       "Name: Churn, dtype: int64"
      ]
     },
     "execution_count": 45,
     "metadata": {},
     "output_type": "execute_result"
    }
   ],
   "source": [
    "y_test[:10]"
   ]
  },
  {
   "cell_type": "code",
   "execution_count": 46,
   "id": "bf718cef",
   "metadata": {},
   "outputs": [
    {
     "name": "stdout",
     "output_type": "stream",
     "text": [
      "              precision    recall  f1-score   support\n",
      "\n",
      "           0       0.82      0.89      0.85      1055\n",
      "           1       0.55      0.41      0.47       352\n",
      "\n",
      "    accuracy                           0.77      1407\n",
      "   macro avg       0.69      0.65      0.66      1407\n",
      "weighted avg       0.75      0.77      0.76      1407\n",
      "\n"
     ]
    }
   ],
   "source": [
    "from sklearn.metrics import classification_report,confusion_matrix\n",
    "\n",
    "print(classification_report(y_test,yp))"
   ]
  },
  {
   "cell_type": "code",
   "execution_count": 47,
   "id": "ceca70ce",
   "metadata": {},
   "outputs": [
    {
     "data": {
      "text/plain": [
       "<tf.Tensor: shape=(2, 2), dtype=int32, numpy=\n",
       "array([[939, 116],\n",
       "       [209, 143]])>"
      ]
     },
     "execution_count": 47,
     "metadata": {},
     "output_type": "execute_result"
    }
   ],
   "source": [
    "cm=tf.math.confusion_matrix(labels=y_test,predictions=yp)\n",
    "cm"
   ]
  },
  {
   "cell_type": "code",
   "execution_count": 48,
   "id": "64e3fab0",
   "metadata": {},
   "outputs": [
    {
     "data": {
      "text/plain": [
       "Text(0.5, 1.0, 'Confusion Matrix')"
      ]
     },
     "execution_count": 48,
     "metadata": {},
     "output_type": "execute_result"
    },
    {
     "data": {
      "image/png": "[encoded data removed]",
      "text/plain": [
       "<Figure size 400x300 with 2 Axes>"
      ]
     },
     "metadata": {},
     "output_type": "display_data"
    }
   ],
   "source": [
    "plt.figure(figsize=(4,3))\n",
    "sns.heatmap(cm,annot=True, fmt='d')\n",
    "plt.xlabel(\"Predicted\")\n",
    "plt.ylabel(\"Truth\")\n",
    "plt.title(\"Confusion Matrix\")"
   ]
  },
  {
   "cell_type": "markdown",
   "id": "5e7f4f03",
   "metadata": {},
   "source": [
    "# Now balancing the imbalanced Dataset"
   ]
  },
  {
   "cell_type": "code",
   "execution_count": 49,
   "id": "fa520c5c",
   "metadata": {},
   "outputs": [],
   "source": [
    "def ANN(X_train,X_test,y_train,y_test,loss,weights):\n",
    "    \n",
    "    model=keras.Sequential([\n",
    "    keras.layers.Dense(50,input_shape=(26,),activation=\"relu\"),\n",
    "    keras.layers.Dense(25,activation=\"relu\"),\n",
    "    keras.layers.Dense(12,activation=\"relu\"),\n",
    "    keras.layers.Dense(1,activation=\"sigmoid\")\n",
    "    ])\n",
    "\n",
    "    model.compile(optimizer=\"ADAM\",\n",
    "             loss=loss,\n",
    "             metrics=[\"accuracy\"])\n",
    "\n",
    "    if weights == -1:\n",
    "        model.fit(X_train, y_train, epochs=100)\n",
    "    else:\n",
    "        model.fit(X_train, y_train, epochs=100, class_weight = weights)\n",
    "        \n",
    "    y_preds = model.predict(X_test)\n",
    "    y_preds = np.round(y_preds)\n",
    "    \n",
    "    print(\"Classification Report: \\n\", classification_report(y_test, y_preds))\n",
    "    \n",
    "    return 0  \n",
    "\n",
    "\n",
    "    "
   ]
  },
  {
   "cell_type": "code",
   "execution_count": 50,
   "id": "8e6d4d99",
   "metadata": {
    "scrolled": true
   },
   "outputs": [
    {
     "data": {
      "text/plain": [
       "0    5163\n",
       "1    1869\n",
       "Name: Churn, dtype: int64"
      ]
     },
     "execution_count": 50,
     "metadata": {},
     "output_type": "execute_result"
    }
   ],
   "source": [
    "data_model[\"Churn\"].value_counts()"
   ]
  },
  {
   "cell_type": "markdown",
   "id": "8ef14f47",
   "metadata": {},
   "source": [
    "## So now Lets use the different techniques to balance the required dataset"
   ]
  },
  {
   "cell_type": "code",
   "execution_count": 51,
   "id": "0d2aeb8a",
   "metadata": {},
   "outputs": [],
   "source": [
    "churn_0,churn_1=data_model[\"Churn\"].value_counts()"
   ]
  },
  {
   "cell_type": "code",
   "execution_count": 52,
   "id": "547d7fe0",
   "metadata": {},
   "outputs": [
    {
     "data": {
      "text/plain": [
       "5163"
      ]
     },
     "execution_count": 52,
     "metadata": {},
     "output_type": "execute_result"
    }
   ],
   "source": [
    "churn_0"
   ]
  },
  {
   "cell_type": "code",
   "execution_count": 53,
   "id": "3b9cf165",
   "metadata": {},
   "outputs": [],
   "source": [
    "df1=data_model.copy()"
   ]
  },
  {
   "cell_type": "code",
   "execution_count": 54,
   "id": "0832b09a",
   "metadata": {},
   "outputs": [
    {
     "data": {
      "text/html": [
       "<div>\n",
       "<style scoped>\n",
       "    .dataframe tbody tr th:only-of-type {\n",
       "        vertical-align: middle;\n",
       "    }\n",
       "\n",
       "    .dataframe tbody tr th {\n",
       "        vertical-align: top;\n",
       "    }\n",
       "\n",
       "    .dataframe thead th {\n",
       "        text-align: right;\n",
       "    }\n",
       "</style>\n",
       "<table border=\"1\" class=\"dataframe\">\n",
       "  <thead>\n",
       "    <tr style=\"text-align: right;\">\n",
       "      <th></th>\n",
       "      <th>gender</th>\n",
       "      <th>SeniorCitizen</th>\n",
       "      <th>Partner</th>\n",
       "      <th>Dependents</th>\n",
       "      <th>tenure</th>\n",
       "      <th>PhoneService</th>\n",
       "      <th>MultipleLines</th>\n",
       "      <th>OnlineSecurity</th>\n",
       "      <th>OnlineBackup</th>\n",
       "      <th>DeviceProtection</th>\n",
       "      <th>...</th>\n",
       "      <th>InternetService_0</th>\n",
       "      <th>InternetService_DSL</th>\n",
       "      <th>InternetService_Fiber optic</th>\n",
       "      <th>Contract_Month-to-month</th>\n",
       "      <th>Contract_One year</th>\n",
       "      <th>Contract_Two year</th>\n",
       "      <th>PaymentMethod_Bank transfer (automatic)</th>\n",
       "      <th>PaymentMethod_Credit card (automatic)</th>\n",
       "      <th>PaymentMethod_Electronic check</th>\n",
       "      <th>PaymentMethod_Mailed check</th>\n",
       "    </tr>\n",
       "  </thead>\n",
       "  <tbody>\n",
       "    <tr>\n",
       "      <th>0</th>\n",
       "      <td>1</td>\n",
       "      <td>0</td>\n",
       "      <td>1</td>\n",
       "      <td>0</td>\n",
       "      <td>0.000000</td>\n",
       "      <td>0</td>\n",
       "      <td>0</td>\n",
       "      <td>0</td>\n",
       "      <td>1</td>\n",
       "      <td>0</td>\n",
       "      <td>...</td>\n",
       "      <td>0</td>\n",
       "      <td>1</td>\n",
       "      <td>0</td>\n",
       "      <td>1</td>\n",
       "      <td>0</td>\n",
       "      <td>0</td>\n",
       "      <td>0</td>\n",
       "      <td>0</td>\n",
       "      <td>1</td>\n",
       "      <td>0</td>\n",
       "    </tr>\n",
       "    <tr>\n",
       "      <th>1</th>\n",
       "      <td>0</td>\n",
       "      <td>0</td>\n",
       "      <td>0</td>\n",
       "      <td>0</td>\n",
       "      <td>0.464789</td>\n",
       "      <td>1</td>\n",
       "      <td>0</td>\n",
       "      <td>1</td>\n",
       "      <td>0</td>\n",
       "      <td>1</td>\n",
       "      <td>...</td>\n",
       "      <td>0</td>\n",
       "      <td>1</td>\n",
       "      <td>0</td>\n",
       "      <td>0</td>\n",
       "      <td>1</td>\n",
       "      <td>0</td>\n",
       "      <td>0</td>\n",
       "      <td>0</td>\n",
       "      <td>0</td>\n",
       "      <td>1</td>\n",
       "    </tr>\n",
       "    <tr>\n",
       "      <th>2</th>\n",
       "      <td>0</td>\n",
       "      <td>0</td>\n",
       "      <td>0</td>\n",
       "      <td>0</td>\n",
       "      <td>0.014085</td>\n",
       "      <td>1</td>\n",
       "      <td>0</td>\n",
       "      <td>1</td>\n",
       "      <td>1</td>\n",
       "      <td>0</td>\n",
       "      <td>...</td>\n",
       "      <td>0</td>\n",
       "      <td>1</td>\n",
       "      <td>0</td>\n",
       "      <td>1</td>\n",
       "      <td>0</td>\n",
       "      <td>0</td>\n",
       "      <td>0</td>\n",
       "      <td>0</td>\n",
       "      <td>0</td>\n",
       "      <td>1</td>\n",
       "    </tr>\n",
       "    <tr>\n",
       "      <th>3</th>\n",
       "      <td>0</td>\n",
       "      <td>0</td>\n",
       "      <td>0</td>\n",
       "      <td>0</td>\n",
       "      <td>0.619718</td>\n",
       "      <td>0</td>\n",
       "      <td>0</td>\n",
       "      <td>1</td>\n",
       "      <td>0</td>\n",
       "      <td>1</td>\n",
       "      <td>...</td>\n",
       "      <td>0</td>\n",
       "      <td>1</td>\n",
       "      <td>0</td>\n",
       "      <td>0</td>\n",
       "      <td>1</td>\n",
       "      <td>0</td>\n",
       "      <td>1</td>\n",
       "      <td>0</td>\n",
       "      <td>0</td>\n",
       "      <td>0</td>\n",
       "    </tr>\n",
       "    <tr>\n",
       "      <th>4</th>\n",
       "      <td>1</td>\n",
       "      <td>0</td>\n",
       "      <td>0</td>\n",
       "      <td>0</td>\n",
       "      <td>0.014085</td>\n",
       "      <td>1</td>\n",
       "      <td>0</td>\n",
       "      <td>0</td>\n",
       "      <td>0</td>\n",
       "      <td>0</td>\n",
       "      <td>...</td>\n",
       "      <td>0</td>\n",
       "      <td>0</td>\n",
       "      <td>1</td>\n",
       "      <td>1</td>\n",
       "      <td>0</td>\n",
       "      <td>0</td>\n",
       "      <td>0</td>\n",
       "      <td>0</td>\n",
       "      <td>1</td>\n",
       "      <td>0</td>\n",
       "    </tr>\n",
       "  </tbody>\n",
       "</table>\n",
       "<p>5 rows × 27 columns</p>\n",
       "</div>"
      ],
      "text/plain": [
       "   gender  SeniorCitizen  Partner  Dependents    tenure  PhoneService  \\\n",
       "0       1              0        1           0  0.000000             0   \n",
       "1       0              0        0           0  0.464789             1   \n",
       "2       0              0        0           0  0.014085             1   \n",
       "3       0              0        0           0  0.619718             0   \n",
       "4       1              0        0           0  0.014085             1   \n",
       "\n",
       "   MultipleLines  OnlineSecurity  OnlineBackup  DeviceProtection  ...  \\\n",
       "0              0               0             1                 0  ...   \n",
       "1              0               1             0                 1  ...   \n",
       "2              0               1             1                 0  ...   \n",
       "3              0               1             0                 1  ...   \n",
       "4              0               0             0                 0  ...   \n",
       "\n",
       "   InternetService_0  InternetService_DSL  InternetService_Fiber optic  \\\n",
       "0                  0                    1                            0   \n",
       "1                  0                    1                            0   \n",
       "2                  0                    1                            0   \n",
       "3                  0                    1                            0   \n",
       "4                  0                    0                            1   \n",
       "\n",
       "   Contract_Month-to-month  Contract_One year  Contract_Two year  \\\n",
       "0                        1                  0                  0   \n",
       "1                        0                  1                  0   \n",
       "2                        1                  0                  0   \n",
       "3                        0                  1                  0   \n",
       "4                        1                  0                  0   \n",
       "\n",
       "   PaymentMethod_Bank transfer (automatic)  \\\n",
       "0                                        0   \n",
       "1                                        0   \n",
       "2                                        0   \n",
       "3                                        1   \n",
       "4                                        0   \n",
       "\n",
       "   PaymentMethod_Credit card (automatic)  PaymentMethod_Electronic check  \\\n",
       "0                                      0                               1   \n",
       "1                                      0                               0   \n",
       "2                                      0                               0   \n",
       "3                                      0                               0   \n",
       "4                                      0                               1   \n",
       "\n",
       "   PaymentMethod_Mailed check  \n",
       "0                           0  \n",
       "1                           1  \n",
       "2                           1  \n",
       "3                           0  \n",
       "4                           0  \n",
       "\n",
       "[5 rows x 27 columns]"
      ]
     },
     "execution_count": 54,
     "metadata": {},
     "output_type": "execute_result"
    }
   ],
   "source": [
    "df1.head()"
   ]
  },
  {
   "cell_type": "code",
   "execution_count": 55,
   "id": "c238f673",
   "metadata": {},
   "outputs": [],
   "source": [
    "df_churn_0=df1[df1[\"Churn\"]==0]\n",
    "df_churn_1=df1[df1[\"Churn\"]==1]"
   ]
  },
  {
   "cell_type": "markdown",
   "id": "638710c1",
   "metadata": {},
   "source": [
    "# Undersampling Technique"
   ]
  },
  {
   "cell_type": "code",
   "execution_count": 56,
   "id": "3aa45132",
   "metadata": {},
   "outputs": [],
   "source": [
    "df_churn_0=df_churn_0.sample(churn_1)\n",
    "df2=pd.concat([df_churn_0,df_churn_1],axis=0)"
   ]
  },
  {
   "cell_type": "code",
   "execution_count": 57,
   "id": "35664ce1",
   "metadata": {},
   "outputs": [
    {
     "data": {
      "text/plain": [
       "0    1869\n",
       "1    1869\n",
       "Name: Churn, dtype: int64"
      ]
     },
     "execution_count": 57,
     "metadata": {},
     "output_type": "execute_result"
    }
   ],
   "source": [
    "df2[\"Churn\"].value_counts()"
   ]
  },
  {
   "cell_type": "code",
   "execution_count": 58,
   "id": "6e78cc3a",
   "metadata": {},
   "outputs": [],
   "source": [
    "X1=df2.drop(\"Churn\",axis='columns')\n",
    "y1=df2[\"Churn\"]"
   ]
  },
  {
   "cell_type": "code",
   "execution_count": 59,
   "id": "430683f5",
   "metadata": {},
   "outputs": [
    {
     "data": {
      "text/plain": [
       "(3738, 26)"
      ]
     },
     "execution_count": 59,
     "metadata": {},
     "output_type": "execute_result"
    }
   ],
   "source": [
    "X1.shape"
   ]
  },
  {
   "cell_type": "code",
   "execution_count": 60,
   "id": "29960956",
   "metadata": {},
   "outputs": [
    {
     "data": {
      "text/plain": [
       "(3738,)"
      ]
     },
     "execution_count": 60,
     "metadata": {},
     "output_type": "execute_result"
    }
   ],
   "source": [
    "y1.shape"
   ]
  },
  {
   "cell_type": "code",
   "execution_count": 61,
   "id": "fb9e5d19",
   "metadata": {},
   "outputs": [],
   "source": [
    "X_train1,X_test1,y_train1,y_test1=train_test_split(X1,y1,test_size=0.2,random_state=15)"
   ]
  },
  {
   "cell_type": "code",
   "execution_count": 62,
   "id": "d5e75c24",
   "metadata": {},
   "outputs": [
    {
     "data": {
      "text/plain": [
       "2990"
      ]
     },
     "execution_count": 62,
     "metadata": {},
     "output_type": "execute_result"
    }
   ],
   "source": [
    "len(X_train1)"
   ]
  },
  {
   "cell_type": "code",
   "execution_count": 63,
   "id": "56449c61",
   "metadata": {},
   "outputs": [
    {
     "data": {
      "text/plain": [
       "1    1499\n",
       "0    1491\n",
       "Name: Churn, dtype: int64"
      ]
     },
     "execution_count": 63,
     "metadata": {},
     "output_type": "execute_result"
    }
   ],
   "source": [
    "y_train1.value_counts()"
   ]
  },
  {
   "cell_type": "markdown",
   "id": "2b8cdd81",
   "metadata": {},
   "source": [
    "## Now lets train the model"
   ]
  },
  {
   "cell_type": "code",
   "execution_count": 64,
   "id": "b56f6cea",
   "metadata": {
    "scrolled": true
   },
   "outputs": [
    {
     "name": "stdout",
     "output_type": "stream",
     "text": [
      "Epoch 1/100\n",
      "94/94 [==============================] - 4s 7ms/step - loss: 0.5685 - accuracy: 0.7281\n",
      "Epoch 2/100\n",
      "94/94 [==============================] - 1s 6ms/step - loss: 0.4985 - accuracy: 0.7629\n",
      "Epoch 3/100\n",
      "94/94 [==============================] - 1s 6ms/step - loss: 0.4876 - accuracy: 0.7676\n",
      "Epoch 4/100\n",
      "94/94 [==============================] - 1s 6ms/step - loss: 0.4800 - accuracy: 0.7696\n",
      "Epoch 5/100\n",
      "94/94 [==============================] - 1s 6ms/step - loss: 0.4750 - accuracy: 0.7732\n",
      "Epoch 6/100\n",
      "94/94 [==============================] - 1s 6ms/step - loss: 0.4715 - accuracy: 0.7746\n",
      "Epoch 7/100\n",
      "94/94 [==============================] - 1s 6ms/step - loss: 0.4707 - accuracy: 0.7766\n",
      "Epoch 8/100\n",
      "94/94 [==============================] - 1s 7ms/step - loss: 0.4660 - accuracy: 0.7769\n",
      "Epoch 9/100\n",
      "94/94 [==============================] - 1s 8ms/step - loss: 0.4627 - accuracy: 0.7816\n",
      "Epoch 10/100\n",
      "94/94 [==============================] - 1s 8ms/step - loss: 0.4608 - accuracy: 0.7779\n",
      "Epoch 11/100\n",
      "94/94 [==============================] - 1s 6ms/step - loss: 0.4598 - accuracy: 0.7746\n",
      "Epoch 12/100\n",
      "94/94 [==============================] - 1s 5ms/step - loss: 0.4542 - accuracy: 0.7816\n",
      "Epoch 13/100\n",
      "94/94 [==============================] - 1s 6ms/step - loss: 0.4526 - accuracy: 0.7876\n",
      "Epoch 14/100\n",
      "94/94 [==============================] - 1s 6ms/step - loss: 0.4482 - accuracy: 0.7890\n",
      "Epoch 15/100\n",
      "94/94 [==============================] - 1s 7ms/step - loss: 0.4485 - accuracy: 0.7890\n",
      "Epoch 16/100\n",
      "94/94 [==============================] - 1s 8ms/step - loss: 0.4409 - accuracy: 0.7893\n",
      "Epoch 17/100\n",
      "94/94 [==============================] - 1s 6ms/step - loss: 0.4411 - accuracy: 0.7916\n",
      "Epoch 18/100\n",
      "94/94 [==============================] - 1s 6ms/step - loss: 0.4351 - accuracy: 0.7960\n",
      "Epoch 19/100\n",
      "94/94 [==============================] - 1s 8ms/step - loss: 0.4322 - accuracy: 0.8050\n",
      "Epoch 20/100\n",
      "94/94 [==============================] - 1s 6ms/step - loss: 0.4311 - accuracy: 0.7967\n",
      "Epoch 21/100\n",
      "94/94 [==============================] - 1s 6ms/step - loss: 0.4295 - accuracy: 0.7997\n",
      "Epoch 22/100\n",
      "94/94 [==============================] - 1s 7ms/step - loss: 0.4249 - accuracy: 0.8003\n",
      "Epoch 23/100\n",
      "94/94 [==============================] - 1s 6ms/step - loss: 0.4212 - accuracy: 0.8060\n",
      "Epoch 24/100\n",
      "94/94 [==============================] - 1s 6ms/step - loss: 0.4212 - accuracy: 0.8077\n",
      "Epoch 25/100\n",
      "94/94 [==============================] - 1s 6ms/step - loss: 0.4153 - accuracy: 0.8097\n",
      "Epoch 26/100\n",
      "94/94 [==============================] - 1s 6ms/step - loss: 0.4175 - accuracy: 0.8097\n",
      "Epoch 27/100\n",
      "94/94 [==============================] - 1s 7ms/step - loss: 0.4121 - accuracy: 0.8107\n",
      "Epoch 28/100\n",
      "94/94 [==============================] - 1s 6ms/step - loss: 0.4094 - accuracy: 0.8164\n",
      "Epoch 29/100\n",
      "94/94 [==============================] - 1s 6ms/step - loss: 0.4057 - accuracy: 0.8127\n",
      "Epoch 30/100\n",
      "94/94 [==============================] - 1s 6ms/step - loss: 0.4021 - accuracy: 0.8134\n",
      "Epoch 31/100\n",
      "94/94 [==============================] - 1s 6ms/step - loss: 0.3978 - accuracy: 0.8207\n",
      "Epoch 32/100\n",
      "94/94 [==============================] - 1s 6ms/step - loss: 0.3959 - accuracy: 0.8151\n",
      "Epoch 33/100\n",
      "94/94 [==============================] - 1s 6ms/step - loss: 0.3891 - accuracy: 0.8254\n",
      "Epoch 34/100\n",
      "94/94 [==============================] - 1s 6ms/step - loss: 0.3918 - accuracy: 0.8167\n",
      "Epoch 35/100\n",
      "94/94 [==============================] - 1s 6ms/step - loss: 0.3865 - accuracy: 0.8231\n",
      "Epoch 36/100\n",
      "94/94 [==============================] - 1s 6ms/step - loss: 0.3857 - accuracy: 0.8271\n",
      "Epoch 37/100\n",
      "94/94 [==============================] - 1s 6ms/step - loss: 0.3786 - accuracy: 0.8278\n",
      "Epoch 38/100\n",
      "94/94 [==============================] - 1s 6ms/step - loss: 0.3820 - accuracy: 0.8268\n",
      "Epoch 39/100\n",
      "94/94 [==============================] - 1s 6ms/step - loss: 0.3754 - accuracy: 0.8294\n",
      "Epoch 40/100\n",
      "94/94 [==============================] - 1s 6ms/step - loss: 0.3726 - accuracy: 0.8344\n",
      "Epoch 41/100\n",
      "94/94 [==============================] - 1s 6ms/step - loss: 0.3731 - accuracy: 0.8284\n",
      "Epoch 42/100\n",
      "94/94 [==============================] - 1s 6ms/step - loss: 0.3699 - accuracy: 0.8314\n",
      "Epoch 43/100\n",
      "94/94 [==============================] - 1s 6ms/step - loss: 0.3723 - accuracy: 0.8271\n",
      "Epoch 44/100\n",
      "94/94 [==============================] - 1s 6ms/step - loss: 0.3648 - accuracy: 0.8365\n",
      "Epoch 45/100\n",
      "94/94 [==============================] - 1s 7ms/step - loss: 0.3600 - accuracy: 0.8381\n",
      "Epoch 46/100\n",
      "94/94 [==============================] - 1s 7ms/step - loss: 0.3579 - accuracy: 0.8338\n",
      "Epoch 47/100\n",
      "94/94 [==============================] - 1s 6ms/step - loss: 0.3571 - accuracy: 0.8391\n",
      "Epoch 48/100\n",
      "94/94 [==============================] - 1s 6ms/step - loss: 0.3495 - accuracy: 0.8465\n",
      "Epoch 49/100\n",
      "94/94 [==============================] - 1s 6ms/step - loss: 0.3519 - accuracy: 0.8411\n",
      "Epoch 50/100\n",
      "94/94 [==============================] - 1s 6ms/step - loss: 0.3439 - accuracy: 0.8485\n",
      "Epoch 51/100\n",
      "94/94 [==============================] - 1s 6ms/step - loss: 0.3400 - accuracy: 0.8485\n",
      "Epoch 52/100\n",
      "94/94 [==============================] - 1s 6ms/step - loss: 0.3404 - accuracy: 0.8472\n",
      "Epoch 53/100\n",
      "94/94 [==============================] - 1s 6ms/step - loss: 0.3399 - accuracy: 0.8492\n",
      "Epoch 54/100\n",
      "94/94 [==============================] - 1s 6ms/step - loss: 0.3321 - accuracy: 0.8535\n",
      "Epoch 55/100\n",
      "94/94 [==============================] - 1s 6ms/step - loss: 0.3301 - accuracy: 0.8532\n",
      "Epoch 56/100\n",
      "94/94 [==============================] - 1s 6ms/step - loss: 0.3302 - accuracy: 0.8535\n",
      "Epoch 57/100\n",
      "94/94 [==============================] - 1s 6ms/step - loss: 0.3347 - accuracy: 0.8478\n",
      "Epoch 58/100\n",
      "94/94 [==============================] - 1s 7ms/step - loss: 0.3228 - accuracy: 0.8572\n",
      "Epoch 59/100\n",
      "94/94 [==============================] - 1s 6ms/step - loss: 0.3210 - accuracy: 0.8562\n",
      "Epoch 60/100\n",
      "94/94 [==============================] - 1s 7ms/step - loss: 0.3145 - accuracy: 0.8605\n",
      "Epoch 61/100\n",
      "94/94 [==============================] - 1s 6ms/step - loss: 0.3180 - accuracy: 0.8545\n",
      "Epoch 62/100\n",
      "94/94 [==============================] - 1s 6ms/step - loss: 0.3158 - accuracy: 0.8599\n",
      "Epoch 63/100\n",
      "94/94 [==============================] - 1s 6ms/step - loss: 0.3137 - accuracy: 0.8592\n",
      "Epoch 64/100\n",
      "94/94 [==============================] - 1s 6ms/step - loss: 0.3115 - accuracy: 0.8595\n",
      "Epoch 65/100\n",
      "94/94 [==============================] - 1s 6ms/step - loss: 0.3088 - accuracy: 0.8669\n",
      "Epoch 66/100\n",
      "94/94 [==============================] - 1s 6ms/step - loss: 0.3031 - accuracy: 0.8656\n",
      "Epoch 67/100\n",
      "94/94 [==============================] - 1s 6ms/step - loss: 0.3053 - accuracy: 0.8579\n",
      "Epoch 68/100\n",
      "94/94 [==============================] - 1s 7ms/step - loss: 0.2994 - accuracy: 0.8669\n",
      "Epoch 69/100\n",
      "94/94 [==============================] - 1s 6ms/step - loss: 0.3028 - accuracy: 0.8645\n",
      "Epoch 70/100\n",
      "94/94 [==============================] - 1s 6ms/step - loss: 0.2940 - accuracy: 0.8722\n",
      "Epoch 71/100\n",
      "94/94 [==============================] - 1s 6ms/step - loss: 0.2984 - accuracy: 0.8709\n",
      "Epoch 72/100\n",
      "94/94 [==============================] - 1s 6ms/step - loss: 0.2928 - accuracy: 0.8696\n",
      "Epoch 73/100\n",
      "94/94 [==============================] - 1s 7ms/step - loss: 0.2920 - accuracy: 0.8769\n",
      "Epoch 74/100\n",
      "94/94 [==============================] - 1s 6ms/step - loss: 0.2909 - accuracy: 0.8716\n",
      "Epoch 75/100\n",
      "94/94 [==============================] - 1s 6ms/step - loss: 0.2883 - accuracy: 0.8766\n",
      "Epoch 76/100\n",
      "94/94 [==============================] - 1s 6ms/step - loss: 0.2833 - accuracy: 0.8726\n",
      "Epoch 77/100\n",
      "94/94 [==============================] - 1s 6ms/step - loss: 0.2902 - accuracy: 0.8709\n",
      "Epoch 78/100\n",
      "94/94 [==============================] - 1s 6ms/step - loss: 0.2819 - accuracy: 0.8712\n",
      "Epoch 79/100\n",
      "94/94 [==============================] - 1s 6ms/step - loss: 0.2801 - accuracy: 0.8719\n",
      "Epoch 80/100\n",
      "94/94 [==============================] - 1s 7ms/step - loss: 0.2796 - accuracy: 0.8789\n",
      "Epoch 81/100\n",
      "94/94 [==============================] - 1s 6ms/step - loss: 0.2841 - accuracy: 0.8749\n",
      "Epoch 82/100\n",
      "94/94 [==============================] - 1s 6ms/step - loss: 0.2799 - accuracy: 0.8729\n",
      "Epoch 83/100\n"
     ]
    },
    {
     "name": "stdout",
     "output_type": "stream",
     "text": [
      "94/94 [==============================] - 1s 6ms/step - loss: 0.2764 - accuracy: 0.8779\n",
      "Epoch 84/100\n",
      "94/94 [==============================] - 1s 7ms/step - loss: 0.2703 - accuracy: 0.8833\n",
      "Epoch 85/100\n",
      "94/94 [==============================] - 1s 6ms/step - loss: 0.2662 - accuracy: 0.8816\n",
      "Epoch 86/100\n",
      "94/94 [==============================] - 1s 7ms/step - loss: 0.2654 - accuracy: 0.8849\n",
      "Epoch 87/100\n",
      "94/94 [==============================] - 1s 6ms/step - loss: 0.2649 - accuracy: 0.8826\n",
      "Epoch 88/100\n",
      "94/94 [==============================] - 1s 6ms/step - loss: 0.2645 - accuracy: 0.8809\n",
      "Epoch 89/100\n",
      "94/94 [==============================] - 1s 6ms/step - loss: 0.2618 - accuracy: 0.8883\n",
      "Epoch 90/100\n",
      "94/94 [==============================] - 1s 6ms/step - loss: 0.2642 - accuracy: 0.8766\n",
      "Epoch 91/100\n",
      "94/94 [==============================] - 1s 6ms/step - loss: 0.2628 - accuracy: 0.8843\n",
      "Epoch 92/100\n",
      "94/94 [==============================] - 1s 6ms/step - loss: 0.2533 - accuracy: 0.8950\n",
      "Epoch 93/100\n",
      "94/94 [==============================] - 1s 6ms/step - loss: 0.2556 - accuracy: 0.8846\n",
      "Epoch 94/100\n",
      "94/94 [==============================] - 1s 6ms/step - loss: 0.2532 - accuracy: 0.8896\n",
      "Epoch 95/100\n",
      "94/94 [==============================] - 1s 6ms/step - loss: 0.2543 - accuracy: 0.8900\n",
      "Epoch 96/100\n",
      "94/94 [==============================] - 1s 6ms/step - loss: 0.2539 - accuracy: 0.8920\n",
      "Epoch 97/100\n",
      "94/94 [==============================] - 1s 6ms/step - loss: 0.2486 - accuracy: 0.8880\n",
      "Epoch 98/100\n",
      "94/94 [==============================] - 1s 7ms/step - loss: 0.2492 - accuracy: 0.8860\n",
      "Epoch 99/100\n",
      "94/94 [==============================] - 1s 6ms/step - loss: 0.2488 - accuracy: 0.8880\n",
      "Epoch 100/100\n",
      "94/94 [==============================] - 1s 6ms/step - loss: 0.2467 - accuracy: 0.8893\n",
      "24/24 [==============================] - 0s 5ms/step\n",
      "Classification Report: \n",
      "               precision    recall  f1-score   support\n",
      "\n",
      "           0       0.73      0.72      0.73       378\n",
      "           1       0.72      0.74      0.73       370\n",
      "\n",
      "    accuracy                           0.73       748\n",
      "   macro avg       0.73      0.73      0.73       748\n",
      "weighted avg       0.73      0.73      0.73       748\n",
      "\n"
     ]
    },
    {
     "data": {
      "text/plain": [
       "0"
      ]
     },
     "execution_count": 64,
     "metadata": {},
     "output_type": "execute_result"
    }
   ],
   "source": [
    "ANN(X_train1,X_test1,y_train1,y_test1,\"binary_crossentropy\",-1)"
   ]
  },
  {
   "cell_type": "markdown",
   "id": "aef3e229",
   "metadata": {},
   "source": [
    "# Oversampling Technique"
   ]
  },
  {
   "cell_type": "code",
   "execution_count": 65,
   "id": "e6d282f4",
   "metadata": {},
   "outputs": [],
   "source": [
    "df1_churn_0=df1[df1[\"Churn\"]==0]\n",
    "df1_churn_1=df1[df1[\"Churn\"]==1]"
   ]
  },
  {
   "cell_type": "code",
   "execution_count": 66,
   "id": "189a6753",
   "metadata": {},
   "outputs": [],
   "source": [
    "df1_churn_1=df1_churn_1.sample(churn_0,replace=True)\n",
    "df3=pd.concat([df1_churn_0,df1_churn_1],axis=0)"
   ]
  },
  {
   "cell_type": "code",
   "execution_count": 67,
   "id": "a4db9598",
   "metadata": {},
   "outputs": [
    {
     "data": {
      "text/plain": [
       "0    5163\n",
       "1    5163\n",
       "Name: Churn, dtype: int64"
      ]
     },
     "execution_count": 67,
     "metadata": {},
     "output_type": "execute_result"
    }
   ],
   "source": [
    "df3[\"Churn\"].value_counts()"
   ]
  },
  {
   "cell_type": "code",
   "execution_count": 68,
   "id": "465cb2d5",
   "metadata": {},
   "outputs": [],
   "source": [
    "X2=df3.drop(\"Churn\",axis='columns')\n",
    "y2=df3[\"Churn\"]"
   ]
  },
  {
   "cell_type": "code",
   "execution_count": 69,
   "id": "c807ac18",
   "metadata": {},
   "outputs": [],
   "source": [
    "X_train2,X_test2,y_train2,y_test2=train_test_split(X2,y2,test_size=0.2,random_state=15)"
   ]
  },
  {
   "cell_type": "code",
   "execution_count": 70,
   "id": "c122bb0d",
   "metadata": {},
   "outputs": [
    {
     "data": {
      "text/plain": [
       "8260"
      ]
     },
     "execution_count": 70,
     "metadata": {},
     "output_type": "execute_result"
    }
   ],
   "source": [
    "len(X_train2)"
   ]
  },
  {
   "cell_type": "code",
   "execution_count": 71,
   "id": "943f2c93",
   "metadata": {},
   "outputs": [
    {
     "data": {
      "text/plain": [
       "2066"
      ]
     },
     "execution_count": 71,
     "metadata": {},
     "output_type": "execute_result"
    }
   ],
   "source": [
    "len(X_test2)"
   ]
  },
  {
   "cell_type": "code",
   "execution_count": 72,
   "id": "acd8206f",
   "metadata": {},
   "outputs": [
    {
     "data": {
      "text/plain": [
       "1    4145\n",
       "0    4115\n",
       "Name: Churn, dtype: int64"
      ]
     },
     "execution_count": 72,
     "metadata": {},
     "output_type": "execute_result"
    }
   ],
   "source": [
    "y_train2.value_counts()"
   ]
  },
  {
   "cell_type": "markdown",
   "id": "aefc9cda",
   "metadata": {},
   "source": [
    "## Now lets train the model"
   ]
  },
  {
   "cell_type": "code",
   "execution_count": 73,
   "id": "afd456d3",
   "metadata": {
    "scrolled": true
   },
   "outputs": [
    {
     "name": "stdout",
     "output_type": "stream",
     "text": [
      "Epoch 1/100\n",
      "259/259 [==============================] - 5s 7ms/step - loss: 0.5272 - accuracy: 0.7455\n",
      "Epoch 2/100\n",
      "259/259 [==============================] - 2s 7ms/step - loss: 0.4901 - accuracy: 0.7605\n",
      "Epoch 3/100\n",
      "259/259 [==============================] - 2s 6ms/step - loss: 0.4803 - accuracy: 0.7655\n",
      "Epoch 4/100\n",
      "259/259 [==============================] - 2s 7ms/step - loss: 0.4755 - accuracy: 0.7671\n",
      "Epoch 5/100\n",
      "259/259 [==============================] - 2s 6ms/step - loss: 0.4693 - accuracy: 0.7736\n",
      "Epoch 6/100\n",
      "259/259 [==============================] - 2s 7ms/step - loss: 0.4634 - accuracy: 0.7769\n",
      "Epoch 7/100\n",
      "259/259 [==============================] - 2s 8ms/step - loss: 0.4556 - accuracy: 0.7768\n",
      "Epoch 8/100\n",
      "259/259 [==============================] - 2s 7ms/step - loss: 0.4491 - accuracy: 0.7788\n",
      "Epoch 9/100\n",
      "259/259 [==============================] - 2s 7ms/step - loss: 0.4411 - accuracy: 0.7870\n",
      "Epoch 10/100\n",
      "259/259 [==============================] - 2s 6ms/step - loss: 0.4347 - accuracy: 0.7924\n",
      "Epoch 11/100\n",
      "259/259 [==============================] - 2s 7ms/step - loss: 0.4292 - accuracy: 0.7946\n",
      "Epoch 12/100\n",
      "259/259 [==============================] - 2s 7ms/step - loss: 0.4220 - accuracy: 0.7975\n",
      "Epoch 13/100\n",
      "259/259 [==============================] - 2s 7ms/step - loss: 0.4155 - accuracy: 0.8041\n",
      "Epoch 14/100\n",
      "259/259 [==============================] - 2s 7ms/step - loss: 0.4094 - accuracy: 0.8082\n",
      "Epoch 15/100\n",
      "259/259 [==============================] - 2s 7ms/step - loss: 0.4045 - accuracy: 0.8131\n",
      "Epoch 16/100\n",
      "259/259 [==============================] - 2s 7ms/step - loss: 0.4003 - accuracy: 0.8116\n",
      "Epoch 17/100\n",
      "259/259 [==============================] - 2s 9ms/step - loss: 0.3915 - accuracy: 0.8185\n",
      "Epoch 18/100\n",
      "259/259 [==============================] - 1s 5ms/step - loss: 0.3896 - accuracy: 0.8211\n",
      "Epoch 19/100\n",
      "259/259 [==============================] - 1s 5ms/step - loss: 0.3825 - accuracy: 0.8268\n",
      "Epoch 20/100\n",
      "259/259 [==============================] - 2s 6ms/step - loss: 0.3772 - accuracy: 0.8285\n",
      "Epoch 21/100\n",
      "259/259 [==============================] - 2s 7ms/step - loss: 0.3736 - accuracy: 0.8299\n",
      "Epoch 22/100\n",
      "259/259 [==============================] - 2s 8ms/step - loss: 0.3662 - accuracy: 0.8360\n",
      "Epoch 23/100\n",
      "259/259 [==============================] - 2s 6ms/step - loss: 0.3640 - accuracy: 0.8369\n",
      "Epoch 24/100\n",
      "259/259 [==============================] - 2s 7ms/step - loss: 0.3596 - accuracy: 0.8404\n",
      "Epoch 25/100\n",
      "259/259 [==============================] - 2s 7ms/step - loss: 0.3574 - accuracy: 0.8416\n",
      "Epoch 26/100\n",
      "259/259 [==============================] - 2s 7ms/step - loss: 0.3555 - accuracy: 0.8430\n",
      "Epoch 27/100\n",
      "259/259 [==============================] - 2s 6ms/step - loss: 0.3494 - accuracy: 0.8455\n",
      "Epoch 28/100\n",
      "259/259 [==============================] - 2s 6ms/step - loss: 0.3445 - accuracy: 0.8485\n",
      "Epoch 29/100\n",
      "259/259 [==============================] - 2s 6ms/step - loss: 0.3454 - accuracy: 0.8470\n",
      "Epoch 30/100\n",
      "259/259 [==============================] - 2s 6ms/step - loss: 0.3403 - accuracy: 0.8516\n",
      "Epoch 31/100\n",
      "259/259 [==============================] - 2s 6ms/step - loss: 0.3391 - accuracy: 0.8507\n",
      "Epoch 32/100\n",
      "259/259 [==============================] - 2s 6ms/step - loss: 0.3334 - accuracy: 0.8531\n",
      "Epoch 33/100\n",
      "259/259 [==============================] - 2s 6ms/step - loss: 0.3308 - accuracy: 0.8551\n",
      "Epoch 34/100\n",
      "259/259 [==============================] - 2s 6ms/step - loss: 0.3284 - accuracy: 0.8586\n",
      "Epoch 35/100\n",
      "259/259 [==============================] - 2s 6ms/step - loss: 0.3254 - accuracy: 0.8590\n",
      "Epoch 36/100\n",
      "259/259 [==============================] - 2s 6ms/step - loss: 0.3234 - accuracy: 0.8575\n",
      "Epoch 37/100\n",
      "259/259 [==============================] - 2s 6ms/step - loss: 0.3218 - accuracy: 0.8574\n",
      "Epoch 38/100\n",
      "259/259 [==============================] - 2s 6ms/step - loss: 0.3169 - accuracy: 0.8621\n",
      "Epoch 39/100\n",
      "259/259 [==============================] - 1s 6ms/step - loss: 0.3140 - accuracy: 0.8639\n",
      "Epoch 40/100\n",
      "259/259 [==============================] - 2s 6ms/step - loss: 0.3144 - accuracy: 0.8621\n",
      "Epoch 41/100\n",
      "259/259 [==============================] - 2s 6ms/step - loss: 0.3116 - accuracy: 0.8653\n",
      "Epoch 42/100\n",
      "259/259 [==============================] - 2s 6ms/step - loss: 0.3081 - accuracy: 0.8659\n",
      "Epoch 43/100\n",
      "259/259 [==============================] - 1s 6ms/step - loss: 0.3038 - accuracy: 0.8676\n",
      "Epoch 44/100\n",
      "259/259 [==============================] - 2s 7ms/step - loss: 0.3079 - accuracy: 0.8651\n",
      "Epoch 45/100\n",
      "259/259 [==============================] - 2s 6ms/step - loss: 0.3030 - accuracy: 0.8657\n",
      "Epoch 46/100\n",
      "259/259 [==============================] - 1s 6ms/step - loss: 0.2972 - accuracy: 0.8722\n",
      "Epoch 47/100\n",
      "259/259 [==============================] - 1s 6ms/step - loss: 0.2939 - accuracy: 0.8732\n",
      "Epoch 48/100\n",
      "259/259 [==============================] - 2s 6ms/step - loss: 0.2933 - accuracy: 0.8752\n",
      "Epoch 49/100\n",
      "259/259 [==============================] - 3s 10ms/step - loss: 0.2884 - accuracy: 0.8746\n",
      "Epoch 50/100\n",
      "259/259 [==============================] - 2s 8ms/step - loss: 0.2870 - accuracy: 0.8758\n",
      "Epoch 51/100\n",
      "259/259 [==============================] - 2s 6ms/step - loss: 0.2910 - accuracy: 0.8730\n",
      "Epoch 52/100\n",
      "259/259 [==============================] - 2s 6ms/step - loss: 0.2852 - accuracy: 0.8764\n",
      "Epoch 53/100\n",
      "259/259 [==============================] - 2s 6ms/step - loss: 0.2826 - accuracy: 0.8753\n",
      "Epoch 54/100\n",
      "259/259 [==============================] - 2s 6ms/step - loss: 0.2814 - accuracy: 0.8810\n",
      "Epoch 55/100\n",
      "259/259 [==============================] - 2s 6ms/step - loss: 0.2804 - accuracy: 0.8801\n",
      "Epoch 56/100\n",
      "259/259 [==============================] - 2s 6ms/step - loss: 0.2768 - accuracy: 0.8800\n",
      "Epoch 57/100\n",
      "259/259 [==============================] - 2s 6ms/step - loss: 0.2736 - accuracy: 0.8822\n",
      "Epoch 58/100\n",
      "259/259 [==============================] - 2s 6ms/step - loss: 0.2734 - accuracy: 0.8826\n",
      "Epoch 59/100\n",
      "259/259 [==============================] - 2s 6ms/step - loss: 0.2727 - accuracy: 0.8832\n",
      "Epoch 60/100\n",
      "259/259 [==============================] - 2s 6ms/step - loss: 0.2706 - accuracy: 0.8824\n",
      "Epoch 61/100\n",
      "259/259 [==============================] - 2s 6ms/step - loss: 0.2693 - accuracy: 0.8835\n",
      "Epoch 62/100\n",
      "259/259 [==============================] - 2s 6ms/step - loss: 0.2692 - accuracy: 0.8832\n",
      "Epoch 63/100\n",
      "259/259 [==============================] - 2s 6ms/step - loss: 0.2665 - accuracy: 0.8863\n",
      "Epoch 64/100\n",
      "259/259 [==============================] - 2s 6ms/step - loss: 0.2694 - accuracy: 0.8852\n",
      "Epoch 65/100\n",
      "259/259 [==============================] - 2s 6ms/step - loss: 0.2640 - accuracy: 0.8874\n",
      "Epoch 66/100\n",
      "259/259 [==============================] - 2s 6ms/step - loss: 0.2602 - accuracy: 0.8884\n",
      "Epoch 67/100\n",
      "259/259 [==============================] - 2s 6ms/step - loss: 0.2601 - accuracy: 0.8895\n",
      "Epoch 68/100\n",
      "259/259 [==============================] - 2s 6ms/step - loss: 0.2609 - accuracy: 0.8881\n",
      "Epoch 69/100\n",
      "259/259 [==============================] - 2s 6ms/step - loss: 0.2551 - accuracy: 0.8926\n",
      "Epoch 70/100\n",
      "259/259 [==============================] - 1s 6ms/step - loss: 0.2603 - accuracy: 0.8881\n",
      "Epoch 71/100\n",
      "259/259 [==============================] - 2s 6ms/step - loss: 0.2537 - accuracy: 0.8924\n",
      "Epoch 72/100\n",
      "259/259 [==============================] - 2s 7ms/step - loss: 0.2528 - accuracy: 0.8937\n",
      "Epoch 73/100\n",
      "259/259 [==============================] - 2s 6ms/step - loss: 0.2490 - accuracy: 0.8919\n",
      "Epoch 74/100\n",
      "259/259 [==============================] - 2s 6ms/step - loss: 0.2501 - accuracy: 0.8923\n",
      "Epoch 75/100\n",
      "259/259 [==============================] - 2s 6ms/step - loss: 0.2479 - accuracy: 0.8967\n",
      "Epoch 76/100\n",
      "259/259 [==============================] - 2s 6ms/step - loss: 0.2442 - accuracy: 0.8966\n",
      "Epoch 77/100\n",
      "259/259 [==============================] - 2s 6ms/step - loss: 0.2482 - accuracy: 0.8927\n",
      "Epoch 78/100\n",
      "259/259 [==============================] - 1s 6ms/step - loss: 0.2470 - accuracy: 0.8941\n",
      "Epoch 79/100\n",
      "259/259 [==============================] - 2s 7ms/step - loss: 0.2446 - accuracy: 0.8965\n",
      "Epoch 80/100\n",
      "259/259 [==============================] - 2s 6ms/step - loss: 0.2481 - accuracy: 0.8953\n",
      "Epoch 81/100\n",
      "259/259 [==============================] - 2s 6ms/step - loss: 0.2418 - accuracy: 0.8958\n",
      "Epoch 82/100\n",
      "259/259 [==============================] - 1s 6ms/step - loss: 0.2416 - accuracy: 0.8961\n",
      "Epoch 83/100\n",
      "259/259 [==============================] - 1s 6ms/step - loss: 0.2404 - accuracy: 0.9000\n",
      "Epoch 84/100\n",
      "259/259 [==============================] - 2s 6ms/step - loss: 0.2370 - accuracy: 0.9022\n",
      "Epoch 85/100\n",
      "259/259 [==============================] - 2s 6ms/step - loss: 0.2379 - accuracy: 0.8969\n",
      "Epoch 86/100\n",
      "259/259 [==============================] - 2s 6ms/step - loss: 0.2425 - accuracy: 0.8990\n",
      "Epoch 87/100\n",
      "259/259 [==============================] - 2s 6ms/step - loss: 0.2355 - accuracy: 0.8995\n",
      "Epoch 88/100\n",
      "259/259 [==============================] - 2s 6ms/step - loss: 0.2370 - accuracy: 0.9016\n",
      "Epoch 89/100\n",
      "259/259 [==============================] - 2s 6ms/step - loss: 0.2369 - accuracy: 0.9010\n",
      "Epoch 90/100\n",
      "259/259 [==============================] - 1s 6ms/step - loss: 0.2330 - accuracy: 0.9018\n",
      "Epoch 91/100\n",
      "259/259 [==============================] - 1s 6ms/step - loss: 0.2322 - accuracy: 0.9028\n",
      "Epoch 92/100\n",
      "259/259 [==============================] - 1s 5ms/step - loss: 0.2596 - accuracy: 0.8920\n",
      "Epoch 93/100\n",
      "259/259 [==============================] - 1s 6ms/step - loss: 0.2289 - accuracy: 0.9042\n",
      "Epoch 94/100\n",
      "259/259 [==============================] - 1s 6ms/step - loss: 0.2297 - accuracy: 0.9044\n",
      "Epoch 95/100\n",
      "259/259 [==============================] - 2s 6ms/step - loss: 0.2235 - accuracy: 0.9075\n",
      "Epoch 96/100\n",
      "259/259 [==============================] - 2s 6ms/step - loss: 0.2263 - accuracy: 0.9057\n",
      "Epoch 97/100\n",
      "259/259 [==============================] - 2s 6ms/step - loss: 0.2225 - accuracy: 0.9073\n",
      "Epoch 98/100\n",
      "259/259 [==============================] - 2s 6ms/step - loss: 0.2210 - accuracy: 0.9073\n",
      "Epoch 99/100\n",
      "259/259 [==============================] - 1s 6ms/step - loss: 0.2234 - accuracy: 0.9084\n",
      "Epoch 100/100\n",
      "259/259 [==============================] - 2s 6ms/step - loss: 0.2237 - accuracy: 0.9042\n",
      "65/65 [==============================] - 1s 5ms/step\n",
      "Classification Report: \n",
      "               precision    recall  f1-score   support\n",
      "\n",
      "           0       0.88      0.81      0.84      1048\n",
      "           1       0.82      0.89      0.85      1018\n",
      "\n",
      "    accuracy                           0.85      2066\n",
      "   macro avg       0.85      0.85      0.85      2066\n",
      "weighted avg       0.85      0.85      0.85      2066\n",
      "\n"
     ]
    },
    {
     "data": {
      "text/plain": [
       "0"
      ]
     },
     "execution_count": 73,
     "metadata": {},
     "output_type": "execute_result"
    }
   ],
   "source": [
    "ANN(X_train2,X_test2,y_train2,y_test2,\"binary_crossentropy\",-1)"
   ]
  },
  {
   "cell_type": "markdown",
   "id": "d3fcc281",
   "metadata": {},
   "source": [
    "# SMOTE"
   ]
  },
  {
   "cell_type": "code",
   "execution_count": 76,
   "id": "a1a6e5e1",
   "metadata": {},
   "outputs": [],
   "source": [
    "X3=df1.drop('Churn',axis=\"columns\")\n",
    "y3=df1[\"Churn\"]"
   ]
  },
  {
   "cell_type": "code",
   "execution_count": 80,
   "id": "9eaddb1b",
   "metadata": {
    "scrolled": true
   },
   "outputs": [
    {
     "data": {
      "text/plain": [
       "0    5163\n",
       "1    5163\n",
       "Name: Churn, dtype: int64"
      ]
     },
     "execution_count": 80,
     "metadata": {},
     "output_type": "execute_result"
    }
   ],
   "source": [
    "from imblearn.over_sampling import SMOTE\n",
    "\n",
    "smote = SMOTE(sampling_strategy='minority')\n",
    "X_sm, y_sm = smote.fit_resample(X3, y3)\n",
    "\n",
    "y_sm.value_counts()"
   ]
  },
  {
   "cell_type": "code",
   "execution_count": 85,
   "id": "1bcaf920",
   "metadata": {},
   "outputs": [],
   "source": [
    "X_train3,X_test3,y_train3,y_test3=train_test_split(X_sm,y_sm,test_size=0.2,random_state=15)"
   ]
  },
  {
   "cell_type": "code",
   "execution_count": 86,
   "id": "81d9033f",
   "metadata": {},
   "outputs": [
    {
     "data": {
      "text/plain": [
       "1    4174\n",
       "0    4086\n",
       "Name: Churn, dtype: int64"
      ]
     },
     "execution_count": 86,
     "metadata": {},
     "output_type": "execute_result"
    }
   ],
   "source": [
    "y_train3.value_counts()"
   ]
  },
  {
   "cell_type": "markdown",
   "id": "15be5993",
   "metadata": {},
   "source": [
    "## Lets train the model"
   ]
  },
  {
   "cell_type": "code",
   "execution_count": 87,
   "id": "5c40d3b8",
   "metadata": {
    "scrolled": true
   },
   "outputs": [
    {
     "name": "stdout",
     "output_type": "stream",
     "text": [
      "Epoch 1/100\n",
      "259/259 [==============================] - 5s 5ms/step - loss: 0.5248 - accuracy: 0.7367\n",
      "Epoch 2/100\n",
      "259/259 [==============================] - 1s 5ms/step - loss: 0.4645 - accuracy: 0.7833\n",
      "Epoch 3/100\n",
      "259/259 [==============================] - 1s 5ms/step - loss: 0.4550 - accuracy: 0.7868\n",
      "Epoch 4/100\n",
      "259/259 [==============================] - 4s 14ms/step - loss: 0.4459 - accuracy: 0.7926\n",
      "Epoch 5/100\n",
      "259/259 [==============================] - 2s 7ms/step - loss: 0.4401 - accuracy: 0.7942\n",
      "Epoch 6/100\n",
      "259/259 [==============================] - 1s 6ms/step - loss: 0.4320 - accuracy: 0.7995\n",
      "Epoch 7/100\n",
      "259/259 [==============================] - 2s 7ms/step - loss: 0.4254 - accuracy: 0.8036\n",
      "Epoch 8/100\n",
      "259/259 [==============================] - 1s 5ms/step - loss: 0.4187 - accuracy: 0.8077\n",
      "Epoch 9/100\n",
      "259/259 [==============================] - 1s 5ms/step - loss: 0.4130 - accuracy: 0.8108\n",
      "Epoch 10/100\n",
      "259/259 [==============================] - 2s 6ms/step - loss: 0.4041 - accuracy: 0.8154\n",
      "Epoch 11/100\n",
      "259/259 [==============================] - 2s 7ms/step - loss: 0.4011 - accuracy: 0.8177\n",
      "Epoch 12/100\n",
      "259/259 [==============================] - 2s 7ms/step - loss: 0.3938 - accuracy: 0.8230\n",
      "Epoch 13/100\n",
      "259/259 [==============================] - 2s 7ms/step - loss: 0.3898 - accuracy: 0.8245\n",
      "Epoch 14/100\n",
      "259/259 [==============================] - 2s 7ms/step - loss: 0.3842 - accuracy: 0.8265\n",
      "Epoch 15/100\n",
      "259/259 [==============================] - 2s 7ms/step - loss: 0.3795 - accuracy: 0.8299\n",
      "Epoch 16/100\n",
      "259/259 [==============================] - 2s 7ms/step - loss: 0.3770 - accuracy: 0.8349\n",
      "Epoch 17/100\n",
      "259/259 [==============================] - 2s 7ms/step - loss: 0.3710 - accuracy: 0.8349\n",
      "Epoch 18/100\n",
      "259/259 [==============================] - 2s 6ms/step - loss: 0.3706 - accuracy: 0.8354\n",
      "Epoch 19/100\n",
      "259/259 [==============================] - 2s 6ms/step - loss: 0.3638 - accuracy: 0.8414\n",
      "Epoch 20/100\n",
      "259/259 [==============================] - 2s 7ms/step - loss: 0.3618 - accuracy: 0.8418\n",
      "Epoch 21/100\n",
      "259/259 [==============================] - 2s 7ms/step - loss: 0.3591 - accuracy: 0.8425\n",
      "Epoch 22/100\n",
      "259/259 [==============================] - 2s 6ms/step - loss: 0.3529 - accuracy: 0.8460\n",
      "Epoch 23/100\n",
      "259/259 [==============================] - 2s 7ms/step - loss: 0.3531 - accuracy: 0.8459\n",
      "Epoch 24/100\n",
      "259/259 [==============================] - 2s 7ms/step - loss: 0.3476 - accuracy: 0.8465\n",
      "Epoch 25/100\n",
      "259/259 [==============================] - 2s 6ms/step - loss: 0.3455 - accuracy: 0.8473\n",
      "Epoch 26/100\n",
      "259/259 [==============================] - 2s 6ms/step - loss: 0.3419 - accuracy: 0.8493\n",
      "Epoch 27/100\n",
      "259/259 [==============================] - 2s 7ms/step - loss: 0.3393 - accuracy: 0.8500\n",
      "Epoch 28/100\n",
      "259/259 [==============================] - 2s 6ms/step - loss: 0.3354 - accuracy: 0.8535\n",
      "Epoch 29/100\n",
      "259/259 [==============================] - 2s 6ms/step - loss: 0.3365 - accuracy: 0.8523\n",
      "Epoch 30/100\n",
      "259/259 [==============================] - 2s 6ms/step - loss: 0.3321 - accuracy: 0.8569\n",
      "Epoch 31/100\n",
      "259/259 [==============================] - 2s 6ms/step - loss: 0.3318 - accuracy: 0.8551\n",
      "Epoch 32/100\n",
      "259/259 [==============================] - 2s 6ms/step - loss: 0.3261 - accuracy: 0.8573\n",
      "Epoch 33/100\n",
      "259/259 [==============================] - 2s 6ms/step - loss: 0.3275 - accuracy: 0.8584\n",
      "Epoch 34/100\n",
      "259/259 [==============================] - 2s 6ms/step - loss: 0.3236 - accuracy: 0.8596\n",
      "Epoch 35/100\n",
      "259/259 [==============================] - 2s 6ms/step - loss: 0.3238 - accuracy: 0.8614\n",
      "Epoch 36/100\n",
      "259/259 [==============================] - 2s 6ms/step - loss: 0.3187 - accuracy: 0.8591\n",
      "Epoch 37/100\n",
      "259/259 [==============================] - 2s 7ms/step - loss: 0.3196 - accuracy: 0.8621\n",
      "Epoch 38/100\n",
      "259/259 [==============================] - 2s 8ms/step - loss: 0.3210 - accuracy: 0.8616\n",
      "Epoch 39/100\n",
      "259/259 [==============================] - 2s 9ms/step - loss: 0.3105 - accuracy: 0.8685\n",
      "Epoch 40/100\n",
      "259/259 [==============================] - 2s 8ms/step - loss: 0.3116 - accuracy: 0.8661\n",
      "Epoch 41/100\n",
      "259/259 [==============================] - 2s 9ms/step - loss: 0.3064 - accuracy: 0.8676\n",
      "Epoch 42/100\n",
      "259/259 [==============================] - 2s 9ms/step - loss: 0.3070 - accuracy: 0.8651\n",
      "Epoch 43/100\n",
      "259/259 [==============================] - 2s 8ms/step - loss: 0.3035 - accuracy: 0.8671\n",
      "Epoch 44/100\n",
      "259/259 [==============================] - 2s 7ms/step - loss: 0.3044 - accuracy: 0.8724\n",
      "Epoch 45/100\n",
      "259/259 [==============================] - 2s 8ms/step - loss: 0.3011 - accuracy: 0.8703\n",
      "Epoch 46/100\n",
      "259/259 [==============================] - 1s 6ms/step - loss: 0.2972 - accuracy: 0.8724\n",
      "Epoch 47/100\n",
      "259/259 [==============================] - 2s 6ms/step - loss: 0.2994 - accuracy: 0.8697\n",
      "Epoch 48/100\n",
      "259/259 [==============================] - 2s 8ms/step - loss: 0.2998 - accuracy: 0.8720\n",
      "Epoch 49/100\n",
      "259/259 [==============================] - 2s 9ms/step - loss: 0.2992 - accuracy: 0.8702\n",
      "Epoch 50/100\n",
      "259/259 [==============================] - 2s 7ms/step - loss: 0.2964 - accuracy: 0.8741\n",
      "Epoch 51/100\n",
      "259/259 [==============================] - 2s 7ms/step - loss: 0.2916 - accuracy: 0.8740\n",
      "Epoch 52/100\n",
      "259/259 [==============================] - 2s 6ms/step - loss: 0.2934 - accuracy: 0.8715\n",
      "Epoch 53/100\n",
      "259/259 [==============================] - 2s 9ms/step - loss: 0.2901 - accuracy: 0.8770\n",
      "Epoch 54/100\n",
      "259/259 [==============================] - 2s 7ms/step - loss: 0.2943 - accuracy: 0.8743\n",
      "Epoch 55/100\n",
      "259/259 [==============================] - 2s 7ms/step - loss: 0.2861 - accuracy: 0.8775\n",
      "Epoch 56/100\n",
      "259/259 [==============================] - 2s 6ms/step - loss: 0.2850 - accuracy: 0.8778\n",
      "Epoch 57/100\n",
      "259/259 [==============================] - 2s 7ms/step - loss: 0.2854 - accuracy: 0.8823\n",
      "Epoch 58/100\n",
      "259/259 [==============================] - 2s 8ms/step - loss: 0.2841 - accuracy: 0.8764\n",
      "Epoch 59/100\n",
      "259/259 [==============================] - 2s 7ms/step - loss: 0.2815 - accuracy: 0.8764\n",
      "Epoch 60/100\n",
      "259/259 [==============================] - 2s 7ms/step - loss: 0.2790 - accuracy: 0.8808\n",
      "Epoch 61/100\n",
      "259/259 [==============================] - 2s 6ms/step - loss: 0.2792 - accuracy: 0.8840\n",
      "Epoch 62/100\n",
      "259/259 [==============================] - 2s 7ms/step - loss: 0.2751 - accuracy: 0.8820\n",
      "Epoch 63/100\n",
      "259/259 [==============================] - 2s 7ms/step - loss: 0.2805 - accuracy: 0.8806\n",
      "Epoch 64/100\n",
      "259/259 [==============================] - 2s 7ms/step - loss: 0.2720 - accuracy: 0.8847\n",
      "Epoch 65/100\n",
      "259/259 [==============================] - 2s 6ms/step - loss: 0.2700 - accuracy: 0.8869\n",
      "Epoch 66/100\n",
      "259/259 [==============================] - 2s 6ms/step - loss: 0.2745 - accuracy: 0.8834\n",
      "Epoch 67/100\n",
      "259/259 [==============================] - 2s 8ms/step - loss: 0.2708 - accuracy: 0.8855\n",
      "Epoch 68/100\n",
      "259/259 [==============================] - 1s 5ms/step - loss: 0.2711 - accuracy: 0.8879\n",
      "Epoch 69/100\n",
      "259/259 [==============================] - 2s 7ms/step - loss: 0.2688 - accuracy: 0.8839\n",
      "Epoch 70/100\n",
      "259/259 [==============================] - 2s 6ms/step - loss: 0.2677 - accuracy: 0.8874\n",
      "Epoch 71/100\n",
      "259/259 [==============================] - 2s 6ms/step - loss: 0.2673 - accuracy: 0.8846\n",
      "Epoch 72/100\n",
      "259/259 [==============================] - 2s 7ms/step - loss: 0.2682 - accuracy: 0.8864\n",
      "Epoch 73/100\n",
      "259/259 [==============================] - 2s 7ms/step - loss: 0.2643 - accuracy: 0.8907\n",
      "Epoch 74/100\n",
      "259/259 [==============================] - 2s 7ms/step - loss: 0.2619 - accuracy: 0.8881\n",
      "Epoch 75/100\n",
      "259/259 [==============================] - 2s 6ms/step - loss: 0.2599 - accuracy: 0.8898\n",
      "Epoch 76/100\n",
      "259/259 [==============================] - 2s 7ms/step - loss: 0.2590 - accuracy: 0.8909\n",
      "Epoch 77/100\n",
      "259/259 [==============================] - 2s 7ms/step - loss: 0.2533 - accuracy: 0.8938\n",
      "Epoch 78/100\n",
      "259/259 [==============================] - 2s 7ms/step - loss: 0.2546 - accuracy: 0.8970\n",
      "Epoch 79/100\n",
      "259/259 [==============================] - 2s 7ms/step - loss: 0.2597 - accuracy: 0.8903\n",
      "Epoch 80/100\n",
      "259/259 [==============================] - 2s 7ms/step - loss: 0.2543 - accuracy: 0.8916\n",
      "Epoch 81/100\n",
      "259/259 [==============================] - 1s 6ms/step - loss: 0.2542 - accuracy: 0.8948\n",
      "Epoch 82/100\n",
      "259/259 [==============================] - 2s 6ms/step - loss: 0.2510 - accuracy: 0.8947\n",
      "Epoch 83/100\n",
      "259/259 [==============================] - 2s 6ms/step - loss: 0.2491 - accuracy: 0.8976\n",
      "Epoch 84/100\n",
      "259/259 [==============================] - 1s 6ms/step - loss: 0.2497 - accuracy: 0.8981\n",
      "Epoch 85/100\n",
      "259/259 [==============================] - 2s 6ms/step - loss: 0.2481 - accuracy: 0.8953\n",
      "Epoch 86/100\n",
      "259/259 [==============================] - 2s 7ms/step - loss: 0.2485 - accuracy: 0.8942\n",
      "Epoch 87/100\n",
      "259/259 [==============================] - 2s 6ms/step - loss: 0.2477 - accuracy: 0.8962\n",
      "Epoch 88/100\n",
      "259/259 [==============================] - 2s 6ms/step - loss: 0.2453 - accuracy: 0.8959\n",
      "Epoch 89/100\n",
      "259/259 [==============================] - 2s 6ms/step - loss: 0.2458 - accuracy: 0.8960\n",
      "Epoch 90/100\n",
      "259/259 [==============================] - 2s 7ms/step - loss: 0.2445 - accuracy: 0.8976\n",
      "Epoch 91/100\n",
      "259/259 [==============================] - 2s 6ms/step - loss: 0.2413 - accuracy: 0.9005\n",
      "Epoch 92/100\n",
      "259/259 [==============================] - 2s 6ms/step - loss: 0.2421 - accuracy: 0.8977\n",
      "Epoch 93/100\n",
      "259/259 [==============================] - 2s 8ms/step - loss: 0.2388 - accuracy: 0.9022\n",
      "Epoch 94/100\n",
      "259/259 [==============================] - 2s 8ms/step - loss: 0.2367 - accuracy: 0.8988\n",
      "Epoch 95/100\n",
      "259/259 [==============================] - 2s 6ms/step - loss: 0.2355 - accuracy: 0.9017\n",
      "Epoch 96/100\n",
      "259/259 [==============================] - 2s 6ms/step - loss: 0.2456 - accuracy: 0.8983\n",
      "Epoch 97/100\n",
      "259/259 [==============================] - 2s 6ms/step - loss: 0.2359 - accuracy: 0.9027\n",
      "Epoch 98/100\n",
      "259/259 [==============================] - 2s 6ms/step - loss: 0.2385 - accuracy: 0.9010\n",
      "Epoch 99/100\n",
      "259/259 [==============================] - 2s 6ms/step - loss: 0.2374 - accuracy: 0.9013\n",
      "Epoch 100/100\n",
      "259/259 [==============================] - 2s 6ms/step - loss: 0.2332 - accuracy: 0.8993\n",
      "65/65 [==============================] - 1s 5ms/step\n",
      "Classification Report: \n",
      "               precision    recall  f1-score   support\n",
      "\n",
      "           0       0.85      0.74      0.79      1077\n",
      "           1       0.75      0.86      0.80       989\n",
      "\n",
      "    accuracy                           0.80      2066\n",
      "   macro avg       0.80      0.80      0.80      2066\n",
      "weighted avg       0.80      0.80      0.79      2066\n",
      "\n"
     ]
    },
    {
     "data": {
      "text/plain": [
       "0"
      ]
     },
     "execution_count": 87,
     "metadata": {},
     "output_type": "execute_result"
    }
   ],
   "source": [
    "ANN(X_train3,X_test3,y_train3,y_test3,\"binary_crossentropy\",-1)"
   ]
  },
  {
   "cell_type": "markdown",
   "id": "9261b08f",
   "metadata": {},
   "source": [
    "### SMOTE Oversampling Technique increases f1 score of minority class 1 from 0.47 to 0.80 (huge improvement) Also over all accuracy improves from 0.77 to 0.80"
   ]
  },
  {
   "cell_type": "markdown",
   "id": "ea60122b",
   "metadata": {},
   "source": [
    "# Use of Ensemble with Undersampling"
   ]
  },
  {
   "cell_type": "code",
   "execution_count": 98,
   "id": "ef58ac1c",
   "metadata": {},
   "outputs": [],
   "source": [
    "X=df1.drop(\"Churn\",axis=\"columns\")\n",
    "y=df1[\"Churn\"]"
   ]
  },
  {
   "cell_type": "code",
   "execution_count": 100,
   "id": "3286c8fc",
   "metadata": {},
   "outputs": [],
   "source": [
    "X_train,X_test,y_train,y_test=train_test_split(X,y,test_size=0.2,random_state=15)"
   ]
  },
  {
   "cell_type": "code",
   "execution_count": 102,
   "id": "46da2688",
   "metadata": {},
   "outputs": [
    {
     "data": {
      "text/plain": [
       "0    4123\n",
       "1    1502\n",
       "Name: Churn, dtype: int64"
      ]
     },
     "execution_count": 102,
     "metadata": {},
     "output_type": "execute_result"
    }
   ],
   "source": [
    "y_train.value_counts()"
   ]
  },
  {
   "cell_type": "code",
   "execution_count": 103,
   "id": "5a1c7305",
   "metadata": {},
   "outputs": [],
   "source": [
    "dfff=X_train.copy()\n",
    "dfff[\"Churn\"]=y_train"
   ]
  },
  {
   "cell_type": "code",
   "execution_count": 105,
   "id": "ef1e0871",
   "metadata": {},
   "outputs": [],
   "source": [
    "dfff_churn0=dfff[dfff[\"Churn\"]==0]\n",
    "dfff_churn1=dfff[dfff[\"Churn\"]==1]"
   ]
  },
  {
   "cell_type": "code",
   "execution_count": 108,
   "id": "af1f6d25",
   "metadata": {},
   "outputs": [],
   "source": [
    "def get_batch_size(df_majority,df_minority,start,end):\n",
    "    df_train=pd.concat([df_majority[start:end],df_minority],axis=0)\n",
    "    X_train=df_train.drop(\"Churn\",axis=\"columns\")\n",
    "    y_train=df_train[\"Churn\"]\n",
    "    return X_train,y_train"
   ]
  },
  {
   "cell_type": "code",
   "execution_count": 109,
   "id": "1dd157a8",
   "metadata": {},
   "outputs": [],
   "source": [
    "X_train,y_train=get_batch_size(dfff_churn0,dfff_churn1,0,1502)"
   ]
  },
  {
   "cell_type": "code",
   "execution_count": 110,
   "id": "255c286c",
   "metadata": {
    "scrolled": true
   },
   "outputs": [
    {
     "name": "stdout",
     "output_type": "stream",
     "text": [
      "Epoch 1/100\n",
      "94/94 [==============================] - 3s 6ms/step - loss: 0.5751 - accuracy: 0.7170\n",
      "Epoch 2/100\n",
      "94/94 [==============================] - 1s 6ms/step - loss: 0.5049 - accuracy: 0.7590\n",
      "Epoch 3/100\n",
      "94/94 [==============================] - 1s 6ms/step - loss: 0.4901 - accuracy: 0.7630\n",
      "Epoch 4/100\n",
      "94/94 [==============================] - 1s 6ms/step - loss: 0.4829 - accuracy: 0.7690\n",
      "Epoch 5/100\n",
      "94/94 [==============================] - 1s 6ms/step - loss: 0.4778 - accuracy: 0.7763\n",
      "Epoch 6/100\n",
      "94/94 [==============================] - 1s 6ms/step - loss: 0.4696 - accuracy: 0.7816\n",
      "Epoch 7/100\n",
      "94/94 [==============================] - 1s 6ms/step - loss: 0.4669 - accuracy: 0.7770\n",
      "Epoch 8/100\n",
      "94/94 [==============================] - 1s 6ms/step - loss: 0.4636 - accuracy: 0.7843\n",
      "Epoch 9/100\n",
      "94/94 [==============================] - 1s 6ms/step - loss: 0.4592 - accuracy: 0.7820\n",
      "Epoch 10/100\n",
      "94/94 [==============================] - 1s 6ms/step - loss: 0.4563 - accuracy: 0.7893\n",
      "Epoch 11/100\n",
      "94/94 [==============================] - 1s 10ms/step - loss: 0.4511 - accuracy: 0.7879\n",
      "Epoch 12/100\n",
      "94/94 [==============================] - 1s 7ms/step - loss: 0.4469 - accuracy: 0.7863\n",
      "Epoch 13/100\n",
      "94/94 [==============================] - 1s 8ms/step - loss: 0.4454 - accuracy: 0.7909\n",
      "Epoch 14/100\n",
      "94/94 [==============================] - 1s 7ms/step - loss: 0.4399 - accuracy: 0.7956\n",
      "Epoch 15/100\n",
      "94/94 [==============================] - 1s 6ms/step - loss: 0.4374 - accuracy: 0.7949\n",
      "Epoch 16/100\n",
      "94/94 [==============================] - 1s 6ms/step - loss: 0.4326 - accuracy: 0.7956\n",
      "Epoch 17/100\n",
      "94/94 [==============================] - 1s 6ms/step - loss: 0.4295 - accuracy: 0.7989\n",
      "Epoch 18/100\n",
      "94/94 [==============================] - 1s 8ms/step - loss: 0.4293 - accuracy: 0.7986\n",
      "Epoch 19/100\n",
      "94/94 [==============================] - 1s 8ms/step - loss: 0.4241 - accuracy: 0.8023\n",
      "Epoch 20/100\n",
      "94/94 [==============================] - 1s 7ms/step - loss: 0.4210 - accuracy: 0.8086\n",
      "Epoch 21/100\n",
      "94/94 [==============================] - 1s 7ms/step - loss: 0.4153 - accuracy: 0.8069\n",
      "Epoch 22/100\n",
      "94/94 [==============================] - 1s 7ms/step - loss: 0.4129 - accuracy: 0.8139\n",
      "Epoch 23/100\n",
      "94/94 [==============================] - 1s 7ms/step - loss: 0.4105 - accuracy: 0.8146\n",
      "Epoch 24/100\n",
      "94/94 [==============================] - 1s 7ms/step - loss: 0.4068 - accuracy: 0.8132\n",
      "Epoch 25/100\n",
      "94/94 [==============================] - 1s 7ms/step - loss: 0.4031 - accuracy: 0.8182\n",
      "Epoch 26/100\n",
      "94/94 [==============================] - 1s 6ms/step - loss: 0.4002 - accuracy: 0.8229\n",
      "Epoch 27/100\n",
      "94/94 [==============================] - 1s 6ms/step - loss: 0.3968 - accuracy: 0.8229\n",
      "Epoch 28/100\n",
      "94/94 [==============================] - 1s 6ms/step - loss: 0.3934 - accuracy: 0.8236\n",
      "Epoch 29/100\n",
      "94/94 [==============================] - 1s 6ms/step - loss: 0.3952 - accuracy: 0.8232\n",
      "Epoch 30/100\n",
      "94/94 [==============================] - 1s 6ms/step - loss: 0.3869 - accuracy: 0.8259\n",
      "Epoch 31/100\n",
      "94/94 [==============================] - 1s 6ms/step - loss: 0.3880 - accuracy: 0.8222\n",
      "Epoch 32/100\n",
      "94/94 [==============================] - 1s 7ms/step - loss: 0.3837 - accuracy: 0.8276\n",
      "Epoch 33/100\n",
      "94/94 [==============================] - 1s 6ms/step - loss: 0.3755 - accuracy: 0.8332\n",
      "Epoch 34/100\n",
      "94/94 [==============================] - 1s 7ms/step - loss: 0.3762 - accuracy: 0.8339\n",
      "Epoch 35/100\n",
      "94/94 [==============================] - 1s 7ms/step - loss: 0.3725 - accuracy: 0.8326\n",
      "Epoch 36/100\n",
      "94/94 [==============================] - 1s 8ms/step - loss: 0.3694 - accuracy: 0.8385\n",
      "Epoch 37/100\n",
      "94/94 [==============================] - 1s 6ms/step - loss: 0.3655 - accuracy: 0.8296\n",
      "Epoch 38/100\n",
      "94/94 [==============================] - 1s 6ms/step - loss: 0.3646 - accuracy: 0.8395\n",
      "Epoch 39/100\n",
      "94/94 [==============================] - 1s 7ms/step - loss: 0.3590 - accuracy: 0.8385\n",
      "Epoch 40/100\n",
      "94/94 [==============================] - 1s 6ms/step - loss: 0.3553 - accuracy: 0.8435\n",
      "Epoch 41/100\n",
      "94/94 [==============================] - 1s 6ms/step - loss: 0.3556 - accuracy: 0.8415\n",
      "Epoch 42/100\n",
      "94/94 [==============================] - 1s 6ms/step - loss: 0.3478 - accuracy: 0.8459\n",
      "Epoch 43/100\n",
      "94/94 [==============================] - 1s 6ms/step - loss: 0.3472 - accuracy: 0.8459\n",
      "Epoch 44/100\n",
      "94/94 [==============================] - 1s 6ms/step - loss: 0.3447 - accuracy: 0.8495\n",
      "Epoch 45/100\n",
      "94/94 [==============================] - 1s 6ms/step - loss: 0.3400 - accuracy: 0.8525\n",
      "Epoch 46/100\n",
      "94/94 [==============================] - 1s 6ms/step - loss: 0.3360 - accuracy: 0.8545\n",
      "Epoch 47/100\n",
      "94/94 [==============================] - 1s 6ms/step - loss: 0.3354 - accuracy: 0.8532\n",
      "Epoch 48/100\n",
      "94/94 [==============================] - 1s 6ms/step - loss: 0.3327 - accuracy: 0.8519\n",
      "Epoch 49/100\n",
      "94/94 [==============================] - 1s 6ms/step - loss: 0.3246 - accuracy: 0.8572\n",
      "Epoch 50/100\n",
      "94/94 [==============================] - 1s 6ms/step - loss: 0.3293 - accuracy: 0.8545\n",
      "Epoch 51/100\n",
      "94/94 [==============================] - 1s 6ms/step - loss: 0.3209 - accuracy: 0.8612\n",
      "Epoch 52/100\n",
      "94/94 [==============================] - 1s 7ms/step - loss: 0.3201 - accuracy: 0.8599\n",
      "Epoch 53/100\n",
      "94/94 [==============================] - 1s 6ms/step - loss: 0.3158 - accuracy: 0.8625\n",
      "Epoch 54/100\n",
      "94/94 [==============================] - 1s 6ms/step - loss: 0.3173 - accuracy: 0.8642\n",
      "Epoch 55/100\n",
      "94/94 [==============================] - 1s 6ms/step - loss: 0.3165 - accuracy: 0.8632\n",
      "Epoch 56/100\n",
      "94/94 [==============================] - 1s 6ms/step - loss: 0.3097 - accuracy: 0.8678\n",
      "Epoch 57/100\n",
      "94/94 [==============================] - 1s 6ms/step - loss: 0.3036 - accuracy: 0.8685\n",
      "Epoch 58/100\n",
      "94/94 [==============================] - 1s 6ms/step - loss: 0.3000 - accuracy: 0.8755\n",
      "Epoch 59/100\n",
      "94/94 [==============================] - 1s 7ms/step - loss: 0.2989 - accuracy: 0.8672\n",
      "Epoch 60/100\n",
      "94/94 [==============================] - 1s 7ms/step - loss: 0.2941 - accuracy: 0.8738\n",
      "Epoch 61/100\n",
      "94/94 [==============================] - 1s 7ms/step - loss: 0.2949 - accuracy: 0.8765\n",
      "Epoch 62/100\n",
      "94/94 [==============================] - 1s 8ms/step - loss: 0.2891 - accuracy: 0.8745\n",
      "Epoch 63/100\n",
      "94/94 [==============================] - 1s 7ms/step - loss: 0.2867 - accuracy: 0.8785\n",
      "Epoch 64/100\n",
      "94/94 [==============================] - 1s 7ms/step - loss: 0.2829 - accuracy: 0.8795\n",
      "Epoch 65/100\n",
      "94/94 [==============================] - 1s 8ms/step - loss: 0.2800 - accuracy: 0.8792\n",
      "Epoch 66/100\n",
      "94/94 [==============================] - 1s 7ms/step - loss: 0.2812 - accuracy: 0.8788\n",
      "Epoch 67/100\n",
      "94/94 [==============================] - 1s 6ms/step - loss: 0.2732 - accuracy: 0.8842\n",
      "Epoch 68/100\n",
      "94/94 [==============================] - 1s 6ms/step - loss: 0.2826 - accuracy: 0.8738\n",
      "Epoch 69/100\n",
      "94/94 [==============================] - 1s 6ms/step - loss: 0.2698 - accuracy: 0.8832\n",
      "Epoch 70/100\n",
      "94/94 [==============================] - 1s 7ms/step - loss: 0.2663 - accuracy: 0.8855\n",
      "Epoch 71/100\n",
      "94/94 [==============================] - 1s 7ms/step - loss: 0.2625 - accuracy: 0.8915\n",
      "Epoch 72/100\n",
      "94/94 [==============================] - 1s 6ms/step - loss: 0.2658 - accuracy: 0.8832\n",
      "Epoch 73/100\n",
      "94/94 [==============================] - 1s 6ms/step - loss: 0.2649 - accuracy: 0.8891\n",
      "Epoch 74/100\n",
      "94/94 [==============================] - 1s 6ms/step - loss: 0.2577 - accuracy: 0.8891\n",
      "Epoch 75/100\n",
      "94/94 [==============================] - 1s 6ms/step - loss: 0.2566 - accuracy: 0.8865\n",
      "Epoch 76/100\n",
      "94/94 [==============================] - 1s 6ms/step - loss: 0.2498 - accuracy: 0.8921\n",
      "Epoch 77/100\n",
      "94/94 [==============================] - 1s 6ms/step - loss: 0.2535 - accuracy: 0.8935\n",
      "Epoch 78/100\n",
      "94/94 [==============================] - 1s 6ms/step - loss: 0.2451 - accuracy: 0.8941\n",
      "Epoch 79/100\n",
      "94/94 [==============================] - 1s 6ms/step - loss: 0.2460 - accuracy: 0.8925\n",
      "Epoch 80/100\n",
      "94/94 [==============================] - 1s 7ms/step - loss: 0.2435 - accuracy: 0.8955\n",
      "Epoch 81/100\n",
      "94/94 [==============================] - 1s 7ms/step - loss: 0.2391 - accuracy: 0.8985\n",
      "Epoch 82/100\n",
      "94/94 [==============================] - 1s 6ms/step - loss: 0.2350 - accuracy: 0.9031\n",
      "Epoch 83/100\n"
     ]
    },
    {
     "name": "stdout",
     "output_type": "stream",
     "text": [
      "94/94 [==============================] - 1s 7ms/step - loss: 0.2346 - accuracy: 0.9011\n",
      "Epoch 84/100\n",
      "94/94 [==============================] - 1s 6ms/step - loss: 0.2386 - accuracy: 0.8965\n",
      "Epoch 85/100\n",
      "94/94 [==============================] - 1s 6ms/step - loss: 0.2361 - accuracy: 0.8988\n",
      "Epoch 86/100\n",
      "94/94 [==============================] - 1s 6ms/step - loss: 0.2308 - accuracy: 0.9038\n",
      "Epoch 87/100\n",
      "94/94 [==============================] - 1s 8ms/step - loss: 0.2277 - accuracy: 0.9018\n",
      "Epoch 88/100\n",
      "94/94 [==============================] - 1s 6ms/step - loss: 0.2231 - accuracy: 0.9061\n",
      "Epoch 89/100\n",
      "94/94 [==============================] - 1s 6ms/step - loss: 0.2240 - accuracy: 0.9001\n",
      "Epoch 90/100\n",
      "94/94 [==============================] - 1s 6ms/step - loss: 0.2177 - accuracy: 0.9115\n",
      "Epoch 91/100\n",
      "94/94 [==============================] - 1s 6ms/step - loss: 0.2241 - accuracy: 0.9035\n",
      "Epoch 92/100\n",
      "94/94 [==============================] - 1s 7ms/step - loss: 0.2148 - accuracy: 0.9091\n",
      "Epoch 93/100\n",
      "94/94 [==============================] - 1s 6ms/step - loss: 0.2120 - accuracy: 0.9138\n",
      "Epoch 94/100\n",
      "94/94 [==============================] - 1s 5ms/step - loss: 0.2207 - accuracy: 0.8985\n",
      "Epoch 95/100\n",
      "94/94 [==============================] - 1s 6ms/step - loss: 0.2127 - accuracy: 0.9061\n",
      "Epoch 96/100\n",
      "94/94 [==============================] - 1s 6ms/step - loss: 0.2113 - accuracy: 0.9085\n",
      "Epoch 97/100\n",
      "94/94 [==============================] - 1s 6ms/step - loss: 0.2070 - accuracy: 0.9148\n",
      "Epoch 98/100\n",
      "94/94 [==============================] - 1s 6ms/step - loss: 0.2086 - accuracy: 0.9151\n",
      "Epoch 99/100\n",
      "94/94 [==============================] - 1s 6ms/step - loss: 0.2058 - accuracy: 0.9111\n",
      "Epoch 100/100\n",
      "94/94 [==============================] - 1s 6ms/step - loss: 0.2011 - accuracy: 0.9158\n",
      "44/44 [==============================] - 0s 4ms/step\n",
      "Classification Report: \n",
      "               precision    recall  f1-score   support\n",
      "\n",
      "           0       0.87      0.70      0.78      1040\n",
      "           1       0.45      0.71      0.56       367\n",
      "\n",
      "    accuracy                           0.70      1407\n",
      "   macro avg       0.66      0.71      0.67      1407\n",
      "weighted avg       0.76      0.70      0.72      1407\n",
      "\n"
     ]
    },
    {
     "data": {
      "text/plain": [
       "0"
      ]
     },
     "execution_count": 110,
     "metadata": {},
     "output_type": "execute_result"
    }
   ],
   "source": [
    "ANN(X_train,X_test,y_train,y_test,\"binary_crossentropy\",-1)"
   ]
  },
  {
   "cell_type": "code",
   "execution_count": 111,
   "id": "34ec9a29",
   "metadata": {},
   "outputs": [],
   "source": [
    "X_train,y_train=get_batch_size(dfff_churn0,dfff_churn1,1503,3004)"
   ]
  },
  {
   "cell_type": "code",
   "execution_count": 112,
   "id": "a23f62ff",
   "metadata": {
    "scrolled": true
   },
   "outputs": [
    {
     "name": "stdout",
     "output_type": "stream",
     "text": [
      "Epoch 1/100\n",
      "94/94 [==============================] - 4s 7ms/step - loss: 0.6046 - accuracy: 0.6950\n",
      "Epoch 2/100\n",
      "94/94 [==============================] - 1s 6ms/step - loss: 0.5008 - accuracy: 0.7649\n",
      "Epoch 3/100\n",
      "94/94 [==============================] - 1s 6ms/step - loss: 0.4883 - accuracy: 0.7709\n",
      "Epoch 4/100\n",
      "94/94 [==============================] - 1s 6ms/step - loss: 0.4834 - accuracy: 0.7739\n",
      "Epoch 5/100\n",
      "94/94 [==============================] - 1s 7ms/step - loss: 0.4790 - accuracy: 0.7706\n",
      "Epoch 6/100\n",
      "94/94 [==============================] - 1s 8ms/step - loss: 0.4760 - accuracy: 0.7749\n",
      "Epoch 7/100\n",
      "94/94 [==============================] - 1s 7ms/step - loss: 0.4733 - accuracy: 0.7759\n",
      "Epoch 8/100\n",
      "94/94 [==============================] - 1s 6ms/step - loss: 0.4682 - accuracy: 0.7796\n",
      "Epoch 9/100\n",
      "94/94 [==============================] - 1s 7ms/step - loss: 0.4654 - accuracy: 0.7792\n",
      "Epoch 10/100\n",
      "94/94 [==============================] - 1s 8ms/step - loss: 0.4599 - accuracy: 0.7849\n",
      "Epoch 11/100\n",
      "94/94 [==============================] - 1s 7ms/step - loss: 0.4591 - accuracy: 0.7859\n",
      "Epoch 12/100\n",
      "94/94 [==============================] - 1s 6ms/step - loss: 0.4535 - accuracy: 0.7832\n",
      "Epoch 13/100\n",
      "94/94 [==============================] - 1s 6ms/step - loss: 0.4500 - accuracy: 0.7872\n",
      "Epoch 14/100\n",
      "94/94 [==============================] - 1s 7ms/step - loss: 0.4459 - accuracy: 0.7939\n",
      "Epoch 15/100\n",
      "94/94 [==============================] - 1s 7ms/step - loss: 0.4434 - accuracy: 0.7949\n",
      "Epoch 16/100\n",
      "94/94 [==============================] - 1s 7ms/step - loss: 0.4404 - accuracy: 0.7979\n",
      "Epoch 17/100\n",
      "94/94 [==============================] - 1s 7ms/step - loss: 0.4381 - accuracy: 0.7959\n",
      "Epoch 18/100\n",
      "94/94 [==============================] - 1s 6ms/step - loss: 0.4361 - accuracy: 0.8005\n",
      "Epoch 19/100\n",
      "94/94 [==============================] - 1s 6ms/step - loss: 0.4302 - accuracy: 0.7945\n",
      "Epoch 20/100\n",
      "94/94 [==============================] - 1s 6ms/step - loss: 0.4284 - accuracy: 0.8005\n",
      "Epoch 21/100\n",
      "94/94 [==============================] - 1s 6ms/step - loss: 0.4198 - accuracy: 0.8045\n",
      "Epoch 22/100\n",
      "94/94 [==============================] - 1s 8ms/step - loss: 0.4182 - accuracy: 0.8059\n",
      "Epoch 23/100\n",
      "94/94 [==============================] - 1s 8ms/step - loss: 0.4135 - accuracy: 0.8072\n",
      "Epoch 24/100\n",
      "94/94 [==============================] - 1s 6ms/step - loss: 0.4127 - accuracy: 0.8075\n",
      "Epoch 25/100\n",
      "94/94 [==============================] - 1s 8ms/step - loss: 0.4071 - accuracy: 0.8132\n",
      "Epoch 26/100\n",
      "94/94 [==============================] - 1s 7ms/step - loss: 0.4028 - accuracy: 0.8155\n",
      "Epoch 27/100\n",
      "94/94 [==============================] - 1s 7ms/step - loss: 0.3971 - accuracy: 0.8168\n",
      "Epoch 28/100\n",
      "94/94 [==============================] - 1s 7ms/step - loss: 0.3942 - accuracy: 0.8212\n",
      "Epoch 29/100\n",
      "94/94 [==============================] - 1s 7ms/step - loss: 0.3907 - accuracy: 0.8248\n",
      "Epoch 30/100\n",
      "94/94 [==============================] - 1s 7ms/step - loss: 0.3846 - accuracy: 0.8302\n",
      "Epoch 31/100\n",
      "94/94 [==============================] - 1s 7ms/step - loss: 0.3832 - accuracy: 0.8272\n",
      "Epoch 32/100\n",
      "94/94 [==============================] - 1s 6ms/step - loss: 0.3769 - accuracy: 0.8298\n",
      "Epoch 33/100\n",
      "94/94 [==============================] - 1s 7ms/step - loss: 0.3733 - accuracy: 0.8352\n",
      "Epoch 34/100\n",
      "94/94 [==============================] - 1s 7ms/step - loss: 0.3698 - accuracy: 0.8342\n",
      "Epoch 35/100\n",
      "94/94 [==============================] - 1s 7ms/step - loss: 0.3712 - accuracy: 0.8372\n",
      "Epoch 36/100\n",
      "94/94 [==============================] - 1s 6ms/step - loss: 0.3608 - accuracy: 0.8458\n",
      "Epoch 37/100\n",
      "94/94 [==============================] - 1s 5ms/step - loss: 0.3607 - accuracy: 0.8435\n",
      "Epoch 38/100\n",
      "94/94 [==============================] - 1s 6ms/step - loss: 0.3603 - accuracy: 0.8412\n",
      "Epoch 39/100\n",
      "94/94 [==============================] - 0s 5ms/step - loss: 0.3510 - accuracy: 0.8432\n",
      "Epoch 40/100\n",
      "94/94 [==============================] - 0s 5ms/step - loss: 0.3505 - accuracy: 0.8418\n",
      "Epoch 41/100\n",
      "94/94 [==============================] - 0s 5ms/step - loss: 0.3460 - accuracy: 0.8472\n",
      "Epoch 42/100\n",
      "94/94 [==============================] - 1s 6ms/step - loss: 0.3430 - accuracy: 0.8521\n",
      "Epoch 43/100\n",
      "94/94 [==============================] - 0s 5ms/step - loss: 0.3353 - accuracy: 0.8568\n",
      "Epoch 44/100\n",
      "94/94 [==============================] - 0s 5ms/step - loss: 0.3397 - accuracy: 0.8565\n",
      "Epoch 45/100\n",
      "94/94 [==============================] - 0s 5ms/step - loss: 0.3316 - accuracy: 0.8541\n",
      "Epoch 46/100\n",
      "94/94 [==============================] - 0s 5ms/step - loss: 0.3345 - accuracy: 0.8528\n",
      "Epoch 47/100\n",
      "94/94 [==============================] - 0s 5ms/step - loss: 0.3260 - accuracy: 0.8651\n",
      "Epoch 48/100\n",
      "94/94 [==============================] - 0s 5ms/step - loss: 0.3183 - accuracy: 0.8628\n",
      "Epoch 49/100\n",
      "94/94 [==============================] - 0s 5ms/step - loss: 0.3240 - accuracy: 0.8591\n",
      "Epoch 50/100\n",
      "94/94 [==============================] - 0s 5ms/step - loss: 0.3172 - accuracy: 0.8671\n",
      "Epoch 51/100\n",
      "94/94 [==============================] - 0s 5ms/step - loss: 0.3118 - accuracy: 0.8671\n",
      "Epoch 52/100\n",
      "94/94 [==============================] - 0s 5ms/step - loss: 0.3109 - accuracy: 0.8638\n",
      "Epoch 53/100\n",
      "94/94 [==============================] - 0s 5ms/step - loss: 0.3096 - accuracy: 0.8731\n",
      "Epoch 54/100\n",
      "94/94 [==============================] - 0s 5ms/step - loss: 0.3107 - accuracy: 0.8685\n",
      "Epoch 55/100\n",
      "94/94 [==============================] - 0s 5ms/step - loss: 0.3000 - accuracy: 0.8758\n",
      "Epoch 56/100\n",
      "94/94 [==============================] - 0s 5ms/step - loss: 0.2990 - accuracy: 0.8755\n",
      "Epoch 57/100\n",
      "94/94 [==============================] - 1s 6ms/step - loss: 0.2959 - accuracy: 0.8765\n",
      "Epoch 58/100\n",
      "94/94 [==============================] - 1s 7ms/step - loss: 0.2939 - accuracy: 0.8755\n",
      "Epoch 59/100\n",
      "94/94 [==============================] - 1s 7ms/step - loss: 0.2869 - accuracy: 0.8801\n",
      "Epoch 60/100\n",
      "94/94 [==============================] - 1s 6ms/step - loss: 0.2895 - accuracy: 0.8795\n",
      "Epoch 61/100\n",
      "94/94 [==============================] - 1s 6ms/step - loss: 0.2895 - accuracy: 0.8761\n",
      "Epoch 62/100\n",
      "94/94 [==============================] - 1s 6ms/step - loss: 0.2794 - accuracy: 0.8844\n",
      "Epoch 63/100\n",
      "94/94 [==============================] - 0s 5ms/step - loss: 0.2802 - accuracy: 0.8798\n",
      "Epoch 64/100\n",
      "94/94 [==============================] - 0s 5ms/step - loss: 0.2802 - accuracy: 0.8761\n",
      "Epoch 65/100\n",
      "94/94 [==============================] - 0s 5ms/step - loss: 0.2831 - accuracy: 0.8818\n",
      "Epoch 66/100\n",
      "94/94 [==============================] - 1s 5ms/step - loss: 0.2734 - accuracy: 0.8838\n",
      "Epoch 67/100\n",
      "94/94 [==============================] - 0s 5ms/step - loss: 0.2671 - accuracy: 0.8898\n",
      "Epoch 68/100\n",
      "94/94 [==============================] - 0s 5ms/step - loss: 0.2652 - accuracy: 0.8911\n",
      "Epoch 69/100\n",
      "94/94 [==============================] - 0s 5ms/step - loss: 0.2673 - accuracy: 0.8898\n",
      "Epoch 70/100\n",
      "94/94 [==============================] - 0s 5ms/step - loss: 0.2653 - accuracy: 0.8868\n",
      "Epoch 71/100\n",
      "94/94 [==============================] - 0s 5ms/step - loss: 0.2598 - accuracy: 0.8948\n",
      "Epoch 72/100\n",
      "94/94 [==============================] - 0s 5ms/step - loss: 0.2593 - accuracy: 0.8921\n",
      "Epoch 73/100\n",
      "94/94 [==============================] - 0s 5ms/step - loss: 0.2512 - accuracy: 0.8944\n",
      "Epoch 74/100\n",
      "94/94 [==============================] - 0s 5ms/step - loss: 0.2602 - accuracy: 0.8901\n",
      "Epoch 75/100\n",
      "94/94 [==============================] - 0s 5ms/step - loss: 0.2521 - accuracy: 0.8978\n",
      "Epoch 76/100\n",
      "94/94 [==============================] - 0s 5ms/step - loss: 0.2447 - accuracy: 0.8984\n",
      "Epoch 77/100\n",
      "94/94 [==============================] - 0s 5ms/step - loss: 0.2442 - accuracy: 0.8994\n",
      "Epoch 78/100\n",
      "94/94 [==============================] - 0s 5ms/step - loss: 0.2402 - accuracy: 0.9014\n",
      "Epoch 79/100\n",
      "94/94 [==============================] - 0s 5ms/step - loss: 0.2452 - accuracy: 0.8954\n",
      "Epoch 80/100\n",
      "94/94 [==============================] - 0s 5ms/step - loss: 0.2390 - accuracy: 0.9068\n",
      "Epoch 81/100\n",
      "94/94 [==============================] - 0s 5ms/step - loss: 0.2445 - accuracy: 0.8968\n",
      "Epoch 82/100\n",
      "94/94 [==============================] - 0s 5ms/step - loss: 0.2375 - accuracy: 0.9028\n",
      "Epoch 83/100\n"
     ]
    },
    {
     "name": "stdout",
     "output_type": "stream",
     "text": [
      "94/94 [==============================] - 0s 5ms/step - loss: 0.2344 - accuracy: 0.9011\n",
      "Epoch 84/100\n",
      "94/94 [==============================] - 0s 5ms/step - loss: 0.2329 - accuracy: 0.9034\n",
      "Epoch 85/100\n",
      "94/94 [==============================] - 0s 5ms/step - loss: 0.2306 - accuracy: 0.9118\n",
      "Epoch 86/100\n",
      "94/94 [==============================] - 0s 5ms/step - loss: 0.2351 - accuracy: 0.9028\n",
      "Epoch 87/100\n",
      "94/94 [==============================] - 0s 5ms/step - loss: 0.2233 - accuracy: 0.9081\n",
      "Epoch 88/100\n",
      "94/94 [==============================] - 0s 5ms/step - loss: 0.2299 - accuracy: 0.9101\n",
      "Epoch 89/100\n",
      "94/94 [==============================] - 0s 5ms/step - loss: 0.2232 - accuracy: 0.9074\n",
      "Epoch 90/100\n",
      "94/94 [==============================] - 0s 5ms/step - loss: 0.2181 - accuracy: 0.9131\n",
      "Epoch 91/100\n",
      "94/94 [==============================] - 0s 5ms/step - loss: 0.2251 - accuracy: 0.9008\n",
      "Epoch 92/100\n",
      "94/94 [==============================] - 0s 5ms/step - loss: 0.2206 - accuracy: 0.9111\n",
      "Epoch 93/100\n",
      "94/94 [==============================] - 0s 5ms/step - loss: 0.2139 - accuracy: 0.9167\n",
      "Epoch 94/100\n",
      "94/94 [==============================] - 0s 5ms/step - loss: 0.2208 - accuracy: 0.9074\n",
      "Epoch 95/100\n",
      "94/94 [==============================] - 0s 5ms/step - loss: 0.2113 - accuracy: 0.9101\n",
      "Epoch 96/100\n",
      "94/94 [==============================] - 0s 5ms/step - loss: 0.2111 - accuracy: 0.9197\n",
      "Epoch 97/100\n",
      "94/94 [==============================] - 0s 5ms/step - loss: 0.2103 - accuracy: 0.9174\n",
      "Epoch 98/100\n",
      "94/94 [==============================] - 0s 5ms/step - loss: 0.2131 - accuracy: 0.9111\n",
      "Epoch 99/100\n",
      "94/94 [==============================] - 0s 5ms/step - loss: 0.2078 - accuracy: 0.9151\n",
      "Epoch 100/100\n",
      "94/94 [==============================] - 0s 5ms/step - loss: 0.2055 - accuracy: 0.9174\n",
      "44/44 [==============================] - 0s 3ms/step\n",
      "Classification Report: \n",
      "               precision    recall  f1-score   support\n",
      "\n",
      "           0       0.88      0.68      0.76      1040\n",
      "           1       0.44      0.73      0.55       367\n",
      "\n",
      "    accuracy                           0.69      1407\n",
      "   macro avg       0.66      0.70      0.66      1407\n",
      "weighted avg       0.76      0.69      0.71      1407\n",
      "\n"
     ]
    },
    {
     "data": {
      "text/plain": [
       "0"
      ]
     },
     "execution_count": 112,
     "metadata": {},
     "output_type": "execute_result"
    }
   ],
   "source": [
    "ANN(X_train,X_test,y_train,y_test,\"binary_crossentropy\",-1)"
   ]
  },
  {
   "cell_type": "code",
   "execution_count": 113,
   "id": "ed6ed4a0",
   "metadata": {},
   "outputs": [],
   "source": [
    "X_train,y_train=get_batch_size(dfff_churn0,dfff_churn1,3005,4123)"
   ]
  },
  {
   "cell_type": "code",
   "execution_count": 114,
   "id": "137c979e",
   "metadata": {
    "scrolled": true
   },
   "outputs": [
    {
     "name": "stdout",
     "output_type": "stream",
     "text": [
      "Epoch 1/100\n",
      "82/82 [==============================] - 7s 20ms/step - loss: 0.6039 - accuracy: 0.7019\n",
      "Epoch 2/100\n",
      "82/82 [==============================] - 1s 18ms/step - loss: 0.5089 - accuracy: 0.7603\n",
      "Epoch 3/100\n",
      "82/82 [==============================] - 1s 10ms/step - loss: 0.4902 - accuracy: 0.7592\n",
      "Epoch 4/100\n",
      "82/82 [==============================] - 1s 11ms/step - loss: 0.4858 - accuracy: 0.7645\n",
      "Epoch 5/100\n",
      "82/82 [==============================] - 1s 9ms/step - loss: 0.4801 - accuracy: 0.7725\n",
      "Epoch 6/100\n",
      "82/82 [==============================] - 1s 8ms/step - loss: 0.4754 - accuracy: 0.7752\n",
      "Epoch 7/100\n",
      "82/82 [==============================] - 1s 9ms/step - loss: 0.4703 - accuracy: 0.7779\n",
      "Epoch 8/100\n",
      "82/82 [==============================] - 1s 10ms/step - loss: 0.4679 - accuracy: 0.7802\n",
      "Epoch 9/100\n",
      "82/82 [==============================] - 1s 10ms/step - loss: 0.4669 - accuracy: 0.7840\n",
      "Epoch 10/100\n",
      "82/82 [==============================] - 1s 10ms/step - loss: 0.4641 - accuracy: 0.7809\n",
      "Epoch 11/100\n",
      "82/82 [==============================] - 1s 11ms/step - loss: 0.4592 - accuracy: 0.7840\n",
      "Epoch 12/100\n",
      "82/82 [==============================] - 1s 10ms/step - loss: 0.4578 - accuracy: 0.7901\n",
      "Epoch 13/100\n",
      "82/82 [==============================] - 1s 10ms/step - loss: 0.4528 - accuracy: 0.7924\n",
      "Epoch 14/100\n",
      "82/82 [==============================] - 1s 9ms/step - loss: 0.4504 - accuracy: 0.7866\n",
      "Epoch 15/100\n",
      "82/82 [==============================] - 1s 9ms/step - loss: 0.4489 - accuracy: 0.7912\n",
      "Epoch 16/100\n",
      "82/82 [==============================] - 1s 9ms/step - loss: 0.4438 - accuracy: 0.7966\n",
      "Epoch 17/100\n",
      "82/82 [==============================] - 1s 12ms/step - loss: 0.4387 - accuracy: 0.7958\n",
      "Epoch 18/100\n",
      "82/82 [==============================] - 1s 10ms/step - loss: 0.4405 - accuracy: 0.7973\n",
      "Epoch 19/100\n",
      "82/82 [==============================] - 1s 9ms/step - loss: 0.4357 - accuracy: 0.8023\n",
      "Epoch 20/100\n",
      "82/82 [==============================] - 1s 9ms/step - loss: 0.4325 - accuracy: 0.8069\n",
      "Epoch 21/100\n",
      "82/82 [==============================] - 1s 9ms/step - loss: 0.4288 - accuracy: 0.8042\n",
      "Epoch 22/100\n",
      "82/82 [==============================] - 1s 10ms/step - loss: 0.4245 - accuracy: 0.8061\n",
      "Epoch 23/100\n",
      "82/82 [==============================] - 1s 10ms/step - loss: 0.4215 - accuracy: 0.8099\n",
      "Epoch 24/100\n",
      "82/82 [==============================] - 1s 8ms/step - loss: 0.4180 - accuracy: 0.8088\n",
      "Epoch 25/100\n",
      "82/82 [==============================] - 1s 8ms/step - loss: 0.4179 - accuracy: 0.8137\n",
      "Epoch 26/100\n",
      "82/82 [==============================] - 1s 8ms/step - loss: 0.4108 - accuracy: 0.8156\n",
      "Epoch 27/100\n",
      "82/82 [==============================] - 1s 8ms/step - loss: 0.4166 - accuracy: 0.8130\n",
      "Epoch 28/100\n",
      "82/82 [==============================] - 1s 9ms/step - loss: 0.4063 - accuracy: 0.8248\n",
      "Epoch 29/100\n",
      "82/82 [==============================] - 1s 8ms/step - loss: 0.4054 - accuracy: 0.8206\n",
      "Epoch 30/100\n",
      "82/82 [==============================] - 1s 8ms/step - loss: 0.3990 - accuracy: 0.8252\n",
      "Epoch 31/100\n",
      "82/82 [==============================] - 1s 8ms/step - loss: 0.3950 - accuracy: 0.8275\n",
      "Epoch 32/100\n",
      "82/82 [==============================] - 1s 7ms/step - loss: 0.3953 - accuracy: 0.8248\n",
      "Epoch 33/100\n",
      "82/82 [==============================] - 1s 8ms/step - loss: 0.3921 - accuracy: 0.8317\n",
      "Epoch 34/100\n",
      "82/82 [==============================] - 1s 8ms/step - loss: 0.3847 - accuracy: 0.8370\n",
      "Epoch 35/100\n",
      "82/82 [==============================] - 1s 8ms/step - loss: 0.3827 - accuracy: 0.8332\n",
      "Epoch 36/100\n",
      "82/82 [==============================] - 1s 9ms/step - loss: 0.3797 - accuracy: 0.8393\n",
      "Epoch 37/100\n",
      "82/82 [==============================] - 1s 9ms/step - loss: 0.3735 - accuracy: 0.8389\n",
      "Epoch 38/100\n",
      "82/82 [==============================] - 1s 9ms/step - loss: 0.3746 - accuracy: 0.8359\n",
      "Epoch 39/100\n",
      "82/82 [==============================] - 1s 9ms/step - loss: 0.3688 - accuracy: 0.8477\n",
      "Epoch 40/100\n",
      "82/82 [==============================] - 1s 9ms/step - loss: 0.3698 - accuracy: 0.8427\n",
      "Epoch 41/100\n",
      "82/82 [==============================] - 1s 9ms/step - loss: 0.3662 - accuracy: 0.8408\n",
      "Epoch 42/100\n",
      "82/82 [==============================] - 1s 9ms/step - loss: 0.3580 - accuracy: 0.8431\n",
      "Epoch 43/100\n",
      "82/82 [==============================] - 1s 9ms/step - loss: 0.3584 - accuracy: 0.8542\n",
      "Epoch 44/100\n",
      "82/82 [==============================] - 1s 10ms/step - loss: 0.3522 - accuracy: 0.8485\n",
      "Epoch 45/100\n",
      "82/82 [==============================] - 1s 9ms/step - loss: 0.3497 - accuracy: 0.8538\n",
      "Epoch 46/100\n",
      "82/82 [==============================] - 1s 10ms/step - loss: 0.3470 - accuracy: 0.8489\n",
      "Epoch 47/100\n",
      "82/82 [==============================] - 1s 10ms/step - loss: 0.3404 - accuracy: 0.8592\n",
      "Epoch 48/100\n",
      "82/82 [==============================] - 1s 8ms/step - loss: 0.3432 - accuracy: 0.8534\n",
      "Epoch 49/100\n",
      "82/82 [==============================] - 1s 9ms/step - loss: 0.3382 - accuracy: 0.8595\n",
      "Epoch 50/100\n",
      "82/82 [==============================] - 1s 8ms/step - loss: 0.3307 - accuracy: 0.8645\n",
      "Epoch 51/100\n",
      "82/82 [==============================] - 1s 9ms/step - loss: 0.3297 - accuracy: 0.8637\n",
      "Epoch 52/100\n",
      "82/82 [==============================] - 1s 8ms/step - loss: 0.3247 - accuracy: 0.8656\n",
      "Epoch 53/100\n",
      "82/82 [==============================] - 1s 8ms/step - loss: 0.3213 - accuracy: 0.8637\n",
      "Epoch 54/100\n",
      "82/82 [==============================] - 1s 8ms/step - loss: 0.3194 - accuracy: 0.8683\n",
      "Epoch 55/100\n",
      "82/82 [==============================] - 1s 8ms/step - loss: 0.3134 - accuracy: 0.8748\n",
      "Epoch 56/100\n",
      "82/82 [==============================] - 1s 8ms/step - loss: 0.3102 - accuracy: 0.8760\n",
      "Epoch 57/100\n",
      "82/82 [==============================] - 1s 9ms/step - loss: 0.3084 - accuracy: 0.8737\n",
      "Epoch 58/100\n",
      "82/82 [==============================] - 1s 8ms/step - loss: 0.3069 - accuracy: 0.8752\n",
      "Epoch 59/100\n",
      "82/82 [==============================] - 1s 9ms/step - loss: 0.2989 - accuracy: 0.8824\n",
      "Epoch 60/100\n",
      "82/82 [==============================] - 1s 8ms/step - loss: 0.3032 - accuracy: 0.8782\n",
      "Epoch 61/100\n",
      "82/82 [==============================] - 1s 8ms/step - loss: 0.2983 - accuracy: 0.8802\n",
      "Epoch 62/100\n",
      "82/82 [==============================] - 1s 10ms/step - loss: 0.2969 - accuracy: 0.8851\n",
      "Epoch 63/100\n",
      "82/82 [==============================] - 1s 8ms/step - loss: 0.2893 - accuracy: 0.8859\n",
      "Epoch 64/100\n",
      "82/82 [==============================] - 1s 9ms/step - loss: 0.2892 - accuracy: 0.8874\n",
      "Epoch 65/100\n",
      "82/82 [==============================] - 1s 8ms/step - loss: 0.2852 - accuracy: 0.8870\n",
      "Epoch 66/100\n",
      "82/82 [==============================] - 1s 9ms/step - loss: 0.2862 - accuracy: 0.8893\n",
      "Epoch 67/100\n",
      "82/82 [==============================] - 1s 12ms/step - loss: 0.2828 - accuracy: 0.8847\n",
      "Epoch 68/100\n",
      "82/82 [==============================] - 1s 9ms/step - loss: 0.2765 - accuracy: 0.8954\n",
      "Epoch 69/100\n",
      "82/82 [==============================] - 1s 9ms/step - loss: 0.2743 - accuracy: 0.8916\n",
      "Epoch 70/100\n",
      "82/82 [==============================] - 1s 9ms/step - loss: 0.2698 - accuracy: 0.8977\n",
      "Epoch 71/100\n",
      "82/82 [==============================] - 1s 9ms/step - loss: 0.2692 - accuracy: 0.8977\n",
      "Epoch 72/100\n",
      "82/82 [==============================] - 1s 8ms/step - loss: 0.2684 - accuracy: 0.8989\n",
      "Epoch 73/100\n",
      "82/82 [==============================] - 1s 9ms/step - loss: 0.2677 - accuracy: 0.8912\n",
      "Epoch 74/100\n",
      "82/82 [==============================] - 1s 9ms/step - loss: 0.2641 - accuracy: 0.8947\n",
      "Epoch 75/100\n",
      "82/82 [==============================] - 1s 10ms/step - loss: 0.2603 - accuracy: 0.9008\n",
      "Epoch 76/100\n",
      "82/82 [==============================] - 1s 8ms/step - loss: 0.2597 - accuracy: 0.8962\n",
      "Epoch 77/100\n",
      "82/82 [==============================] - 1s 9ms/step - loss: 0.2593 - accuracy: 0.8992\n",
      "Epoch 78/100\n",
      "82/82 [==============================] - 1s 8ms/step - loss: 0.2536 - accuracy: 0.9038\n",
      "Epoch 79/100\n",
      "82/82 [==============================] - 1s 8ms/step - loss: 0.2507 - accuracy: 0.9061\n",
      "Epoch 80/100\n",
      "82/82 [==============================] - 1s 9ms/step - loss: 0.2499 - accuracy: 0.9027\n",
      "Epoch 81/100\n",
      "82/82 [==============================] - 1s 8ms/step - loss: 0.2487 - accuracy: 0.9038\n",
      "Epoch 82/100\n",
      "82/82 [==============================] - 1s 8ms/step - loss: 0.2474 - accuracy: 0.9069\n",
      "Epoch 83/100\n",
      "82/82 [==============================] - 1s 8ms/step - loss: 0.2428 - accuracy: 0.9038\n",
      "Epoch 84/100\n",
      "82/82 [==============================] - 1s 9ms/step - loss: 0.2430 - accuracy: 0.9069\n",
      "Epoch 85/100\n",
      "82/82 [==============================] - 1s 7ms/step - loss: 0.2425 - accuracy: 0.9061\n",
      "Epoch 86/100\n",
      "82/82 [==============================] - 1s 9ms/step - loss: 0.2377 - accuracy: 0.9118\n",
      "Epoch 87/100\n",
      "82/82 [==============================] - 1s 9ms/step - loss: 0.2340 - accuracy: 0.9176\n",
      "Epoch 88/100\n",
      "82/82 [==============================] - 1s 9ms/step - loss: 0.2364 - accuracy: 0.9092\n",
      "Epoch 89/100\n",
      "82/82 [==============================] - 1s 10ms/step - loss: 0.2329 - accuracy: 0.9160\n",
      "Epoch 90/100\n",
      "82/82 [==============================] - 1s 8ms/step - loss: 0.2288 - accuracy: 0.9160\n",
      "Epoch 91/100\n",
      "82/82 [==============================] - 1s 13ms/step - loss: 0.2326 - accuracy: 0.9145\n",
      "Epoch 92/100\n",
      "82/82 [==============================] - 1s 11ms/step - loss: 0.2272 - accuracy: 0.9179\n",
      "Epoch 93/100\n",
      "82/82 [==============================] - 1s 8ms/step - loss: 0.2260 - accuracy: 0.9160\n",
      "Epoch 94/100\n",
      "82/82 [==============================] - 1s 8ms/step - loss: 0.2302 - accuracy: 0.9107\n",
      "Epoch 95/100\n",
      "82/82 [==============================] - 1s 8ms/step - loss: 0.2245 - accuracy: 0.9168\n",
      "Epoch 96/100\n",
      "82/82 [==============================] - 1s 7ms/step - loss: 0.2201 - accuracy: 0.9202\n",
      "Epoch 97/100\n",
      "82/82 [==============================] - 1s 8ms/step - loss: 0.2247 - accuracy: 0.9145\n",
      "Epoch 98/100\n",
      "82/82 [==============================] - 1s 8ms/step - loss: 0.2161 - accuracy: 0.9214\n",
      "Epoch 99/100\n",
      "82/82 [==============================] - 1s 8ms/step - loss: 0.2191 - accuracy: 0.9229\n",
      "Epoch 100/100\n",
      "82/82 [==============================] - 1s 8ms/step - loss: 0.2167 - accuracy: 0.9160\n",
      "44/44 [==============================] - 0s 6ms/step\n",
      "Classification Report: \n",
      "               precision    recall  f1-score   support\n",
      "\n",
      "           0       0.88      0.67      0.76      1040\n",
      "           1       0.44      0.74      0.55       367\n",
      "\n",
      "    accuracy                           0.69      1407\n",
      "   macro avg       0.66      0.71      0.66      1407\n",
      "weighted avg       0.77      0.69      0.71      1407\n",
      "\n"
     ]
    },
    {
     "data": {
      "text/plain": [
       "0"
      ]
     },
     "execution_count": 114,
     "metadata": {},
     "output_type": "execute_result"
    }
   ],
   "source": [
    "ANN(X_train,X_test,y_train,y_test,\"binary_crossentropy\",-1)"
   ]
  },
  {
   "cell_type": "code",
   "execution_count": 116,
   "id": "69fb9a57",
   "metadata": {},
   "outputs": [
    {
     "name": "stdout",
     "output_type": "stream",
     "text": [
      "44/44 [==============================] - 0s 6ms/step\n"
     ]
    }
   ],
   "source": [
    "y_pred=model.predict(X_test)"
   ]
  },
  {
   "cell_type": "code",
   "execution_count": 131,
   "id": "dca7034a",
   "metadata": {},
   "outputs": [
    {
     "data": {
      "text/plain": [
       "array([5.0701910e-08, 3.4508889e-03, 2.4986668e-02, ..., 3.6885908e-01,\n",
       "       3.5940964e-05, 1.2039634e-03], dtype=float32)"
      ]
     },
     "execution_count": 131,
     "metadata": {},
     "output_type": "execute_result"
    }
   ],
   "source": [
    "y_pred_final=y_pred.reshape(-1)\n",
    "y_pred_final"
   ]
  },
  {
   "cell_type": "code",
   "execution_count": 135,
   "id": "e0afca5e",
   "metadata": {},
   "outputs": [],
   "source": [
    "for i in range(len(y_pred_final)):\n",
    "    if y_pred_final[i]>=0.5:\n",
    "        y_pred_final[i]=1\n",
    "    else:\n",
    "        y_pred_final[i]=0\n",
    "    "
   ]
  },
  {
   "cell_type": "code",
   "execution_count": 136,
   "id": "e772cd6d",
   "metadata": {},
   "outputs": [
    {
     "name": "stdout",
     "output_type": "stream",
     "text": [
      "              precision    recall  f1-score   support\n",
      "\n",
      "           0       0.87      0.96      0.91      1040\n",
      "           1       0.83      0.60      0.70       367\n",
      "\n",
      "    accuracy                           0.86      1407\n",
      "   macro avg       0.85      0.78      0.80      1407\n",
      "weighted avg       0.86      0.86      0.86      1407\n",
      "\n"
     ]
    }
   ],
   "source": [
    "print(classification_report(y_test,y_pred))"
   ]
  }
 ],
 "metadata": {
  "kernelspec": {
   "display_name": "Python 3 (ipykernel)",
   "language": "python",
   "name": "python3"
  },
  "language_info": {
   "codemirror_mode": {
    "name": "ipython",
    "version": 3
   },
   "file_extension": ".py",
   "mimetype": "text/x-python",
   "name": "python",
   "nbconvert_exporter": "python",
   "pygments_lexer": "ipython3",
   "version": "3.10.7"
  }
 },
 "nbformat": 4,
 "nbformat_minor": 5
}
